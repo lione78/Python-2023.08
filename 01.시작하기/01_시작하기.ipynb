{
  "nbformat": 4,
  "nbformat_minor": 0,
  "metadata": {
    "colab": {
      "provenance": []
    },
    "kernelspec": {
      "name": "python3",
      "display_name": "Python 3"
    },
    "language_info": {
      "name": "python"
    }
  },
  "cells": [
    {
      "cell_type": "markdown",
      "source": [
        "# 파이썬 시작하기"
      ],
      "metadata": {
        "id": "H2xV9W5Rjk2E"
      }
    },
    {
      "cell_type": "code",
      "source": [
        "# 2023년 8월 현재 Colab에 설치되어 있는 파이썬 버전 확인\n",
        "!python --version"
      ],
      "metadata": {
        "colab": {
          "base_uri": "https://localhost:8080/"
        },
        "id": "PCwN64hV9TJe",
        "outputId": "fa079116-72e5-4162-ba67-4c5eb3c38f77"
      },
      "execution_count": 16,
      "outputs": [
        {
          "output_type": "stream",
          "name": "stdout",
          "text": [
            "Python 3.10.12\n"
          ]
        }
      ]
    },
    {
      "cell_type": "markdown",
      "source": [
        "### 1. 세미 콜론(;)"
      ],
      "metadata": {
        "id": "OeZXwti-j560"
      }
    },
    {
      "cell_type": "markdown",
      "source": [],
      "metadata": {
        "id": "DJivwPuHj_bt"
      }
    },
    {
      "cell_type": "markdown",
      "source": [
        "# 파이썬 시작하기"
      ],
      "metadata": {
        "id": "X9--2Q97kSB8"
      }
    },
    {
      "cell_type": "markdown",
      "source": [
        "### 1. 세미 콜론(;)"
      ],
      "metadata": {
        "id": "2uBp1rZskY90"
      }
    },
    {
      "cell_type": "code",
      "source": [
        "# 문장 끝에 세미콜론(;)을 붙이지 않는다\n",
        "print('Hello')"
      ],
      "metadata": {
        "colab": {
          "base_uri": "https://localhost:8080/"
        },
        "id": "Eh0hQgFrkbjz",
        "outputId": "fc8c3b4c-888e-4f14-e0ae-203a1481e8e9"
      },
      "execution_count": 6,
      "outputs": [
        {
          "output_type": "stream",
          "name": "stdout",
          "text": [
            "Hello\n"
          ]
        }
      ]
    },
    {
      "cell_type": "code",
      "source": [
        "# 한 줄에 여러 문장을 사용할 경우에는 세미콜론을 사용함\n",
        "print('Hello'); print('World')"
      ],
      "metadata": {
        "colab": {
          "base_uri": "https://localhost:8080/"
        },
        "id": "npwFC2ESknv0",
        "outputId": "9ec26658-f6b5-41d4-bca5-eaea71730014"
      },
      "execution_count": 8,
      "outputs": [
        {
          "output_type": "stream",
          "name": "stdout",
          "text": [
            "Hello\n",
            "World\n"
          ]
        }
      ]
    },
    {
      "cell_type": "markdown",
      "source": [
        "### 2. 주석(Comment)"
      ],
      "metadata": {
        "id": "G7Tt_L9Ak6it"
      }
    },
    {
      "cell_type": "code",
      "source": [
        "# 한 줄짜리 주석\n",
        "print('Hello')    # 문장 뒤에 사용하는 주석"
      ],
      "metadata": {
        "colab": {
          "base_uri": "https://localhost:8080/"
        },
        "id": "Oj9wjhZak-IN",
        "outputId": "f07ffaa2-c124-4182-aaf9-f1c75d1a015f"
      },
      "execution_count": 9,
      "outputs": [
        {
          "output_type": "stream",
          "name": "stdout",
          "text": [
            "Hello\n"
          ]
        }
      ]
    },
    {
      "cell_type": "code",
      "source": [
        "# 여러줄의 주석\n",
        "# 여러줄의 주석\n",
        "'''\n",
        "원래는 멀티 라인 문자열로 사용됨\n",
        "주석으로도 사용됨\n",
        "'''"
      ],
      "metadata": {
        "colab": {
          "base_uri": "https://localhost:8080/",
          "height": 35
        },
        "id": "6CF_1PcDlNsW",
        "outputId": "0ac6ef04-4a6e-4e49-bb23-3714e3d4ea11"
      },
      "execution_count": 10,
      "outputs": [
        {
          "output_type": "execute_result",
          "data": {
            "text/plain": [
              "'\\n원래는 멀티 라인 문자열로 사용됨\\n주석으로도 사용됨\\n'"
            ],
            "application/vnd.google.colaboratory.intrinsic+json": {
              "type": "string"
            }
          },
          "metadata": {},
          "execution_count": 10
        }
      ]
    },
    {
      "cell_type": "code",
      "source": [
        "# \"\"\" \"\"\" 도 ''' '''과 동일하게 사용됨"
      ],
      "metadata": {
        "id": "mcADSItYlmBl"
      },
      "execution_count": 11,
      "outputs": []
    },
    {
      "cell_type": "markdown",
      "source": [
        "### 3. 들여쓰기(Indentation)"
      ],
      "metadata": {
        "id": "SeTnD0sNmPVD"
      }
    },
    {
      "cell_type": "code",
      "source": [
        "num = 3\n",
        "if num % 2 == 1:\n",
        "  print('홀수')"
      ],
      "metadata": {
        "colab": {
          "base_uri": "https://localhost:8080/"
        },
        "id": "czcnTRwQlyXN",
        "outputId": "2fab7222-96ac-47c6-913f-82f3a92d9031"
      },
      "execution_count": 12,
      "outputs": [
        {
          "output_type": "stream",
          "name": "stdout",
          "text": [
            "홀수\n"
          ]
        }
      ]
    },
    {
      "cell_type": "code",
      "source": [
        "sum = 0\n",
        "for i in range(1, 11) :\n",
        "    sum += i\n",
        "    print('for loop이 돌 때마자 찍힘:', sum)\n",
        "print('for loop이 끝난 후 찍힘:', sum)"
      ],
      "metadata": {
        "colab": {
          "base_uri": "https://localhost:8080/"
        },
        "id": "dMOj55TmnKzM",
        "outputId": "07c9b27e-ada5-4458-8e61-540a02aaaae1"
      },
      "execution_count": 14,
      "outputs": [
        {
          "output_type": "stream",
          "name": "stdout",
          "text": [
            "for loop이 돌 때마자 찍힘: 1\n",
            "for loop이 돌 때마자 찍힘: 3\n",
            "for loop이 돌 때마자 찍힘: 6\n",
            "for loop이 돌 때마자 찍힘: 10\n",
            "for loop이 돌 때마자 찍힘: 15\n",
            "for loop이 돌 때마자 찍힘: 21\n",
            "for loop이 돌 때마자 찍힘: 28\n",
            "for loop이 돌 때마자 찍힘: 36\n",
            "for loop이 돌 때마자 찍힘: 45\n",
            "for loop이 돌 때마자 찍힘: 55\n",
            "for loop이 끝난 후 찍힘: 55\n"
          ]
        }
      ]
    },
    {
      "cell_type": "markdown",
      "source": [
        "# 4. 코드 블록"
      ],
      "metadata": {
        "id": "cDWiodhfsDfM"
      }
    },
    {
      "cell_type": "code",
      "source": [
        "# 콜론(:)과 이후 들여쓰기로 코드 블록이 결정됨\n",
        "if sum % 2 == 1:\n",
        "    print(sum)\n",
        "    print('홀수입니다.')"
      ],
      "metadata": {
        "colab": {
          "base_uri": "https://localhost:8080/"
        },
        "id": "rumkpRg7sIK7",
        "outputId": "c94afdbf-b6c7-4b4c-9c19-fa0310485ac7"
      },
      "execution_count": 15,
      "outputs": [
        {
          "output_type": "stream",
          "name": "stdout",
          "text": [
            "55\n",
            "홀수입니다.\n"
          ]
        }
      ]
    },
    {
      "cell_type": "code",
      "source": [],
      "metadata": {
        "id": "95KqEG27skbF"
      },
      "execution_count": null,
      "outputs": []
    }
  ]
}