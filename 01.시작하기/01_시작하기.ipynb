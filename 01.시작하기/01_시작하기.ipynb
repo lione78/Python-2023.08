{
  "cells": [
    {
      "cell_type": "markdown",
      "metadata": {
        "id": "H2xV9W5Rjk2E"
      },
      "source": [
        "# 파이썬 시작하기"
      ]
    },
    {
      "cell_type": "code",
      "execution_count": 16,
      "metadata": {
        "colab": {
          "base_uri": "https://localhost:8080/"
        },
        "id": "PCwN64hV9TJe",
        "outputId": "fa079116-72e5-4162-ba67-4c5eb3c38f77"
      },
      "outputs": [
        {
          "name": "stdout",
          "output_type": "stream",
          "text": [
            "Python 3.10.12\n"
          ]
        }
      ],
      "source": [
        "# 2023년 8월 현재 Colab에 설치되어 있는 파이썬 버전 확인\n",
        "!python --version"
      ]
    },
    {
      "cell_type": "markdown",
      "metadata": {
        "id": "OeZXwti-j560"
      },
      "source": [
        "### 1. 세미 콜론(;)"
      ]
    },
    {
      "cell_type": "markdown",
      "metadata": {
        "id": "DJivwPuHj_bt"
      },
      "source": []
    },
    {
      "cell_type": "markdown",
      "metadata": {
        "id": "X9--2Q97kSB8"
      },
      "source": [
        "# 파이썬 시작하기"
      ]
    },
    {
      "cell_type": "markdown",
      "metadata": {
        "id": "2uBp1rZskY90"
      },
      "source": [
        "### 1. 세미 콜론(;)"
      ]
    },
    {
      "cell_type": "code",
      "execution_count": 6,
      "metadata": {
        "colab": {
          "base_uri": "https://localhost:8080/"
        },
        "id": "Eh0hQgFrkbjz",
        "outputId": "fc8c3b4c-888e-4f14-e0ae-203a1481e8e9"
      },
      "outputs": [
        {
          "name": "stdout",
          "output_type": "stream",
          "text": [
            "Hello\n"
          ]
        }
      ],
      "source": [
        "# 문장 끝에 세미콜론(;)을 붙이지 않는다\n",
        "print('Hello')"
      ]
    },
    {
      "cell_type": "code",
      "execution_count": 8,
      "metadata": {
        "colab": {
          "base_uri": "https://localhost:8080/"
        },
        "id": "npwFC2ESknv0",
        "outputId": "9ec26658-f6b5-41d4-bca5-eaea71730014"
      },
      "outputs": [
        {
          "name": "stdout",
          "output_type": "stream",
          "text": [
            "Hello\n",
            "World\n"
          ]
        }
      ],
      "source": [
        "# 한 줄에 여러 문장을 사용할 경우에는 세미콜론을 사용함\n",
        "print('Hello'); print('World')"
      ]
    },
    {
      "cell_type": "markdown",
      "metadata": {
        "id": "G7Tt_L9Ak6it"
      },
      "source": [
        "### 2. 주석(Comment)"
      ]
    },
    {
      "cell_type": "code",
      "execution_count": 9,
      "metadata": {
        "colab": {
          "base_uri": "https://localhost:8080/"
        },
        "id": "Oj9wjhZak-IN",
        "outputId": "f07ffaa2-c124-4182-aaf9-f1c75d1a015f"
      },
      "outputs": [
        {
          "name": "stdout",
          "output_type": "stream",
          "text": [
            "Hello\n"
          ]
        }
      ],
      "source": [
        "# 한 줄짜리 주석\n",
        "print('Hello')    # 문장 뒤에 사용하는 주석"
      ]
    },
    {
      "cell_type": "code",
      "execution_count": 10,
      "metadata": {
        "colab": {
          "base_uri": "https://localhost:8080/",
          "height": 35
        },
        "id": "6CF_1PcDlNsW",
        "outputId": "0ac6ef04-4a6e-4e49-bb23-3714e3d4ea11"
      },
      "outputs": [
        {
          "data": {
            "application/vnd.google.colaboratory.intrinsic+json": {
              "type": "string"
            },
            "text/plain": [
              "'\\n원래는 멀티 라인 문자열로 사용됨\\n주석으로도 사용됨\\n'"
            ]
          },
          "execution_count": 10,
          "metadata": {},
          "output_type": "execute_result"
        }
      ],
      "source": [
        "# 여러줄의 주석\n",
        "# 여러줄의 주석\n",
        "'''\n",
        "원래는 멀티 라인 문자열로 사용됨\n",
        "주석으로도 사용됨\n",
        "'''"
      ]
    },
    {
      "cell_type": "code",
      "execution_count": 11,
      "metadata": {
        "id": "mcADSItYlmBl"
      },
      "outputs": [],
      "source": [
        "# \"\"\" \"\"\" 도 ''' '''과 동일하게 사용됨"
      ]
    },
    {
      "cell_type": "markdown",
      "metadata": {
        "id": "SeTnD0sNmPVD"
      },
      "source": [
        "### 3. 들여쓰기(Indentation)"
      ]
    },
    {
      "cell_type": "code",
      "execution_count": 12,
      "metadata": {
        "colab": {
          "base_uri": "https://localhost:8080/"
        },
        "id": "czcnTRwQlyXN",
        "outputId": "2fab7222-96ac-47c6-913f-82f3a92d9031"
      },
      "outputs": [
        {
          "name": "stdout",
          "output_type": "stream",
          "text": [
            "홀수\n"
          ]
        }
      ],
      "source": [
        "num = 3\n",
        "if num % 2 == 1:\n",
        "  print('홀수')"
      ]
    },
    {
      "cell_type": "code",
      "execution_count": 14,
      "metadata": {
        "colab": {
          "base_uri": "https://localhost:8080/"
        },
        "id": "dMOj55TmnKzM",
        "outputId": "07c9b27e-ada5-4458-8e61-540a02aaaae1"
      },
      "outputs": [
        {
          "name": "stdout",
          "output_type": "stream",
          "text": [
            "for loop이 돌 때마자 찍힘: 1\n",
            "for loop이 돌 때마자 찍힘: 3\n",
            "for loop이 돌 때마자 찍힘: 6\n",
            "for loop이 돌 때마자 찍힘: 10\n",
            "for loop이 돌 때마자 찍힘: 15\n",
            "for loop이 돌 때마자 찍힘: 21\n",
            "for loop이 돌 때마자 찍힘: 28\n",
            "for loop이 돌 때마자 찍힘: 36\n",
            "for loop이 돌 때마자 찍힘: 45\n",
            "for loop이 돌 때마자 찍힘: 55\n",
            "for loop이 끝난 후 찍힘: 55\n"
          ]
        }
      ],
      "source": [
        "sum = 0\n",
        "for i in range(1, 11) :\n",
        "    sum += i\n",
        "    print('for loop이 돌 때마자 찍힘:', sum)\n",
        "print('for loop이 끝난 후 찍힘:', sum)"
      ]
    },
    {
      "cell_type": "markdown",
      "metadata": {
        "id": "cDWiodhfsDfM"
      },
      "source": [
        "# 4. 코드 블록"
      ]
    },
    {
      "cell_type": "code",
      "execution_count": 15,
      "metadata": {
        "colab": {
          "base_uri": "https://localhost:8080/"
        },
        "id": "rumkpRg7sIK7",
        "outputId": "c94afdbf-b6c7-4b4c-9c19-fa0310485ac7"
      },
      "outputs": [
        {
          "name": "stdout",
          "output_type": "stream",
          "text": [
            "55\n",
            "홀수입니다.\n"
          ]
        }
      ],
      "source": [
        "# 콜론(:)과 이후 들여쓰기로 코드 블록이 결정됨\n",
        "if sum % 2 == 1:\n",
        "    print(sum)\n",
        "    print('홀수입니다.')"
      ]
    },
    {
      "cell_type": "code",
      "execution_count": null,
      "metadata": {
        "id": "95KqEG27skbF"
      },
      "outputs": [],
      "source": []
    }
  ],
  "metadata": {
    "colab": {
      "provenance": []
    },
    "kernelspec": {
      "display_name": "Python 3",
      "name": "python3"
    },
    "language_info": {
      "name": "python",
      "version": "3.11.4"
    }
  },
  "nbformat": 4,
  "nbformat_minor": 0
}
