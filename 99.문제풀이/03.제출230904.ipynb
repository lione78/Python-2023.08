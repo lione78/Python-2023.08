{
 "cells": [
  {
   "cell_type": "markdown",
   "metadata": {},
   "source": [
    "### 심사문제 Unit 27"
   ]
  },
  {
   "cell_type": "code",
   "execution_count": null,
   "metadata": {},
   "outputs": [],
   "source": [
    "with open('words.txt') as file:\n",
    "    contents = file.read()\n",
    "words = contents.split()\n",
    "for word in words:\n",
    "    if 'c' in word.lower():\n",
    "        print(word.strip('.,'))"
   ]
  },
  {
   "cell_type": "code",
   "execution_count": 2,
   "metadata": {},
   "outputs": [
    {
     "name": "stdout",
     "output_type": "stream",
     "text": [
      "dictator\n",
      "subjects\n",
      "change\n",
      "costume\n",
      "elegance\n",
      "accepted\n"
     ]
    }
   ],
   "source": [
    "with open('words.txt') as file:\n",
    "    words = file.read()\n",
    "\n",
    "words_list = words.split()\n",
    "for word in words_list:\n",
    "    clean_word = word.strip('.,')\n",
    "    if 'c' in clean_word.lower():\n",
    "        print(clean_word)"
   ]
  },
  {
   "cell_type": "markdown",
   "metadata": {},
   "source": [
    "### 심사문제 Unit 38"
   ]
  },
  {
   "cell_type": "code",
   "execution_count": null,
   "metadata": {},
   "outputs": [],
   "source": [
    "class NotPalindromeError(Exception):        # Exception을 상속받아서 새로운 예외를 만듦.\n",
    "    def __init__(self):                      # 생성자 함수, self는 자바의 this 의미, class method는 무조건 첫번째 인수로 self를 사용해야 함\n",
    "        super().__init__('회문이 아닙니다.')\n",
    "def palindrome(word):\n",
    "    if word == word[::-1]:\n",
    "        print(word)\n",
    "        return\n",
    "    raise NotPalindromeError\n",
    "try:\n",
    "    word = input()\n",
    "    palindrome(word)\n",
    "except NotPalindromeError as e:\n",
    "    print(e)"
   ]
  },
  {
   "cell_type": "code",
   "execution_count": null,
   "metadata": {},
   "outputs": [],
   "source": [
    "class NotPalindromeError(Exception):\n",
    "    def __init__(self):\n",
    "        super().__init__('회문이 아닙니다.')\n",
    "def palindrome(s):\n",
    "    if s == s[::-1]:\n",
    "        print(s)\n",
    "        return\n",
    "    raise NotPalindromeError        # if가 끝난 후에 return으로 def가 끝나기 때문에 else가 필요 없다.\n",
    "try:\n",
    "    s = input()\n",
    "    palindrome(s)\n",
    "except NotPalindromeError as e:\n",
    "    print(e)"
   ]
  }
 ],
 "metadata": {
  "kernelspec": {
   "display_name": "base",
   "language": "python",
   "name": "python3"
  },
  "language_info": {
   "codemirror_mode": {
    "name": "ipython",
    "version": 3
   },
   "file_extension": ".py",
   "mimetype": "text/x-python",
   "name": "python",
   "nbconvert_exporter": "python",
   "pygments_lexer": "ipython3",
   "version": "3.11.4"
  },
  "orig_nbformat": 4
 },
 "nbformat": 4,
 "nbformat_minor": 2
}
