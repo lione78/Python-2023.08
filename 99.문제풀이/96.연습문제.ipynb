{
 "cells": [
  {
   "cell_type": "code",
   "execution_count": 1,
   "metadata": {},
   "outputs": [
    {
     "name": "stdout",
     "output_type": "stream",
     "text": [
      "[['*', '.', '.'],\n",
      " ['.', '*', '.'],\n",
      " ['.', '.', '*']]\n",
      "[['.', '.', '.', '.', '.'],\n",
      " ['.', '*', '.', '.', '.', '.', '.', '*', '.', '.', '.', '.', '.', '*', '.'],\n",
      " ['.', '*', '.', '.', '.', '.', '.', '*', '.', '.', '.', '.', '.', '*', '.'],\n",
      " ['.', '*', '.', '.', '.', '.', '.', '*', '.', '.', '.', '.', '.', '*', '.'],\n",
      " ['.', '.', '.', '.', '.']]\n"
     ]
    }
   ],
   "source": [
    "from pprint import pprint\n",
    "x, y = map(int, input().split())\n",
    "matrix = []\n",
    "for _ in range(x):\n",
    "    mines = input()\n",
    "    mines_row = []\n",
    "    for mine in mines:\n",
    "        mines_row.append(mine)\n",
    "    matrix.append(mines_row)\n",
    "pprint(matrix, width=50)\n",
    "padding_matrix = []\n",
    "top = ['.']*(x+2)\n",
    "padding_matrix.append(top)\n",
    "padding_matrix_row = []\n",
    "for row in matrix:\n",
    "    padding_matrix_row.append('.')\n",
    "    padding_matrix_row.extend(row)\n",
    "    padding_matrix_row.append('.')\n",
    "    padding_matrix.append(padding_matrix_row)\n",
    "padding_matrix.append(top)\n",
    "pprint(padding_matrix, width=100)"
   ]
  }
 ],
 "metadata": {
  "kernelspec": {
   "display_name": "base",
   "language": "python",
   "name": "python3"
  },
  "language_info": {
   "codemirror_mode": {
    "name": "ipython",
    "version": 3
   },
   "file_extension": ".py",
   "mimetype": "text/x-python",
   "name": "python",
   "nbconvert_exporter": "python",
   "pygments_lexer": "ipython3",
   "version": "3.11.4"
  },
  "orig_nbformat": 4
 },
 "nbformat": 4,
 "nbformat_minor": 2
}
