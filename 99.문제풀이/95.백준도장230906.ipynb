{
 "cells": [
  {
   "cell_type": "markdown",
   "metadata": {},
   "source": [
    "### 입출력과 사칙연산 \t#2588"
   ]
  },
  {
   "cell_type": "code",
   "execution_count": 1,
   "metadata": {},
   "outputs": [
    {
     "name": "stdout",
     "output_type": "stream",
     "text": [
      "2360\n",
      "3776\n",
      "1416\n",
      "181720\n"
     ]
    }
   ],
   "source": [
    "x = int(input())\n",
    "y = int(input())\n",
    "z = str(y)\n",
    "print(x*int(str(y)[2]))\n",
    "print(x*int(str(y)[1]))\n",
    "print(x*int(str(y)[0]))\n",
    "print(x*y)\n"
   ]
  },
  {
   "cell_type": "code",
   "execution_count": null,
   "metadata": {},
   "outputs": [],
   "source": [
    "m, n = map(int, input().split())\n",
    "\n",
    "print(f'3: {m * ((n // 1) % 10)}')          # (n // 10 ** 0) % 10\n",
    "print(f'4: {m * ((n // 10) % 10)}')         # (n // 10 ** 1) % 10\n",
    "print(f'5: {m * ((n // 100) % 10)}')        # (n // 10 ** 2) % 10\n",
    "print(f'6: {m * n}')"
   ]
  },
  {
   "cell_type": "markdown",
   "metadata": {},
   "source": [
    "### 반복문 -\t\t#25304"
   ]
  },
  {
   "cell_type": "code",
   "execution_count": 4,
   "metadata": {},
   "outputs": [
    {
     "name": "stdout",
     "output_type": "stream",
     "text": [
      "No\n"
     ]
    }
   ],
   "source": [
    "X = int(input())\n",
    "N = int(input())\n",
    "sum = 0\n",
    "for _ in range(N):\n",
    "    a, b = map(int, input().split())\n",
    "    sum += a * b\n",
    "if 1 <= X <= 1000000000 and 1 <= N <=100 and 1 <= a <= 1000000 and 1 <= b <= 10:\n",
    "    if X == sum:\n",
    "        print('Yes')\n",
    "    else:\n",
    "        print('No')"
   ]
  },
  {
   "cell_type": "code",
   "execution_count": 4,
   "metadata": {},
   "outputs": [],
   "source": [
    "X = int(input())        # 260000\n",
    "N = int(input())        # 4\n",
    "receipt = []\n",
    "for i in range(N):\n",
    "    a, b = map(int, input().split())\n",
    "    receipt.append((a, b))"
   ]
  },
  {
   "cell_type": "code",
   "execution_count": 5,
   "metadata": {},
   "outputs": [
    {
     "name": "stdout",
     "output_type": "stream",
     "text": [
      "260000\n"
     ]
    }
   ],
   "source": [
    "costco_sum = 0\n",
    "for a, b in receipt:\n",
    "    costco_sum += a * b\n",
    "print(costco_sum)"
   ]
  },
  {
   "cell_type": "markdown",
   "metadata": {},
   "source": [
    "### 1차원 -\t\t#2562"
   ]
  },
  {
   "cell_type": "code",
   "execution_count": 7,
   "metadata": {},
   "outputs": [
    {
     "name": "stdout",
     "output_type": "stream",
     "text": [
      "85\n",
      "8\n"
     ]
    }
   ],
   "source": [
    "a_list = []\n",
    "for _ in range(9):\n",
    "    a = int(input())\n",
    "    a_list.append(a)\n",
    "print(max(a_list))\n",
    "print(a_list.index(max(a_list))+1)"
   ]
  },
  {
   "cell_type": "code",
   "execution_count": 6,
   "metadata": {},
   "outputs": [
    {
     "name": "stdout",
     "output_type": "stream",
     "text": [
      "index = 7, 8번째 값, 85\n"
     ]
    }
   ],
   "source": [
    "c = [3, 29, 38, 12, 57, 74, 40, 85, 61]\n",
    "cmax, cindex = -1, -1\n",
    "for index, element in enumerate(c):\n",
    "    if cmax < element:\n",
    "        cmax = element\n",
    "        cindex = index\n",
    "print(f'index = {cindex}, {cindex+1}번째 값, {cmax}')"
   ]
  },
  {
   "cell_type": "markdown",
   "metadata": {},
   "source": [
    "### 문자열 -\t\t#2675, #10809, #2908"
   ]
  },
  {
   "cell_type": "code",
   "execution_count": 10,
   "metadata": {},
   "outputs": [
    {
     "name": "stdout",
     "output_type": "stream",
     "text": [
      "AAABBBCCC\n",
      "/////HHHHHTTTTTPPPPP\n"
     ]
    }
   ],
   "source": [
    "# 2657\n",
    "T = int(input())\n",
    "for _ in range(T):\n",
    "    R, S = input().split()\n",
    "    for s_1 in S:\n",
    "        print(f'{s_1*int(R)}',end='')\n",
    "    print()"
   ]
  },
  {
   "cell_type": "code",
   "execution_count": 7,
   "metadata": {},
   "outputs": [
    {
     "ename": "ValueError",
     "evalue": "invalid literal for int() with base 10: ''",
     "output_type": "error",
     "traceback": [
      "\u001b[1;31m---------------------------------------------------------------------------\u001b[0m",
      "\u001b[1;31mValueError\u001b[0m                                Traceback (most recent call last)",
      "Cell \u001b[1;32mIn[7], line 1\u001b[0m\n\u001b[1;32m----> 1\u001b[0m T \u001b[39m=\u001b[39m \u001b[39mint\u001b[39m(\u001b[39minput\u001b[39m())\n\u001b[0;32m      2\u001b[0m test_case \u001b[39m=\u001b[39m []\n\u001b[0;32m      3\u001b[0m \u001b[39mfor\u001b[39;00m _ \u001b[39min\u001b[39;00m \u001b[39mrange\u001b[39m(T):\n",
      "\u001b[1;31mValueError\u001b[0m: invalid literal for int() with base 10: ''"
     ]
    }
   ],
   "source": [
    "T = int(input())\n",
    "test_case = []\n",
    "for _ in range(T):\n",
    "    cmd = input().split()\n",
    "    test_case.append(cmd)\n",
    "print(test_case)"
   ]
  },
  {
   "cell_type": "code",
   "execution_count": 8,
   "metadata": {},
   "outputs": [
    {
     "ename": "NameError",
     "evalue": "name 'test_case' is not defined",
     "output_type": "error",
     "traceback": [
      "\u001b[1;31m---------------------------------------------------------------------------\u001b[0m",
      "\u001b[1;31mNameError\u001b[0m                                 Traceback (most recent call last)",
      "Cell \u001b[1;32mIn[8], line 1\u001b[0m\n\u001b[1;32m----> 1\u001b[0m \u001b[39mfor\u001b[39;00m R, S \u001b[39min\u001b[39;00m test_case:\n\u001b[0;32m      2\u001b[0m     result \u001b[39m=\u001b[39m \u001b[39m'\u001b[39m\u001b[39m'\u001b[39m\n\u001b[0;32m      3\u001b[0m     r \u001b[39m=\u001b[39m \u001b[39mint\u001b[39m(R)\n",
      "\u001b[1;31mNameError\u001b[0m: name 'test_case' is not defined"
     ]
    }
   ],
   "source": [
    "for R, S in test_case:\n",
    "    result = ''\n",
    "    r = int(R)\n",
    "    for s in S:\n",
    "        result += s * r\n",
    "    print(result)"
   ]
  },
  {
   "cell_type": "code",
   "execution_count": 14,
   "metadata": {},
   "outputs": [
    {
     "name": "stdout",
     "output_type": "stream",
     "text": [
      "1 0 -1 -1 2 -1 -1 -1 -1 4 3 -1 -1 7 5 -1 -1 -1 -1 -1 -1 -1 -1 -1 -1 -1 "
     ]
    }
   ],
   "source": [
    "#10809\n",
    "Alpha = 'abcdefghijklmnopqrstuvwxyz'\n",
    "S = input()\n",
    "for a_1 in Alpha:\n",
    "    print(S.find(a_1), end=' ')\n"
   ]
  },
  {
   "cell_type": "code",
   "execution_count": 9,
   "metadata": {},
   "outputs": [
    {
     "data": {
      "text/plain": [
       "'b'"
      ]
     },
     "execution_count": 9,
     "metadata": {},
     "output_type": "execute_result"
    }
   ],
   "source": [
    "chr(ord('a') + 1)"
   ]
  },
  {
   "cell_type": "code",
   "execution_count": 10,
   "metadata": {},
   "outputs": [
    {
     "name": "stdout",
     "output_type": "stream",
     "text": [
      "{'a': -1, 'b': -1, 'c': -1, 'd': -1, 'e': -1, 'f': -1, 'g': -1, 'h': -1, 'i': -1, 'j': -1, 'k': -1, 'l': -1, 'm': -1, 'n': -1, 'o': -1, 'p': -1, 'q': -1, 'r': -1, 's': -1, 't': -1, 'u': -1, 'v': -1, 'w': -1, 'x': -1, 'y': -1, 'z': -1}\n"
     ]
    }
   ],
   "source": [
    "char_dict = {}\n",
    "for i in range(26):\n",
    "    c = chr(ord('a') + i)\n",
    "    char_dict[c] = -1\n",
    "print(char_dict)"
   ]
  },
  {
   "cell_type": "code",
   "execution_count": 11,
   "metadata": {},
   "outputs": [
    {
     "name": "stdout",
     "output_type": "stream",
     "text": [
      "1 0 -1 -1 2 -1 -1 -1 -1 4 3 -1 -1 7 5 -1 -1 -1 -1 -1 -1 -1 -1 -1 -1 -1 "
     ]
    }
   ],
   "source": [
    "word = 'baekjoon'\n",
    "for i in range(26):\n",
    "    c = chr(ord('a') + i)\n",
    "    print(word.find(c), end=' ')"
   ]
  },
  {
   "cell_type": "code",
   "execution_count": 12,
   "metadata": {},
   "outputs": [
    {
     "name": "stdout",
     "output_type": "stream",
     "text": [
      "{'a': 1, 'b': 0, 'c': -1, 'd': -1, 'e': 2, 'f': -1, 'g': -1, 'h': -1, 'i': -1, 'j': 4, 'k': 3, 'l': -1, 'm': -1, 'n': 7, 'o': 5, 'p': -1, 'q': -1, 'r': -1, 's': -1, 't': -1, 'u': -1, 'v': -1, 'w': -1, 'x': -1, 'y': -1, 'z': -1}\n"
     ]
    }
   ],
   "source": [
    "word = 'baekjoon'\n",
    "char_dict = {}\n",
    "for i in range(26):\n",
    "    c = chr(ord('a') + i)\n",
    "    char_dict[c] = word.find(c)         # find()는 찾는 문자열이 없으면 -1을 리턴함.\n",
    "print(char_dict)"
   ]
  },
  {
   "cell_type": "code",
   "execution_count": 18,
   "metadata": {},
   "outputs": [
    {
     "name": "stdout",
     "output_type": "stream",
     "text": [
      "938\n"
     ]
    }
   ],
   "source": [
    "#2908\n",
    "x, y = input().split()\n",
    "x_1 = int(x[::-1])\n",
    "y_1 = int(y[::-1])\n",
    "if x_1 >= y_1:\n",
    "    print(x_1)\n",
    "else:\n",
    "    print(y_1)\n"
   ]
  },
  {
   "cell_type": "code",
   "execution_count": 13,
   "metadata": {},
   "outputs": [
    {
     "name": "stdout",
     "output_type": "stream",
     "text": [
      "734,893: 437\n",
      "221,231: 132\n",
      "839,237: 938\n"
     ]
    }
   ],
   "source": [
    "for i in range(3):\n",
    "    m, n = input().split()\n",
    "    m_, n_ = int(m[::-1]), int(n[::-1])\n",
    "    max_val = m_ if m_ >= n_ else n_\n",
    "    print(f'{m},{n}: {max_val}')"
   ]
  },
  {
   "cell_type": "markdown",
   "metadata": {},
   "source": [
    "### 심화 -\t\t\t#3003, #2444, #1157"
   ]
  },
  {
   "cell_type": "code",
   "execution_count": 27,
   "metadata": {},
   "outputs": [
    {
     "name": "stdout",
     "output_type": "stream",
     "text": [
      "1 0 0 0 0 1 "
     ]
    }
   ],
   "source": [
    "#3003\n",
    "chess_list = list(map(int, input().split()))\n",
    "chess_piece_list = [1, 1, 2, 2, 2, 8]\n",
    "for i in range(6):\n",
    "        print(chess_piece_list[i]-chess_list[i],end=' ')"
   ]
  },
  {
   "cell_type": "code",
   "execution_count": 14,
   "metadata": {},
   "outputs": [
    {
     "name": "stdout",
     "output_type": "stream",
     "text": [
      "0 -1 -1 -2 -3 2 "
     ]
    }
   ],
   "source": [
    "# king, queen, rook, bishop, knight, pawn\n",
    "chess_pieces = [1, 1, 2, 2, 2, 8]\n",
    "pieces = list(map(int, input().split()))\n",
    "for i in range(len(pieces)):\n",
    "    print(chess_pieces[i] - pieces[i], end=' ')"
   ]
  },
  {
   "cell_type": "code",
   "execution_count": 2,
   "metadata": {},
   "outputs": [
    {
     "name": "stdout",
     "output_type": "stream",
     "text": [
      "    *\n",
      "   ***\n",
      "  *****\n",
      " *******\n",
      "*********\n",
      " *******\n",
      "  *****\n",
      "   ***\n",
      "    *\n"
     ]
    }
   ],
   "source": [
    "#2444\n",
    "N = int(input())\n",
    "for i in range(N):\n",
    "    print(' ' * (N-i-1),end='')\n",
    "    print('*' * (2 * i + 1))\n",
    "for k in range(N-1):\n",
    "    print(' ' * (k + 1),end='')\n",
    "    print('*' * (2*N - 3 - 2*k))\n"
   ]
  },
  {
   "cell_type": "code",
   "execution_count": 17,
   "metadata": {},
   "outputs": [
    {
     "name": "stdout",
     "output_type": "stream",
     "text": [
      "    *\n",
      "   ***\n",
      "  *****\n",
      " *******\n",
      "*********\n",
      " *******\n",
      "  *****\n",
      "   ***\n",
      "    *\n"
     ]
    }
   ],
   "source": [
    "N = 5\n",
    "for i in range(N):\n",
    "    line = ' ' * (N - i - 1) + '*' * (2 * i + 1)\n",
    "    print(line)\n",
    "for k in range(1, N):\n",
    "    line = ' ' * k + '*' * ((N - k)*2 - 1)\n",
    "    print(line)\n"
   ]
  },
  {
   "cell_type": "code",
   "execution_count": 45,
   "metadata": {},
   "outputs": [
    {
     "name": "stdout",
     "output_type": "stream",
     "text": [
      "?\n"
     ]
    }
   ],
   "source": [
    "#1157\n",
    "S = input().upper()\n",
    "alpha = 'ABCDEFGHIJKLMNOPQRSTUVWXYZ'\n",
    "alpha_count_list = []\n",
    "alpha_combined = ''\n",
    "for a_2 in alpha:\n",
    "    alpha_count_list.append(S.count(a_2))\n",
    "for i in range(26):\n",
    "    if alpha_count_list[i] == max(alpha_count_list):\n",
    "        alpha_combined += alpha[i]\n",
    "if len(alpha_combined) > 1:\n",
    "    print('?')\n",
    "else:\n",
    "    print(alpha_combined)\n",
    "        \n"
   ]
  },
  {
   "cell_type": "code",
   "execution_count": 19,
   "metadata": {},
   "outputs": [
    {
     "name": "stdout",
     "output_type": "stream",
     "text": [
      "{'a': 2, 'b': 1, 'c': 1, 'd': 1, 'e': 2, 'f': 1, 'g': 1, 'h': 1, 'i': 1, 'j': 1, 'k': 1, 'l': 1, 'm': 1, 'n': 1, 'o': 4, 'p': 1, 'q': 1, 'r': 2, 's': 1, 't': 1, 'u': 2, 'v': 1, 'w': 1, 'x': 1, 'y': 1, 'z': 1}\n"
     ]
    }
   ],
   "source": [
    "alpha_dict = {}\n",
    "S = 'A quick brown fox jumps over the lazy dog'\n",
    "for i in range(26):\n",
    "    c = chr(ord('a') + i)\n",
    "    alpha_dict[c] = S.lower().count(c)\n",
    "print(alpha_dict)"
   ]
  },
  {
   "cell_type": "code",
   "execution_count": 20,
   "metadata": {},
   "outputs": [
    {
     "data": {
      "text/plain": [
       "[('o', 4), ('a', 2), ('e', 2), ('r', 2), ('u', 2)]"
      ]
     },
     "execution_count": 20,
     "metadata": {},
     "output_type": "execute_result"
    }
   ],
   "source": [
    "alpha_items = list(alpha_dict.items())\n",
    "alpha_items.sort(key=lambda x: x[1], reverse=True)\n",
    "alpha_items[:5]"
   ]
  },
  {
   "cell_type": "markdown",
   "metadata": {},
   "source": [
    "### 2차원 -\t\t#2738"
   ]
  },
  {
   "cell_type": "code",
   "execution_count": 49,
   "metadata": {},
   "outputs": [
    {
     "name": "stdout",
     "output_type": "stream",
     "text": [
      "4 4 4 \n",
      "6 6 6 \n",
      "5 6 100 \n"
     ]
    }
   ],
   "source": [
    "#2738\n",
    "N, M = map(int, input().split())\n",
    "matrix_a = []\n",
    "matrix_b = []\n",
    "for _ in range(N):\n",
    "    matrix_a_line = list(map(int, input().split()))\n",
    "    matrix_a.append(matrix_a_line)\n",
    "for _ in range(N):\n",
    "    matrix_b_line = list(map(int, input().split()))\n",
    "    matrix_b.append(matrix_b_line)\n",
    "for i in range(N):\n",
    "    for k in range(M):\n",
    "        print(matrix_a[i][k] + matrix_b[i][k], end=' ')\n",
    "    print()"
   ]
  },
  {
   "cell_type": "code",
   "execution_count": 21,
   "metadata": {},
   "outputs": [
    {
     "name": "stdout",
     "output_type": "stream",
     "text": [
      "4 4 4 \n",
      "6 6 6 \n",
      "5 6 100 \n"
     ]
    }
   ],
   "source": [
    "A = [[1, 1, 1], [2, 2, 2], [0, 1, 0]]\n",
    "B = [[3, 3, 3], [4, 4, 4], [5, 5, 100]]\n",
    "C = []\n",
    "for i in range(len(A)):\n",
    "    temp = []\n",
    "    for k in range(len(A[i])):\n",
    "        temp.append(A[i][k] + B[i][k])\n",
    "    C.append(temp)\n",
    "\n",
    "for i in range(len(C)):\n",
    "    for k in range(len(C[i])):\n",
    "        print(C[i][k], end=' ')\n",
    "    print()"
   ]
  },
  {
   "cell_type": "code",
   "execution_count": 34,
   "metadata": {},
   "outputs": [
    {
     "name": "stdout",
     "output_type": "stream",
     "text": [
      "5 6 100 \n",
      "2592083813760\n",
      "5 6 100 \n",
      "2592083813760\n",
      "5 6 100 \n",
      "2592083813760\n"
     ]
    }
   ],
   "source": [
    "C = [[0]*3]*3           # r같은 형식으로 만들면 주소가 같아져 마지막 값이 다른 값을 덮어버림.\n",
    "for i in range(len(A)):\n",
    "    for k in range(len(A[i])):\n",
    "        C[i][k] = A[i][k] + B[i][k]\n",
    "\n",
    "for i in range(len(C)):\n",
    "    for k in range(len(C[i])):\n",
    "        print(C[i][k], end=' ')\n",
    "    print()\n",
    "    print(id(C[i]))"
   ]
  },
  {
   "cell_type": "code",
   "execution_count": 25,
   "metadata": {},
   "outputs": [
    {
     "name": "stdout",
     "output_type": "stream",
     "text": [
      "[[1 1 1]\n",
      " [2 2 2]\n",
      " [0 1 0]]\n"
     ]
    }
   ],
   "source": [
    "import numpy as np\n",
    "A = np.array([[1, 1, 1], [2, 2, 2], [0, 1, 0]])\n",
    "print(A)"
   ]
  },
  {
   "cell_type": "code",
   "execution_count": 26,
   "metadata": {},
   "outputs": [
    {
     "name": "stdout",
     "output_type": "stream",
     "text": [
      "[[  3   3   3]\n",
      " [  4   4   4]\n",
      " [  5   5 100]]\n"
     ]
    }
   ],
   "source": [
    "B = np.array([[3, 3, 3], [4, 4, 4], [5, 5, 100]])\n",
    "print(B)"
   ]
  },
  {
   "cell_type": "code",
   "execution_count": 27,
   "metadata": {},
   "outputs": [
    {
     "name": "stdout",
     "output_type": "stream",
     "text": [
      "[[  4   4   4]\n",
      " [  6   6   6]\n",
      " [  5   6 100]]\n"
     ]
    }
   ],
   "source": [
    "# 벡터화 연산\n",
    "C = A + B\n",
    "print(C)"
   ]
  }
 ],
 "metadata": {
  "kernelspec": {
   "display_name": "base",
   "language": "python",
   "name": "python3"
  },
  "language_info": {
   "codemirror_mode": {
    "name": "ipython",
    "version": 3
   },
   "file_extension": ".py",
   "mimetype": "text/x-python",
   "name": "python",
   "nbconvert_exporter": "python",
   "pygments_lexer": "ipython3",
   "version": "3.11.4"
  },
  "orig_nbformat": 4
 },
 "nbformat": 4,
 "nbformat_minor": 2
}
