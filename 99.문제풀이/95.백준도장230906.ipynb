{
 "cells": [
  {
   "cell_type": "markdown",
   "metadata": {},
   "source": [
    "### 입출력과 사칙연산 \t#2588"
   ]
  },
  {
   "cell_type": "code",
   "execution_count": 1,
   "metadata": {},
   "outputs": [
    {
     "name": "stdout",
     "output_type": "stream",
     "text": [
      "2360\n",
      "3776\n",
      "1416\n",
      "181720\n"
     ]
    }
   ],
   "source": [
    "x = int(input())\n",
    "y = int(input())\n",
    "z = str(y)\n",
    "print(x*int(str(y)[2]))\n",
    "print(x*int(str(y)[1]))\n",
    "print(x*int(str(y)[0]))\n",
    "print(x*y)\n"
   ]
  },
  {
   "cell_type": "markdown",
   "metadata": {},
   "source": [
    "### 반복문 -\t\t#25304"
   ]
  },
  {
   "cell_type": "code",
   "execution_count": 4,
   "metadata": {},
   "outputs": [
    {
     "name": "stdout",
     "output_type": "stream",
     "text": [
      "No\n"
     ]
    }
   ],
   "source": [
    "X = int(input())\n",
    "N = int(input())\n",
    "sum = 0\n",
    "for _ in range(N):\n",
    "    a, b = map(int, input().split())\n",
    "    sum += a * b\n",
    "if 1 <= X <= 1000000000 and 1 <= N <=100 and 1 <= a <= 1000000 and 1 <= b <= 10:\n",
    "    if X == sum:\n",
    "        print('Yes')\n",
    "    else:\n",
    "        print('No')"
   ]
  },
  {
   "cell_type": "markdown",
   "metadata": {},
   "source": [
    "### 1차원 -\t\t#2562"
   ]
  },
  {
   "cell_type": "code",
   "execution_count": 7,
   "metadata": {},
   "outputs": [
    {
     "name": "stdout",
     "output_type": "stream",
     "text": [
      "85\n",
      "8\n"
     ]
    }
   ],
   "source": [
    "a_list = []\n",
    "for _ in range(9):\n",
    "    a = int(input())\n",
    "    a_list.append(a)\n",
    "print(max(a_list))\n",
    "print(a_list.index(max(a_list))+1)"
   ]
  },
  {
   "cell_type": "markdown",
   "metadata": {},
   "source": [
    "### 문자열 -\t\t#2675, #10809, #2908"
   ]
  },
  {
   "cell_type": "code",
   "execution_count": 10,
   "metadata": {},
   "outputs": [
    {
     "name": "stdout",
     "output_type": "stream",
     "text": [
      "AAABBBCCC\n",
      "/////HHHHHTTTTTPPPPP\n"
     ]
    }
   ],
   "source": [
    "# 2657\n",
    "T = int(input())\n",
    "for _ in range(T):\n",
    "    R, S = input().split()\n",
    "    for s_1 in S:\n",
    "        print(f'{s_1*int(R)}',end='')\n",
    "    print()"
   ]
  },
  {
   "cell_type": "code",
   "execution_count": 14,
   "metadata": {},
   "outputs": [
    {
     "name": "stdout",
     "output_type": "stream",
     "text": [
      "1 0 -1 -1 2 -1 -1 -1 -1 4 3 -1 -1 7 5 -1 -1 -1 -1 -1 -1 -1 -1 -1 -1 -1 "
     ]
    }
   ],
   "source": [
    "#10809\n",
    "Alpha = 'abcdefghijklmnopqrstuvwxyz'\n",
    "S = input()\n",
    "for a_1 in Alpha:\n",
    "    print(S.find(a_1), end=' ')\n"
   ]
  },
  {
   "cell_type": "code",
   "execution_count": 18,
   "metadata": {},
   "outputs": [
    {
     "name": "stdout",
     "output_type": "stream",
     "text": [
      "938\n"
     ]
    }
   ],
   "source": [
    "#2908\n",
    "x, y = input().split()\n",
    "x_1 = int(x[::-1])\n",
    "y_1 = int(y[::-1])\n",
    "if x_1 >= y_1:\n",
    "    print(x_1)\n",
    "else:\n",
    "    print(y_1)\n"
   ]
  },
  {
   "cell_type": "markdown",
   "metadata": {},
   "source": [
    "### 심화 -\t\t\t#3003, #2444, #1157"
   ]
  },
  {
   "cell_type": "code",
   "execution_count": 27,
   "metadata": {},
   "outputs": [
    {
     "name": "stdout",
     "output_type": "stream",
     "text": [
      "1 0 0 0 0 1 "
     ]
    }
   ],
   "source": [
    "#3003\n",
    "chess_list = list(map(int, input().split()))\n",
    "chess_piece_list = [1, 1, 2, 2, 2, 8]\n",
    "for i in range(6):\n",
    "        print(chess_piece_list[i]-chess_list[i],end=' ')"
   ]
  },
  {
   "cell_type": "code",
   "execution_count": 29,
   "metadata": {},
   "outputs": [
    {
     "name": "stdout",
     "output_type": "stream",
     "text": [
      "    *\n",
      "   ***\n",
      "  *****\n",
      " *******\n",
      "*********\n",
      " *******\n",
      "  *****\n",
      "   ***\n",
      "    *\n"
     ]
    }
   ],
   "source": [
    "#2444\n",
    "N = int(input())\n",
    "for i in range(N):\n",
    "    print(' ' * (N-i-1),end='')\n",
    "    print('*' * (2 * i + 1))\n",
    "for k in range(N-1):\n",
    "    print(' ' * (k + 1),end='')\n",
    "    print('*' * ((N + 2) - 2*k))\n"
   ]
  },
  {
   "cell_type": "code",
   "execution_count": 45,
   "metadata": {},
   "outputs": [
    {
     "name": "stdout",
     "output_type": "stream",
     "text": [
      "?\n"
     ]
    }
   ],
   "source": [
    "#1157\n",
    "S = input().upper()\n",
    "alpha = 'ABCDEFGHIJKLMNOPQRSTUVWXYZ'\n",
    "alpha_count_list = []\n",
    "alpha_combined = ''\n",
    "for a_2 in alpha:\n",
    "    alpha_count_list.append(S.count(a_2))\n",
    "for i in range(26):\n",
    "    if alpha_count_list[i] == max(alpha_count_list):\n",
    "        alpha_combined += alpha[i]\n",
    "if len(alpha_combined) > 1:\n",
    "    print('?')\n",
    "else:\n",
    "    print(alpha_combined)\n",
    "        \n"
   ]
  },
  {
   "cell_type": "markdown",
   "metadata": {},
   "source": [
    "### 2차원 -\t\t#2738"
   ]
  },
  {
   "cell_type": "code",
   "execution_count": 49,
   "metadata": {},
   "outputs": [
    {
     "name": "stdout",
     "output_type": "stream",
     "text": [
      "4 4 4 \n",
      "6 6 6 \n",
      "5 6 100 \n"
     ]
    }
   ],
   "source": [
    "#2738\n",
    "N, M = map(int, input().split())\n",
    "matrix_a = []\n",
    "matrix_b = []\n",
    "for _ in range(N):\n",
    "    matrix_a_line = list(map(int, input().split()))\n",
    "    matrix_a.append(matrix_a_line)\n",
    "for _ in range(N):\n",
    "    matrix_b_line = list(map(int, input().split()))\n",
    "    matrix_b.append(matrix_b_line)\n",
    "for i in range(N):\n",
    "    for k in range(M):\n",
    "        print(matrix_a[i][k] + matrix_b[i][k], end=' ')\n",
    "    print()"
   ]
  }
 ],
 "metadata": {
  "kernelspec": {
   "display_name": "base",
   "language": "python",
   "name": "python3"
  },
  "language_info": {
   "codemirror_mode": {
    "name": "ipython",
    "version": 3
   },
   "file_extension": ".py",
   "mimetype": "text/x-python",
   "name": "python",
   "nbconvert_exporter": "python",
   "pygments_lexer": "ipython3",
   "version": "3.11.4"
  },
  "orig_nbformat": 4
 },
 "nbformat": 4,
 "nbformat_minor": 2
}
