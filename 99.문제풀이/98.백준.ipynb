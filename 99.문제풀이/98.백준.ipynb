{
 "cells": [
  {
   "cell_type": "markdown",
   "metadata": {},
   "source": [
    "### 백준 #14681"
   ]
  },
  {
   "cell_type": "code",
   "execution_count": 14,
   "metadata": {},
   "outputs": [
    {
     "name": "stdout",
     "output_type": "stream",
     "text": [
      "4\n"
     ]
    }
   ],
   "source": [
    "x = int(input())\n",
    "y = int(input())\n",
    "if x < -1000 or x > 1000 or x == 0 or y < -1000 or y > 1000 or y == 0:\n",
    "    print('잘못된 숫자')\n",
    "else:\n",
    "    if x > 0 and y > 0:\n",
    "        quadrant = 1\n",
    "    elif x < 0 and y > 0:\n",
    "        quadrant = 2\n",
    "    elif x < 0 and y < 0:\n",
    "        quadrant = 3\n",
    "    else:\n",
    "        quadrant = 4\n",
    "print(quadrant)\n"
   ]
  },
  {
   "cell_type": "code",
   "execution_count": 1,
   "metadata": {},
   "outputs": [
    {
     "name": "stdout",
     "output_type": "stream",
     "text": [
      "(1.2,-3.4) : Quadrant IV\n"
     ]
    }
   ],
   "source": [
    "x, y = map(float, input('두개의 실수 입력>').split())\n",
    "if x > 0. and y > 0.:\n",
    "    print(f'({x}, {y}) : Quadrant I')\n",
    "if x < 0. and y > 0.:\n",
    "    print(f'({x}, {y}) : Quadrant II')\n",
    "if x < 0. and y < 0.:\n",
    "    print(f'({x}, {y}) : Quadrant III')\n",
    "if x > 0. and y < 0.:\n",
    "    print(f'({x}, {y}) : Quadrant IV')\n",
    "else:\n",
    "    print('잘못된 좌표')"
   ]
  },
  {
   "cell_type": "markdown",
   "metadata": {},
   "source": [
    "### 백준 # 2884"
   ]
  },
  {
   "cell_type": "code",
   "execution_count": 22,
   "metadata": {},
   "outputs": [
    {
     "name": "stdout",
     "output_type": "stream",
     "text": [
      "22 55\n"
     ]
    }
   ],
   "source": [
    "H, M = map(int, input().split())\n",
    "if H < 0 or H > 24 or M < 0 or M > 60:\n",
    "    print('잘못된 입력')\n",
    "elif 1 <= H <= 23:\n",
    "    if 45 <= M <= 59:\n",
    "        M -= 45\n",
    "    elif M == 00:\n",
    "        H -= 1\n",
    "        M = 60 - 45\n",
    "    else:\n",
    "        H -= 1\n",
    "        M = 60 - (45 - M)\n",
    "else:\n",
    "    if 45 <= M <= 59:\n",
    "        M -= 45\n",
    "    elif M == 00:\n",
    "        H = 23\n",
    "        M = 60 - 45\n",
    "    else:\n",
    "        H = 23\n",
    "        M = 60 - (45 - M)\n",
    "print(H, M)\n"
   ]
  },
  {
   "cell_type": "code",
   "execution_count": 2,
   "metadata": {},
   "outputs": [
    {
     "name": "stdout",
     "output_type": "stream",
     "text": [
      "23:40\n"
     ]
    }
   ],
   "source": [
    "hour, minute = map(int, input('시 분 입력').split())\n",
    "if minute >= 45:\n",
    "    new_hour = hour\n",
    "    new_minute = minute - 45\n",
    "else:\n",
    "    if hour == 0:\n",
    "        new_hour = 23\n",
    "    else:\n",
    "        new_hour = hour - 1\n",
    "    new_minute = minute + 60 - 45\n",
    "print(f'{new_hour:02d}:{new_minute:02d}')"
   ]
  },
  {
   "cell_type": "code",
   "execution_count": null,
   "metadata": {},
   "outputs": [],
   "source": [
    "hour, minute = map(int, input('시 분 입력').split())\n",
    "if minute >= 45:\n",
    "    new_hour = hour\n",
    "    new_minute = minute - 45\n",
    "else:\n",
    "    new_hour = (hour - 1 + 24) % 24\n",
    "    new_minute = minute + 60 - 45\n",
    "print(f'{new_hour:02d}:{new_minute:02d}')"
   ]
  },
  {
   "cell_type": "markdown",
   "metadata": {},
   "source": [
    "### 백준 # 2525"
   ]
  },
  {
   "cell_type": "code",
   "execution_count": 33,
   "metadata": {},
   "outputs": [
    {
     "name": "stdout",
     "output_type": "stream",
     "text": [
      "0 13\n"
     ]
    }
   ],
   "source": [
    "A, B = map(int,input().split())\n",
    "C = int(input())\n",
    "if(A < 0 or A >=24 or B < 0 or B >= 60 or C < 0 or C > 1000):\n",
    "    print('잘못된 입력')\n",
    "else:\n",
    "    t_hour, t_min = A, B\n",
    "    m_hour, m_min = divmod(C, 60)\n",
    "    if t_hour + m_hour >= 24:\n",
    "        if t_min + m_min >= 60:\n",
    "            t_hour = (t_hour + m_hour) % 24 + 1\n",
    "            t_min = (t_min + m_min) % 60\n",
    "        else:\n",
    "            t_hour = (t_hour + m_hour) % 24\n",
    "            t_min += m_min\n",
    "    elif t_hour + m_hour == 23:\n",
    "        if t_min + m_min >= 60:\n",
    "            t_hour = 0\n",
    "            t_min = (t_min + m_min) % 60\n",
    "        else:\n",
    "            t_hour = 23\n",
    "            t_min += m_min\n",
    "    else:\n",
    "        if t_min + m_min >= 60:\n",
    "            t_hour += m_hour + 1\n",
    "            t_min = (t_min + m_min) % 60\n",
    "        else:\n",
    "            t_hour += m_hour\n",
    "            t_min += m_min\n",
    "print(t_hour, t_min)"
   ]
  },
  {
   "cell_type": "code",
   "execution_count": 11,
   "metadata": {},
   "outputs": [
    {
     "name": "stdout",
     "output_type": "stream",
     "text": [
      "01:20\n"
     ]
    }
   ],
   "source": [
    "hour, minute, cook_time = map(int, input('시 분 조리시간 입력').split())\n",
    "cook_hour, cook_minute = divmod(cook_time, 60)        # cook_time // 60, cook_time %  60\n",
    "if minute + cook_minute >= 60:\n",
    "    new_hour = (hour + cook_hour) % 24\n",
    "    new_minute = minute + cook_minute - 60\n",
    "else:\n",
    "    new_hour = (hour + cook_hour) % 24\n",
    "    new_minute = minute + cook_minute\n",
    "print(f'{new_hour:02d}:{new_minute:02d}')"
   ]
  },
  {
   "cell_type": "code",
   "execution_count": 8,
   "metadata": {},
   "outputs": [
    {
     "name": "stdout",
     "output_type": "stream",
     "text": [
      "0 10\n"
     ]
    }
   ],
   "source": [
    "hour, minute, cook_time = map(int, input('시 분 조리시간 입력').split())\n",
    "cook_hour, cook_minute = divmod(cook_time, 60)\n",
    "print((hour + ((minute + cook_minute) // 60)) % 24, (minute + cook_minute) % 60) "
   ]
  },
  {
   "cell_type": "code",
   "execution_count": 10,
   "metadata": {},
   "outputs": [
    {
     "name": "stdout",
     "output_type": "stream",
     "text": [
      "1 30\n"
     ]
    }
   ],
   "source": [
    "hour, minute, cook_time = map(int, input('시 분 조리시간 입력').split())\n",
    "new_hour, new_minute = ((hour*60 + minute + cook_time) // 60) % 24, (hour*60 + minute + cook_time) % 60\n",
    "print(new_hour, new_minute)"
   ]
  },
  {
   "cell_type": "markdown",
   "metadata": {},
   "source": [
    "### 백준 #2480"
   ]
  },
  {
   "cell_type": "code",
   "execution_count": 45,
   "metadata": {},
   "outputs": [
    {
     "name": "stdout",
     "output_type": "stream",
     "text": [
      "1400\n"
     ]
    }
   ],
   "source": [
    "a, b, c = map(int, input().split())\n",
    "if a < 0 or a > 6 or b < 0 or b > 6 or c < 0 or c > 6:\n",
    "    print('잘못 입력')\n",
    "else:\n",
    "    if a == b == c:\n",
    "        price = 10000 + a * 1000\n",
    "    elif a == b or a == c or b == c:\n",
    "        if a == b:\n",
    "            price = 1000 + a * 100\n",
    "        elif a == c:\n",
    "            price = 1000 + a * 100\n",
    "        else:\n",
    "            price = 1000 + b * 100\n",
    "    else:\n",
    "        if a > b > c or a > c > b:\n",
    "            price = a * 100\n",
    "        elif b > a > c or b > c > a:\n",
    "            price = b * 100\n",
    "        else:\n",
    "            price = c * 100\n",
    "    print(price)"
   ]
  },
  {
   "cell_type": "code",
   "execution_count": 12,
   "metadata": {},
   "outputs": [
    {
     "name": "stdout",
     "output_type": "stream",
     "text": [
      "1300\n"
     ]
    }
   ],
   "source": [
    "dice1, dice2, dice3 = map(int, input().split())\n",
    "if dice1 == dice2 == dice3:\n",
    "    prize = 10000 + dice1 * 1000\n",
    "elif dice1 == dice2 or dice1 == dice3:\n",
    "    prize = 1000 + dice1 * 100\n",
    "elif dice2 == dice3:\n",
    "    prize = 1000 + dice2 * 100\n",
    "else:\n",
    "    max_val = max([dice1, dice2, dice3])\n",
    "    prize = max_val * 100\n",
    "print(prize)"
   ]
  },
  {
   "cell_type": "code",
   "execution_count": 13,
   "metadata": {},
   "outputs": [
    {
     "name": "stdout",
     "output_type": "stream",
     "text": [
      "5\n"
     ]
    }
   ],
   "source": [
    "# 세개의 값에서 최대값을 찾는 문제\n",
    "a, b, c = 3, 5, 2\n",
    "if a > b and a > c:\n",
    "    print(a)\n",
    "if b > a and b > c:\n",
    "    print(b)\n",
    "if c > a and c > b:\n",
    "    print(c)"
   ]
  },
  {
   "cell_type": "code",
   "execution_count": null,
   "metadata": {},
   "outputs": [],
   "source": []
  }
 ],
 "metadata": {
  "kernelspec": {
   "display_name": "base",
   "language": "python",
   "name": "python3"
  },
  "language_info": {
   "codemirror_mode": {
    "name": "ipython",
    "version": 3
   },
   "file_extension": ".py",
   "mimetype": "text/x-python",
   "name": "python",
   "nbconvert_exporter": "python",
   "pygments_lexer": "ipython3",
   "version": "3.11.4"
  },
  "orig_nbformat": 4
 },
 "nbformat": 4,
 "nbformat_minor": 2
}
