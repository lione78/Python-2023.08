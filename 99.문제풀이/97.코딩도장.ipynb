{
 "cells": [
  {
   "cell_type": "markdown",
   "metadata": {},
   "source": [
    "### 심사 문제 Unit 8"
   ]
  },
  {
   "cell_type": "code",
   "execution_count": 3,
   "metadata": {},
   "outputs": [
    {
     "name": "stdout",
     "output_type": "stream",
     "text": [
      "True\n"
     ]
    }
   ],
   "source": [
    "korean, english, mathematics, science = map(int, input().split())\n",
    "print(korean >= 90 and english > 80 and mathematics > 85 and science >= 80)"
   ]
  },
  {
   "cell_type": "markdown",
   "metadata": {},
   "source": [
    "### 심사 문제 Unit 9"
   ]
  },
  {
   "cell_type": "code",
   "execution_count": 4,
   "metadata": {},
   "outputs": [
    {
     "name": "stdout",
     "output_type": "stream",
     "text": [
      "'Python' is a \"programming language\"\n",
      "that lets you work quickly\n",
      "and\n",
      "integrate systems more effectively.\n"
     ]
    }
   ],
   "source": [
    "s = ''''Python' is a \"programming language\"\n",
    "that lets you work quickly\n",
    "and\n",
    "integrate systems more effectively.'''\n",
    "print(s)"
   ]
  },
  {
   "cell_type": "markdown",
   "metadata": {},
   "source": [
    "### 심사 문제 Unit 13"
   ]
  },
  {
   "cell_type": "code",
   "execution_count": 7,
   "metadata": {},
   "outputs": [
    {
     "name": "stdout",
     "output_type": "stream",
     "text": [
      "67000\n"
     ]
    }
   ],
   "source": [
    "price = int(input())\n",
    "coupon = input()\n",
    "if(coupon == 'Cash3000'):\n",
    "    price -= 3000\n",
    "if(coupon == 'Cash5000'):\n",
    "    price -= 5000\n",
    "print(price)"
   ]
  },
  {
   "cell_type": "markdown",
   "metadata": {},
   "source": [
    "### 심사 문제 Unit 14"
   ]
  },
  {
   "cell_type": "code",
   "execution_count": 10,
   "metadata": {},
   "outputs": [
    {
     "name": "stdout",
     "output_type": "stream",
     "text": [
      "잘못된 점수\n"
     ]
    }
   ],
   "source": [
    "korean, english, mathematics, science = map(int,input().split())\n",
    "if(0 > korean or korean > 100 or 0 > english or english > 100 or 0 > mathematics or mathematics > 100 or 0 > science or science > 100):\n",
    "    print('잘못된 점수')\n",
    "else:\n",
    "    avg = (korean + english + mathematics + science) / 4\n",
    "    if(avg >= 80):\n",
    "        print('합격')\n",
    "    else:\n",
    "        print('불합격')"
   ]
  },
  {
   "cell_type": "code",
   "execution_count": 1,
   "metadata": {},
   "outputs": [
    {
     "name": "stdout",
     "output_type": "stream",
     "text": [
      "불합격\n"
     ]
    }
   ],
   "source": [
    "# list를 사용해서 개선된 코드\n",
    "scores = list(map(int, input().split()))\n",
    "if min(scores) < 0 or max(scores) > 100:\n",
    "    print('잘못된 점수')\n",
    "else:\n",
    "    avg = sum(scores)/len(scores)\n",
    "    if(avg >= 80):\n",
    "        print('합격')\n",
    "    else:\n",
    "        print('불합격')"
   ]
  },
  {
   "cell_type": "code",
   "execution_count": 12,
   "metadata": {},
   "outputs": [
    {
     "name": "stdout",
     "output_type": "stream",
     "text": [
      "8350\n"
     ]
    }
   ],
   "source": [
    "age = int(input())\n",
    "balance = 9000\n",
    "if 7 <= age <= 12:\n",
    "    balance -= 650\n",
    "elif 13 <= age <= 18:\n",
    "    balance -= 1050\n",
    "else:\n",
    "    balance -= 1250\n",
    "print(balance)"
   ]
  },
  {
   "cell_type": "markdown",
   "metadata": {},
   "source": [
    "### 심사문제 Unit 10"
   ]
  },
  {
   "cell_type": "code",
   "execution_count": 11,
   "metadata": {},
   "outputs": [
    {
     "name": "stdout",
     "output_type": "stream",
     "text": [
      "(-10, -7, -4, -1, 2, 5, 8)\n"
     ]
    }
   ],
   "source": [
    "num = int(input())\n",
    "a = tuple(range(-10, 10, num))\n",
    "print(a)"
   ]
  },
  {
   "cell_type": "markdown",
   "metadata": {},
   "source": [
    "### 심사문제 Unit 11 - 01"
   ]
  },
  {
   "cell_type": "code",
   "execution_count": 5,
   "metadata": {},
   "outputs": [
    {
     "name": "stdout",
     "output_type": "stream",
     "text": [
      "('1', '2', '3', '4', '5')\n"
     ]
    }
   ],
   "source": [
    "x = input().split()\n",
    "y = tuple(x[:len(x)-5])\n",
    "print(y)"
   ]
  },
  {
   "cell_type": "code",
   "execution_count": 2,
   "metadata": {},
   "outputs": [
    {
     "name": "stdout",
     "output_type": "stream",
     "text": [
      "('1', '2', '3', '4', '5')\n"
     ]
    }
   ],
   "source": [
    "x = input().split()\n",
    "del x[-5:]          # del x[len(x)-5:] \n",
    "print(tuple(x))"
   ]
  },
  {
   "cell_type": "markdown",
   "metadata": {},
   "source": [
    "### 심사문제 Unit 11 - 02"
   ]
  },
  {
   "cell_type": "code",
   "execution_count": 3,
   "metadata": {},
   "outputs": [
    {
     "name": "stdout",
     "output_type": "stream",
     "text": [
      "elwrd\n"
     ]
    }
   ],
   "source": [
    "a = input()\n",
    "b = input()\n",
    "print(a[1::2] + b[::2])"
   ]
  },
  {
   "cell_type": "markdown",
   "metadata": {},
   "source": [
    "### 심사문제 Unit 12"
   ]
  },
  {
   "cell_type": "code",
   "execution_count": 4,
   "metadata": {},
   "outputs": [
    {
     "name": "stdout",
     "output_type": "stream",
     "text": [
      "{'a': 3.1, 'b': 2.3, 'c': 4.5, 'd': 9.1}\n"
     ]
    }
   ],
   "source": [
    "a = input().split()\n",
    "b = list(map(float, input().split()))\n",
    "c = dict(zip(a, b))\n",
    "print(c)"
   ]
  },
  {
   "cell_type": "code",
   "execution_count": 5,
   "metadata": {},
   "outputs": [
    {
     "data": {
      "text/plain": [
       "[('a', 3.1), ('b', 2.3), ('c', 4.5), ('d', 9.1)]"
      ]
     },
     "execution_count": 5,
     "metadata": {},
     "output_type": "execute_result"
    }
   ],
   "source": [
    "list(zip(a, b))"
   ]
  },
  {
   "cell_type": "code",
   "execution_count": 10,
   "metadata": {},
   "outputs": [
    {
     "data": {
      "text/plain": [
       "(('a', 1), ('b', 2))"
      ]
     },
     "execution_count": 10,
     "metadata": {},
     "output_type": "execute_result"
    }
   ],
   "source": [
    "a = ['a', 'b']\n",
    "b = [1, 2]\n",
    "tuple(zip(a, b))"
   ]
  },
  {
   "cell_type": "code",
   "execution_count": 27,
   "metadata": {},
   "outputs": [
    {
     "name": "stdout",
     "output_type": "stream",
     "text": [
      "7 * 1 = 7\n",
      "7 * 2 = 14\n",
      "7 * 3 = 21\n",
      "7 * 4 = 28\n",
      "7 * 5 = 35\n",
      "7 * 6 = 42\n",
      "7 * 7 = 49\n",
      "7 * 8 = 56\n",
      "7 * 9 = 63\n"
     ]
    }
   ],
   "source": [
    "a = int(input())\n",
    "for i in range(1, 10):\n",
    "    print(f'{a} * {i} = {a*i}')"
   ]
  },
  {
   "cell_type": "markdown",
   "metadata": {},
   "source": [
    "### 심사 문제 Unit 20"
   ]
  },
  {
   "cell_type": "code",
   "execution_count": 29,
   "metadata": {},
   "outputs": [
    {
     "name": "stdout",
     "output_type": "stream",
     "text": [
      "FizzBuzz\n",
      "36\n",
      "37\n",
      "38\n",
      "39\n",
      "Fizz\n"
     ]
    }
   ],
   "source": [
    "a, b = map(int, input().split())\n",
    "for i in range(a, b+1):\n",
    "    if(i % 5 == 0 and i % 7 == 0):\n",
    "        print('FizzBuzz')\n",
    "    elif(i % 5 == 0):\n",
    "        print('Fizz')\n",
    "    elif(i % 7 == 0):\n",
    "        print('Buzz')\n",
    "    else:\n",
    "        print(i)"
   ]
  },
  {
   "cell_type": "code",
   "execution_count": 6,
   "metadata": {},
   "outputs": [
    {
     "name": "stdout",
     "output_type": "stream",
     "text": [
      "FizzBuzz 36 37 38 39 Fizz "
     ]
    }
   ],
   "source": [
    "# (i % 5 == 0) True -> 1 False -> 0 -> ''\n",
    "a, b = map(int, input().split())\n",
    "for i in range(a, b+1):\n",
    "    print('Fizz' * (i % 5 == 0) + 'Buzz' * (i % 7 == 0) or i, end=' ')"
   ]
  },
  {
   "cell_type": "markdown",
   "metadata": {},
   "source": [
    "### 심사 문제 Unit 22"
   ]
  },
  {
   "cell_type": "code",
   "execution_count": 56,
   "metadata": {},
   "outputs": [
    {
     "name": "stdout",
     "output_type": "stream",
     "text": [
      "[2, 8, 16, 32, 64, 128, 256, 1024]\n"
     ]
    }
   ],
   "source": [
    "start, end = map(int, input().split())\n",
    "power_list = []\n",
    "for index, value in enumerate(list(range(start, end+1))):\n",
    "    if index == 1:\n",
    "        _\n",
    "    elif index == end - start - 1:\n",
    "        _\n",
    "    else:\n",
    "        power_list.append(2**value)\n",
    "print(power_list)"
   ]
  },
  {
   "cell_type": "code",
   "execution_count": 8,
   "metadata": {},
   "outputs": [
    {
     "name": "stdout",
     "output_type": "stream",
     "text": [
      "[2, 8, 16, 32, 64, 128, 256, 1024]\n"
     ]
    }
   ],
   "source": [
    "# 2 4 8 16 32\n",
    "# del a[1]\n",
    "# del a[len(a)-2] -> 마지막을 지울수가 있음.\n",
    "# del a[3]\n",
    "m, n = map(int, input().split())\n",
    "if 1<=m<=20 and 10<=n<=30 and m<n:\n",
    "    power_list = []\n",
    "    for i in range(m, n+1):\n",
    "        power_list.append(2 ** i)\n",
    "    del power_list[1], power_list[-2]\n",
    "    print(power_list)"
   ]
  },
  {
   "cell_type": "code",
   "execution_count": 66,
   "metadata": {},
   "outputs": [
    {
     "name": "stdout",
     "output_type": "stream",
     "text": [
      "[2, 8, 16, 32, 64, 128, 256, 1024]\n"
     ]
    }
   ],
   "source": [
    "start, end = map(int, input().split())\n",
    "power_list = []\n",
    "for index, value in enumerate(list(range(start, end+1))):\n",
    "    power_list.append(2**value)\n",
    "print(power_list[:1] + power_list[2:end-start-1] + power_list[end-start:])"
   ]
  },
  {
   "cell_type": "code",
   "execution_count": 67,
   "metadata": {},
   "outputs": [
    {
     "name": "stdout",
     "output_type": "stream",
     "text": [
      "[2, 8, 16, 32, 64, 128, 256, 1024]\n"
     ]
    }
   ],
   "source": [
    "del power_list[1]\n",
    "del power_list[-2]\n",
    "print(power_list)"
   ]
  },
  {
   "cell_type": "code",
   "execution_count": 81,
   "metadata": {},
   "outputs": [
    {
     "data": {
      "text/plain": [
       "('ABC', 'AB')"
      ]
     },
     "execution_count": 81,
     "metadata": {},
     "output_type": "execute_result"
    }
   ],
   "source": [
    "a = 'ABC'\n",
    "b = a[:2]\n",
    "a, b"
   ]
  },
  {
   "cell_type": "code",
   "execution_count": 69,
   "metadata": {},
   "outputs": [
    {
     "data": {
      "text/plain": [
       "(1,)"
      ]
     },
     "execution_count": 69,
     "metadata": {},
     "output_type": "execute_result"
    }
   ],
   "source": [
    "b = (1, 2, 3)\n",
    "b[:1]"
   ]
  },
  {
   "cell_type": "code",
   "execution_count": 77,
   "metadata": {},
   "outputs": [
    {
     "data": {
      "text/plain": [
       "(0, 1)"
      ]
     },
     "execution_count": 77,
     "metadata": {},
     "output_type": "execute_result"
    }
   ],
   "source": [
    "a, b = range(3)[:2]\n",
    "a, b"
   ]
  },
  {
   "cell_type": "markdown",
   "metadata": {},
   "source": [
    "### 심사문제 Unit 17"
   ]
  },
  {
   "cell_type": "code",
   "execution_count": 15,
   "metadata": {},
   "outputs": [
    {
     "name": "stdout",
     "output_type": "stream",
     "text": [
      "12150\n",
      "10800\n",
      "9450\n",
      "8100\n",
      "6750\n",
      "5400\n",
      "4050\n",
      "2700\n",
      "1350\n",
      "0\n"
     ]
    }
   ],
   "source": [
    "deposit = int(input())\n",
    "while True:\n",
    "    deposit -= 1350\n",
    "    if deposit < 0:\n",
    "        break\n",
    "    print(deposit)"
   ]
  },
  {
   "cell_type": "markdown",
   "metadata": {},
   "source": [
    "### 심사문제 Unit 18"
   ]
  },
  {
   "cell_type": "code",
   "execution_count": 20,
   "metadata": {},
   "outputs": [
    {
     "name": "stdout",
     "output_type": "stream",
     "text": [
      "1 2 4 5 6 7 8 9 10 11 12 14 15 16 17 18 19 20 "
     ]
    }
   ],
   "source": [
    "start, stop = map(int, input().split())\n",
    "i = start\n",
    "while True:\n",
    "    if i % 10 == 3:\n",
    "        i += 1\n",
    "        continue\n",
    "    if i > stop:\n",
    "        break\n",
    "    print(i, end=' ')\n",
    "    i += 1\n",
    "    "
   ]
  },
  {
   "cell_type": "markdown",
   "metadata": {},
   "source": [
    "### 심사문제 Unit 19"
   ]
  },
  {
   "cell_type": "code",
   "execution_count": 37,
   "metadata": {},
   "outputs": [
    {
     "name": "stdout",
     "output_type": "stream",
     "text": [
      "    *\n",
      "   ***\n",
      "  *****\n",
      " *******\n",
      "*********\n"
     ]
    }
   ],
   "source": [
    "t_height = int(input())\n",
    "for i in range(0, t_height):\n",
    "    for _ in range(t_height - i - 1, 0, -1):\n",
    "        print(' ', end='')\n",
    "    # print(' '*(t_height - i - 1), end='')\n",
    "    for _ in range(0, 2*i+1):\n",
    "        print('*', end='')\n",
    "    # print('*'*(2*i+1), end='')\n",
    "    print()"
   ]
  },
  {
   "cell_type": "markdown",
   "metadata": {},
   "source": [
    "### 심사문제 Unit 24 - 1"
   ]
  },
  {
   "cell_type": "code",
   "execution_count": 41,
   "metadata": {},
   "outputs": [
    {
     "name": "stdout",
     "output_type": "stream",
     "text": [
      "6\n"
     ]
    }
   ],
   "source": [
    "content = input()\n",
    "words = content.split()\n",
    "count = 0\n",
    "for word in words:\n",
    "    word_strip = word.strip(',.')\n",
    "    if word_strip == 'the':\n",
    "        count += 1\n",
    "print(count)"
   ]
  },
  {
   "cell_type": "markdown",
   "metadata": {},
   "source": [
    "### 심사문제 Unit 24 - 2"
   ]
  },
  {
   "cell_type": "code",
   "execution_count": 57,
   "metadata": {},
   "outputs": [
    {
     "name": "stdout",
     "output_type": "stream",
     "text": [
      "1,304,000\n",
      "  367,500\n",
      "  250,000\n",
      "  158,000\n",
      "  128,500\n",
      "   83,000\n",
      "   59,200\n",
      "   51,900\n"
     ]
    }
   ],
   "source": [
    "price_list = list(map(int,input().split(';')))\n",
    "price_list.sort(reverse=True)\n",
    "for price in price_list:\n",
    "    print(f'{price:>9,d}')"
   ]
  },
  {
   "cell_type": "markdown",
   "metadata": {},
   "source": [
    "### 심사문제 Unit 25"
   ]
  },
  {
   "cell_type": "code",
   "execution_count": 4,
   "metadata": {},
   "outputs": [
    {
     "name": "stdout",
     "output_type": "stream",
     "text": [
      "{'bravo': 40, 'charlie': 50, 'echo': 70, 'foxtrot': 80, 'golf': 90}\n"
     ]
    }
   ],
   "source": [
    "keys = input().split()\n",
    "values = map(int, input().split())\n",
    "\n",
    "x = dict(zip(keys, values))\n",
    "\n",
    "x.pop('delta')\n",
    "x = {key:value for key, value in x.items() if value != 30}\n",
    "# x.pop([key for key, value in x.items() if value == 30][0])\n",
    "\n",
    "print(x)"
   ]
  },
  {
   "cell_type": "markdown",
   "metadata": {},
   "source": [
    "### 심사문제 Unit 26"
   ]
  },
  {
   "cell_type": "code",
   "execution_count": 12,
   "metadata": {},
   "outputs": [
    {
     "name": "stdout",
     "output_type": "stream",
     "text": [
      "18\n"
     ]
    }
   ],
   "source": [
    "x, y = map(int, input().split())\n",
    "a = {i for i in range(1, x+1) if x % i == 0}\n",
    "b = {j for j in range(1, y+1) if y % j == 0}\n",
    "\n",
    "divisor = a & b\n",
    "\n",
    "result = 0\n",
    "if type(divisor) == set:\n",
    "    result = sum(divisor)\n",
    "\n",
    "print(result)"
   ]
  },
  {
   "cell_type": "code",
   "execution_count": 12,
   "metadata": {},
   "outputs": [
    {
     "name": "stdout",
     "output_type": "stream",
     "text": [
      "0 1 * 2 1 \n",
      "1 2 3 * 1 \n",
      "2 * 5 3 2 \n",
      "3 * * * 1 \n",
      "* 4 * 3 1 \n"
     ]
    }
   ],
   "source": [
    "from pprint import pprint\n",
    "x, y = map(int, input().split())\n",
    "matrix = []\n",
    "for _ in range(x):\n",
    "    mines = input()\n",
    "    mines_row = []\n",
    "    for mine in mines:\n",
    "        mines_row.append(mine)\n",
    "    matrix.append(mines_row)\n",
    "padding_matrix = []\n",
    "top = ['.' for _ in range(x+2)]\n",
    "padding_matrix.append(top)\n",
    "padding_matrix_row = []\n",
    "for row in matrix:\n",
    "    padding_matrix_row = ['.']          # 왜 달라질까?\n",
    "    padding_matrix_row.extend(row)\n",
    "    padding_matrix_row.append('.')\n",
    "    padding_matrix.append(padding_matrix_row)\n",
    "padding_matrix.append(top)\n",
    "count = [['*' for _ in range(y)] for _ in range(x)]\n",
    "for i in range(1, x+1):\n",
    "    for j in range(1, y+1):\n",
    "        if padding_matrix[i][j] == '.':\n",
    "           count[i-1][j-1] = 0\n",
    "           for k in range(i-1,i+2):\n",
    "               for l in range(j-1,j+2):\n",
    "                   if padding_matrix[k][l] == '*':\n",
    "                        count[i-1][j-1] += 1\n",
    "for count_row in count:\n",
    "    for mine_count in count_row:\n",
    "        print(mine_count)\n",
    "    print()"
   ]
  },
  {
   "cell_type": "code",
   "execution_count": 13,
   "metadata": {},
   "outputs": [
    {
     "name": "stdout",
     "output_type": "stream",
     "text": [
      "0\n",
      "1\n",
      "*\n",
      "2\n",
      "1\n",
      "\n",
      "1\n",
      "2\n",
      "3\n",
      "*\n",
      "1\n",
      "\n",
      "2\n",
      "*\n",
      "5\n",
      "3\n",
      "2\n",
      "\n",
      "3\n",
      "*\n",
      "*\n",
      "*\n",
      "1\n",
      "\n",
      "*\n",
      "4\n",
      "*\n",
      "3\n",
      "1\n",
      "\n"
     ]
    }
   ],
   "source": [
    "x, y = map(int, input().split())\n",
    "matrix = []\n",
    "for _ in range(x):\n",
    "    mines = input()\n",
    "    mines_row = []\n",
    "    for mine in mines:\n",
    "        mines_row.append(mine)\n",
    "    matrix.append(mines_row)\n",
    "padding_matrix = []\n",
    "top = ['.' for _ in range(x+2)]\n",
    "padding_matrix.append(top)\n",
    "padding_matrix_row = []\n",
    "for row in matrix:\n",
    "    padding_matrix_row = ['.']\n",
    "    padding_matrix_row.extend(row)\n",
    "    padding_matrix_row.append('.')\n",
    "    padding_matrix.append(padding_matrix_row)\n",
    "padding_matrix.append(top)\n",
    "for i in range(1, x+1):\n",
    "    for j in range(1, y+1):\n",
    "        if padding_matrix[i][j] == '.':\n",
    "           matrix[i-1][j-1] = 0\n",
    "           for k in range(i-1,i+2):\n",
    "               for l in range(j-1,j+2):\n",
    "                   if padding_matrix[k][l] == '*':\n",
    "                        matrix[i-1][j-1] += 1\n",
    "for matrix_row in matrix:\n",
    "    for mine_count in matrix_row:\n",
    "        print(mine_count, end='')\n",
    "    print()"
   ]
  },
  {
   "cell_type": "code",
   "execution_count": null,
   "metadata": {},
   "outputs": [],
   "source": []
  }
 ],
 "metadata": {
  "kernelspec": {
   "display_name": "base",
   "language": "python",
   "name": "python3"
  },
  "language_info": {
   "codemirror_mode": {
    "name": "ipython",
    "version": 3
   },
   "file_extension": ".py",
   "mimetype": "text/x-python",
   "name": "python",
   "nbconvert_exporter": "python",
   "pygments_lexer": "ipython3",
   "version": "3.11.4"
  },
  "orig_nbformat": 4
 },
 "nbformat": 4,
 "nbformat_minor": 2
}
