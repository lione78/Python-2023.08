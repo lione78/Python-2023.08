{
 "cells": [
  {
   "cell_type": "markdown",
   "metadata": {},
   "source": [
    "### 심사 문제 Unit 8"
   ]
  },
  {
   "cell_type": "code",
   "execution_count": 3,
   "metadata": {},
   "outputs": [
    {
     "name": "stdout",
     "output_type": "stream",
     "text": [
      "True\n"
     ]
    }
   ],
   "source": [
    "korean, english, mathematics, science = map(int, input().split())\n",
    "print(korean >= 90 and english > 80 and mathematics > 85 and science >= 80)"
   ]
  },
  {
   "cell_type": "markdown",
   "metadata": {},
   "source": [
    "### 심사 문제 Unit 9"
   ]
  },
  {
   "cell_type": "code",
   "execution_count": 4,
   "metadata": {},
   "outputs": [
    {
     "name": "stdout",
     "output_type": "stream",
     "text": [
      "'Python' is a \"programming language\"\n",
      "that lets you work quickly\n",
      "and\n",
      "integrate systems more effectively.\n"
     ]
    }
   ],
   "source": [
    "s = ''''Python' is a \"programming language\"\n",
    "that lets you work quickly\n",
    "and\n",
    "integrate systems more effectively.'''\n",
    "print(s)"
   ]
  },
  {
   "cell_type": "markdown",
   "metadata": {},
   "source": [
    "### 심사 문제 Unit 13"
   ]
  },
  {
   "cell_type": "code",
   "execution_count": 7,
   "metadata": {},
   "outputs": [
    {
     "name": "stdout",
     "output_type": "stream",
     "text": [
      "67000\n"
     ]
    }
   ],
   "source": [
    "price = int(input())\n",
    "coupon = input()\n",
    "if(coupon == 'Cash3000'):\n",
    "    price -= 3000\n",
    "if(coupon == 'Cash5000'):\n",
    "    price -= 5000\n",
    "print(price)"
   ]
  },
  {
   "cell_type": "markdown",
   "metadata": {},
   "source": [
    "### 심사 문제 Unit 14"
   ]
  },
  {
   "cell_type": "code",
   "execution_count": 10,
   "metadata": {},
   "outputs": [
    {
     "name": "stdout",
     "output_type": "stream",
     "text": [
      "잘못된 점수\n"
     ]
    }
   ],
   "source": [
    "korean, english, mathematics, science = map(int,input().split())\n",
    "if(0 > korean or korean > 100 or 0 > english or english > 100 or 0 > mathematics or mathematics > 100 or 0 > science or science > 100):\n",
    "    print('잘못된 점수')\n",
    "else:\n",
    "    avg = (korean + english + mathematics + science) / 4\n",
    "    if(avg >= 80):\n",
    "        print('합격')\n",
    "    else:\n",
    "        print('불합격')"
   ]
  },
  {
   "cell_type": "markdown",
   "metadata": {},
   "source": [
    "### 심사 문제 Unit 15"
   ]
  },
  {
   "cell_type": "code",
   "execution_count": 12,
   "metadata": {},
   "outputs": [
    {
     "name": "stdout",
     "output_type": "stream",
     "text": [
      "8350\n"
     ]
    }
   ],
   "source": [
    "age = int(input())\n",
    "balance = 9000\n",
    "if 7 <= age <= 12:\n",
    "    balance -= 650\n",
    "elif 13 <= age <= 18:\n",
    "    balance -= 1050\n",
    "else:\n",
    "    balance -= 1250\n",
    "print(balance)"
   ]
  },
  {
   "cell_type": "markdown",
   "metadata": {},
   "source": [
    "### 백준 #14681"
   ]
  },
  {
   "cell_type": "code",
   "execution_count": 14,
   "metadata": {},
   "outputs": [
    {
     "name": "stdout",
     "output_type": "stream",
     "text": [
      "4\n"
     ]
    }
   ],
   "source": [
    "x = int(input())\n",
    "y = int(input())\n",
    "if x < -1000 or x > 1000 or x == 0 or y < -1000 or y > 1000 or y == 0:\n",
    "    print('잘못된 숫자')\n",
    "else:\n",
    "    if x > 0 and y > 0:\n",
    "        quadrant = 1\n",
    "    elif x < 0 and y > 0:\n",
    "        quadrant = 2\n",
    "    elif x < 0 and y < 0:\n",
    "        quadrant = 3\n",
    "    else:\n",
    "        quadrant = 4\n",
    "print(quadrant)\n"
   ]
  },
  {
   "cell_type": "markdown",
   "metadata": {},
   "source": [
    "### 백준 # 2884"
   ]
  },
  {
   "cell_type": "code",
   "execution_count": 22,
   "metadata": {},
   "outputs": [
    {
     "name": "stdout",
     "output_type": "stream",
     "text": [
      "22 55\n"
     ]
    }
   ],
   "source": [
    "H, M = map(int, input().split())\n",
    "if H < 0 or H > 24 or M < 0 or M > 60:\n",
    "    print('잘못된 입력')\n",
    "elif 1 <= H <= 23:\n",
    "    if 45 <= M <= 59:\n",
    "        M -= 45\n",
    "    elif M == 00:\n",
    "        H -= 1\n",
    "        M = 60 - 45\n",
    "    else:\n",
    "        H -= 1\n",
    "        M = 60 - (45 - M)\n",
    "else:\n",
    "    if 45 <= M <= 59:\n",
    "        M -= 45\n",
    "    elif M == 00:\n",
    "        H = 23\n",
    "        M = 60 - 45\n",
    "    else:\n",
    "        H = 23\n",
    "        M = 60 - (45 - M)\n",
    "print(H, M)\n"
   ]
  },
  {
   "cell_type": "markdown",
   "metadata": {},
   "source": [
    "### 백준 # 2525"
   ]
  },
  {
   "cell_type": "code",
   "execution_count": 33,
   "metadata": {},
   "outputs": [
    {
     "name": "stdout",
     "output_type": "stream",
     "text": [
      "0 13\n"
     ]
    }
   ],
   "source": [
    "A, B = map(int,input().split())\n",
    "C = int(input())\n",
    "if(A < 0 or A >=24 or B < 0 or B >= 60 or C < 0 or C > 1000):\n",
    "    print('잘못된 입력')\n",
    "else:\n",
    "    t_hour, t_min = A, B\n",
    "    m_hour, m_min = divmod(C, 60)\n",
    "    if t_hour + m_hour >= 24:\n",
    "        if t_min + m_min >= 60:\n",
    "            t_hour = (t_hour + m_hour) % 24 + 1\n",
    "            t_min = (t_min + m_min) % 60\n",
    "        else:\n",
    "            t_hour = (t_hour + m_hour) % 24\n",
    "            t_min += m_min\n",
    "    elif t_hour + m_hour == 23:\n",
    "        if t_min + m_min >= 60:\n",
    "            t_hour = 0\n",
    "            t_min = (t_min + m_min) % 60\n",
    "        else:\n",
    "            t_hour = 23\n",
    "            t_min += m_min\n",
    "    else:\n",
    "        if t_min + m_min >= 60:\n",
    "            t_hour += m_hour + 1\n",
    "            t_min = (t_min + m_min) % 60\n",
    "        else:\n",
    "            t_hour += m_hour\n",
    "            t_min += m_min\n",
    "print(t_hour, t_min)"
   ]
  },
  {
   "cell_type": "markdown",
   "metadata": {},
   "source": [
    "### 백준 #2480"
   ]
  },
  {
   "cell_type": "code",
   "execution_count": 45,
   "metadata": {},
   "outputs": [
    {
     "name": "stdout",
     "output_type": "stream",
     "text": [
      "1400\n"
     ]
    }
   ],
   "source": [
    "a, b, c = map(int, input().split())\n",
    "if a < 0 or a > 6 or b < 0 or b > 6 or c < 0 or c > 6:\n",
    "    print('잘못 입력')\n",
    "else:\n",
    "    if a == b == c:\n",
    "        price = 10000 + a * 1000\n",
    "    elif a == b or a == c or b == c:\n",
    "        if a == b:\n",
    "            price = 1000 + a * 100\n",
    "        elif a == c:\n",
    "            price = 1000 + a * 100\n",
    "        else:\n",
    "            price = 1000 + b * 100\n",
    "    else:\n",
    "        if a > b > c or a > c > b:\n",
    "            price = a * 100\n",
    "        elif b > a > c or b > c > a:\n",
    "            price = b * 100\n",
    "        else:\n",
    "            price = c * 100\n",
    "    print(price)"
   ]
  }
 ],
 "metadata": {
  "kernelspec": {
   "display_name": "base",
   "language": "python",
   "name": "python3"
  },
  "language_info": {
   "codemirror_mode": {
    "name": "ipython",
    "version": 3
   },
   "file_extension": ".py",
   "mimetype": "text/x-python",
   "name": "python",
   "nbconvert_exporter": "python",
   "pygments_lexer": "ipython3",
   "version": "3.11.4"
  },
  "orig_nbformat": 4
 },
 "nbformat": 4,
 "nbformat_minor": 2
}
