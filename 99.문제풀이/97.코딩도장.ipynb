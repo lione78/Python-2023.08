{
 "cells": [
  {
   "cell_type": "markdown",
   "metadata": {},
   "source": [
    "### 심사 문제 Unit 8"
   ]
  },
  {
   "cell_type": "code",
   "execution_count": 3,
   "metadata": {},
   "outputs": [
    {
     "name": "stdout",
     "output_type": "stream",
     "text": [
      "True\n"
     ]
    }
   ],
   "source": [
    "korean, english, mathematics, science = map(int, input().split())\n",
    "print(korean >= 90 and english > 80 and mathematics > 85 and science >= 80)"
   ]
  },
  {
   "cell_type": "markdown",
   "metadata": {},
   "source": [
    "### 심사 문제 Unit 9"
   ]
  },
  {
   "cell_type": "code",
   "execution_count": 4,
   "metadata": {},
   "outputs": [
    {
     "name": "stdout",
     "output_type": "stream",
     "text": [
      "'Python' is a \"programming language\"\n",
      "that lets you work quickly\n",
      "and\n",
      "integrate systems more effectively.\n"
     ]
    }
   ],
   "source": [
    "s = ''''Python' is a \"programming language\"\n",
    "that lets you work quickly\n",
    "and\n",
    "integrate systems more effectively.'''\n",
    "print(s)"
   ]
  },
  {
   "cell_type": "markdown",
   "metadata": {},
   "source": [
    "### 심사 문제 Unit 13"
   ]
  },
  {
   "cell_type": "code",
   "execution_count": 7,
   "metadata": {},
   "outputs": [
    {
     "name": "stdout",
     "output_type": "stream",
     "text": [
      "67000\n"
     ]
    }
   ],
   "source": [
    "price = int(input())\n",
    "coupon = input()\n",
    "if(coupon == 'Cash3000'):\n",
    "    price -= 3000\n",
    "if(coupon == 'Cash5000'):\n",
    "    price -= 5000\n",
    "print(price)"
   ]
  },
  {
   "cell_type": "markdown",
   "metadata": {},
   "source": [
    "### 심사 문제 Unit 14"
   ]
  },
  {
   "cell_type": "code",
   "execution_count": 10,
   "metadata": {},
   "outputs": [
    {
     "name": "stdout",
     "output_type": "stream",
     "text": [
      "잘못된 점수\n"
     ]
    }
   ],
   "source": [
    "korean, english, mathematics, science = map(int,input().split())\n",
    "if(0 > korean or korean > 100 or 0 > english or english > 100 or 0 > mathematics or mathematics > 100 or 0 > science or science > 100):\n",
    "    print('잘못된 점수')\n",
    "else:\n",
    "    avg = (korean + english + mathematics + science) / 4\n",
    "    if(avg >= 80):\n",
    "        print('합격')\n",
    "    else:\n",
    "        print('불합격')"
   ]
  },
  {
   "cell_type": "code",
   "execution_count": 1,
   "metadata": {},
   "outputs": [
    {
     "name": "stdout",
     "output_type": "stream",
     "text": [
      "불합격\n"
     ]
    }
   ],
   "source": [
    "# list를 사용해서 개선된 코드\n",
    "scores = list(map(int, input().split()))\n",
    "if min(scores) < 0 or max(scores) > 100:\n",
    "    print('잘못된 점수')\n",
    "else:\n",
    "    avg = sum(scores)/len(scores)\n",
    "    if(avg >= 80):\n",
    "        print('합격')\n",
    "    else:\n",
    "        print('불합격')"
   ]
  },
  {
   "cell_type": "code",
   "execution_count": 12,
   "metadata": {},
   "outputs": [
    {
     "name": "stdout",
     "output_type": "stream",
     "text": [
      "8350\n"
     ]
    }
   ],
   "source": [
    "age = int(input())\n",
    "balance = 9000\n",
    "if 7 <= age <= 12:\n",
    "    balance -= 650\n",
    "elif 13 <= age <= 18:\n",
    "    balance -= 1050\n",
    "else:\n",
    "    balance -= 1250\n",
    "print(balance)"
   ]
  },
  {
   "cell_type": "markdown",
   "metadata": {},
   "source": [
    "### 심사문제 Unit 10"
   ]
  },
  {
   "cell_type": "code",
   "execution_count": 11,
   "metadata": {},
   "outputs": [
    {
     "name": "stdout",
     "output_type": "stream",
     "text": [
      "(-10, -7, -4, -1, 2, 5, 8)\n"
     ]
    }
   ],
   "source": [
    "num = int(input())\n",
    "a = tuple(range(-10, 10, num))\n",
    "print(a)"
   ]
  },
  {
   "cell_type": "markdown",
   "metadata": {},
   "source": [
    "### 심사문제 Unit 11 - 01"
   ]
  },
  {
   "cell_type": "code",
   "execution_count": 5,
   "metadata": {},
   "outputs": [
    {
     "name": "stdout",
     "output_type": "stream",
     "text": [
      "('1', '2', '3', '4', '5')\n"
     ]
    }
   ],
   "source": [
    "x = input().split()\n",
    "y = tuple(x[:len(x)-5])\n",
    "print(y)"
   ]
  },
  {
   "cell_type": "code",
   "execution_count": 2,
   "metadata": {},
   "outputs": [
    {
     "name": "stdout",
     "output_type": "stream",
     "text": [
      "('1', '2', '3', '4', '5')\n"
     ]
    }
   ],
   "source": [
    "x = input().split()\n",
    "del x[-5:]          # del x[len(x)-5:] \n",
    "print(tuple(x))"
   ]
  },
  {
   "cell_type": "markdown",
   "metadata": {},
   "source": [
    "### 심사문제 Unit 11 - 02"
   ]
  },
  {
   "cell_type": "code",
   "execution_count": 3,
   "metadata": {},
   "outputs": [
    {
     "name": "stdout",
     "output_type": "stream",
     "text": [
      "elwrd\n"
     ]
    }
   ],
   "source": [
    "a = input()\n",
    "b = input()\n",
    "print(a[1::2] + b[::2])"
   ]
  },
  {
   "cell_type": "markdown",
   "metadata": {},
   "source": [
    "### 심사문제 Unit 12"
   ]
  },
  {
   "cell_type": "code",
   "execution_count": 4,
   "metadata": {},
   "outputs": [
    {
     "name": "stdout",
     "output_type": "stream",
     "text": [
      "{'a': 3.1, 'b': 2.3, 'c': 4.5, 'd': 9.1}\n"
     ]
    }
   ],
   "source": [
    "a = input().split()\n",
    "b = list(map(float, input().split()))\n",
    "c = dict(zip(a, b))\n",
    "print(c)"
   ]
  },
  {
   "cell_type": "code",
   "execution_count": 5,
   "metadata": {},
   "outputs": [
    {
     "data": {
      "text/plain": [
       "[('a', 3.1), ('b', 2.3), ('c', 4.5), ('d', 9.1)]"
      ]
     },
     "execution_count": 5,
     "metadata": {},
     "output_type": "execute_result"
    }
   ],
   "source": [
    "list(zip(a, b))"
   ]
  },
  {
   "cell_type": "code",
   "execution_count": 10,
   "metadata": {},
   "outputs": [
    {
     "data": {
      "text/plain": [
       "(('a', 1), ('b', 2))"
      ]
     },
     "execution_count": 10,
     "metadata": {},
     "output_type": "execute_result"
    }
   ],
   "source": [
    "a = ['a', 'b']\n",
    "b = [1, 2]\n",
    "tuple(zip(a, b))"
   ]
  },
  {
   "cell_type": "code",
   "execution_count": 27,
   "metadata": {},
   "outputs": [
    {
     "name": "stdout",
     "output_type": "stream",
     "text": [
      "7 * 1 = 7\n",
      "7 * 2 = 14\n",
      "7 * 3 = 21\n",
      "7 * 4 = 28\n",
      "7 * 5 = 35\n",
      "7 * 6 = 42\n",
      "7 * 7 = 49\n",
      "7 * 8 = 56\n",
      "7 * 9 = 63\n"
     ]
    }
   ],
   "source": [
    "a = int(input())\n",
    "for i in range(1, 10):\n",
    "    print(f'{a} * {i} = {a*i}')"
   ]
  },
  {
   "cell_type": "markdown",
   "metadata": {},
   "source": [
    "### 심사 문제 Unit 20"
   ]
  },
  {
   "cell_type": "code",
   "execution_count": 29,
   "metadata": {},
   "outputs": [
    {
     "name": "stdout",
     "output_type": "stream",
     "text": [
      "FizzBuzz\n",
      "36\n",
      "37\n",
      "38\n",
      "39\n",
      "Fizz\n"
     ]
    }
   ],
   "source": [
    "a, b = map(int, input().split())\n",
    "for i in range(a, b+1):\n",
    "    if(i % 5 == 0 and i % 7 == 0):\n",
    "        print('FizzBuzz')\n",
    "    elif(i % 5 == 0):\n",
    "        print('Fizz')\n",
    "    elif(i % 7 == 0):\n",
    "        print('Buzz')\n",
    "    else:\n",
    "        print(i)"
   ]
  },
  {
   "cell_type": "code",
   "execution_count": 6,
   "metadata": {},
   "outputs": [
    {
     "name": "stdout",
     "output_type": "stream",
     "text": [
      "FizzBuzz 36 37 38 39 Fizz "
     ]
    }
   ],
   "source": [
    "# (i % 5 == 0) True -> 1 False -> 0 -> ''\n",
    "a, b = map(int, input().split())\n",
    "for i in range(a, b+1):\n",
    "    print('Fizz' * (i % 5 == 0) + 'Buzz' * (i % 7 == 0) or i, end=' ')"
   ]
  },
  {
   "cell_type": "markdown",
   "metadata": {},
   "source": [
    "### 심사 문제 Unit 22"
   ]
  },
  {
   "cell_type": "code",
   "execution_count": 56,
   "metadata": {},
   "outputs": [
    {
     "name": "stdout",
     "output_type": "stream",
     "text": [
      "[2, 8, 16, 32, 64, 128, 256, 1024]\n"
     ]
    }
   ],
   "source": [
    "start, end = map(int, input().split())\n",
    "power_list = []\n",
    "for index, value in enumerate(list(range(start, end+1))):\n",
    "    if index == 1:\n",
    "        _\n",
    "    elif index == end - start - 1:\n",
    "        _\n",
    "    else:\n",
    "        power_list.append(2**value)\n",
    "print(power_list)"
   ]
  },
  {
   "cell_type": "code",
   "execution_count": 8,
   "metadata": {},
   "outputs": [
    {
     "name": "stdout",
     "output_type": "stream",
     "text": [
      "[2, 8, 16, 32, 64, 128, 256, 1024]\n"
     ]
    }
   ],
   "source": [
    "# 2 4 8 16 32\n",
    "# del a[1]\n",
    "# del a[len(a)-2] -> 마지막을 지울수가 있음.\n",
    "# del a[3]\n",
    "m, n = map(int, input().split())\n",
    "if 1<=m<=20 and 10<=n<=30 and m<n:\n",
    "    power_list = []\n",
    "    for i in range(m, n+1):\n",
    "        power_list.append(2 ** i)\n",
    "    del power_list[1], power_list[-2]\n",
    "    print(power_list)"
   ]
  },
  {
   "cell_type": "code",
   "execution_count": 66,
   "metadata": {},
   "outputs": [
    {
     "name": "stdout",
     "output_type": "stream",
     "text": [
      "[2, 8, 16, 32, 64, 128, 256, 1024]\n"
     ]
    }
   ],
   "source": [
    "start, end = map(int, input().split())\n",
    "power_list = []\n",
    "for index, value in enumerate(list(range(start, end+1))):\n",
    "    power_list.append(2**value)\n",
    "print(power_list[:1] + power_list[2:end-start-1] + power_list[end-start:])"
   ]
  },
  {
   "cell_type": "code",
   "execution_count": 67,
   "metadata": {},
   "outputs": [
    {
     "name": "stdout",
     "output_type": "stream",
     "text": [
      "[2, 8, 16, 32, 64, 128, 256, 1024]\n"
     ]
    }
   ],
   "source": [
    "del power_list[1]\n",
    "del power_list[-2]\n",
    "print(power_list)"
   ]
  },
  {
   "cell_type": "code",
   "execution_count": 81,
   "metadata": {},
   "outputs": [
    {
     "data": {
      "text/plain": [
       "('ABC', 'AB')"
      ]
     },
     "execution_count": 81,
     "metadata": {},
     "output_type": "execute_result"
    }
   ],
   "source": [
    "a = 'ABC'\n",
    "b = a[:2]\n",
    "a, b"
   ]
  },
  {
   "cell_type": "code",
   "execution_count": 69,
   "metadata": {},
   "outputs": [
    {
     "data": {
      "text/plain": [
       "(1,)"
      ]
     },
     "execution_count": 69,
     "metadata": {},
     "output_type": "execute_result"
    }
   ],
   "source": [
    "b = (1, 2, 3)\n",
    "b[:1]"
   ]
  },
  {
   "cell_type": "code",
   "execution_count": 77,
   "metadata": {},
   "outputs": [
    {
     "data": {
      "text/plain": [
       "(0, 1)"
      ]
     },
     "execution_count": 77,
     "metadata": {},
     "output_type": "execute_result"
    }
   ],
   "source": [
    "a, b = range(3)[:2]\n",
    "a, b"
   ]
  },
  {
   "cell_type": "markdown",
   "metadata": {},
   "source": [
    "### 심사문제 Unit 17"
   ]
  },
  {
   "cell_type": "code",
   "execution_count": 15,
   "metadata": {},
   "outputs": [
    {
     "name": "stdout",
     "output_type": "stream",
     "text": [
      "12150\n",
      "10800\n",
      "9450\n",
      "8100\n",
      "6750\n",
      "5400\n",
      "4050\n",
      "2700\n",
      "1350\n",
      "0\n"
     ]
    }
   ],
   "source": [
    "deposit = int(input())\n",
    "while True:\n",
    "    deposit -= 1350\n",
    "    if deposit < 0:\n",
    "        break\n",
    "    print(deposit)"
   ]
  },
  {
   "cell_type": "code",
   "execution_count": null,
   "metadata": {},
   "outputs": [],
   "source": [
    "balance = int(input())\n",
    "fare = 1350\n",
    "while balance >= fare:\n",
    "    balance -= fare\n",
    "    print(balance)"
   ]
  },
  {
   "cell_type": "markdown",
   "metadata": {},
   "source": [
    "### 심사문제 Unit 18"
   ]
  },
  {
   "cell_type": "code",
   "execution_count": 20,
   "metadata": {},
   "outputs": [
    {
     "name": "stdout",
     "output_type": "stream",
     "text": [
      "1 2 4 5 6 7 8 9 10 11 12 14 15 16 17 18 19 20 "
     ]
    }
   ],
   "source": [
    "start, stop = map(int, input().split())\n",
    "i = start\n",
    "while True:\n",
    "    if i % 10 == 3:\n",
    "        i += 1\n",
    "        continue\n",
    "    if i > stop:\n",
    "        break\n",
    "    print(i, end=' ')\n",
    "    i += 1\n",
    "    "
   ]
  },
  {
   "cell_type": "code",
   "execution_count": null,
   "metadata": {},
   "outputs": [],
   "source": [
    "start, stop = map(int, input().split())\n",
    "for i in range(start, stop+1):\n",
    "    if i % 3 == 0:\n",
    "        continue\n",
    "    print(i)"
   ]
  },
  {
   "cell_type": "markdown",
   "metadata": {},
   "source": [
    "### 심사문제 Unit 19"
   ]
  },
  {
   "cell_type": "code",
   "execution_count": 37,
   "metadata": {},
   "outputs": [
    {
     "name": "stdout",
     "output_type": "stream",
     "text": [
      "    *\n",
      "   ***\n",
      "  *****\n",
      " *******\n",
      "*********\n"
     ]
    }
   ],
   "source": [
    "t_height = int(input())\n",
    "for i in range(0, t_height):\n",
    "    for _ in range(t_height - i - 1, 0, -1):\n",
    "        print(' ', end='')\n",
    "    # print(' '*(t_height - i - 1), end='')\n",
    "    for _ in range(0, 2*i+1):\n",
    "        print('*', end='')\n",
    "    # print('*'*(2*i+1), end='')\n",
    "    print()"
   ]
  },
  {
   "cell_type": "code",
   "execution_count": 2,
   "metadata": {},
   "outputs": [
    {
     "name": "stdout",
     "output_type": "stream",
     "text": [
      "    *\n",
      "   ***\n",
      "  *****\n",
      " *******\n",
      "*********\n"
     ]
    }
   ],
   "source": [
    "height = int(input())\n",
    "for i in range(1, height + 1):\n",
    "    print(' ' * (height - i), end='')\n",
    "    print('*' * (2*i -1))"
   ]
  },
  {
   "cell_type": "markdown",
   "metadata": {},
   "source": [
    "### 심사문제 Unit 24 - 1"
   ]
  },
  {
   "cell_type": "code",
   "execution_count": 41,
   "metadata": {},
   "outputs": [
    {
     "name": "stdout",
     "output_type": "stream",
     "text": [
      "6\n"
     ]
    }
   ],
   "source": [
    "content = input()\n",
    "words = content.split()\n",
    "count = 0\n",
    "for word in words:\n",
    "    word_strip = word.strip(',.')\n",
    "    if word_strip == 'the':\n",
    "        count += 1\n",
    "print(count)"
   ]
  },
  {
   "cell_type": "code",
   "execution_count": null,
   "metadata": {},
   "outputs": [],
   "source": [
    "text_list = text.split()\n",
    "count_the = 0\n",
    "for word in text_list:\n",
    "    word = word.strip(\"',.\").lower()\n",
    "    if word == 'the':\n",
    "        count_the += 1\n",
    "print(count_the)"
   ]
  },
  {
   "cell_type": "markdown",
   "metadata": {},
   "source": [
    "### 심사문제 Unit 24 - 2"
   ]
  },
  {
   "cell_type": "code",
   "execution_count": 57,
   "metadata": {},
   "outputs": [
    {
     "name": "stdout",
     "output_type": "stream",
     "text": [
      "1,304,000\n",
      "  367,500\n",
      "  250,000\n",
      "  158,000\n",
      "  128,500\n",
      "   83,000\n",
      "   59,200\n",
      "   51,900\n"
     ]
    }
   ],
   "source": [
    "price_list = list(map(int,input().split(';')))\n",
    "price_list.sort(reverse=True)\n",
    "for price in price_list:\n",
    "    print(f'{price:>9,d}')"
   ]
  },
  {
   "cell_type": "markdown",
   "metadata": {},
   "source": [
    "### 심사문제 Unit 25"
   ]
  },
  {
   "cell_type": "code",
   "execution_count": 4,
   "metadata": {},
   "outputs": [
    {
     "name": "stdout",
     "output_type": "stream",
     "text": [
      "{'bravo': 40, 'charlie': 50, 'echo': 70, 'foxtrot': 80, 'golf': 90}\n"
     ]
    }
   ],
   "source": [
    "keys = input().split()\n",
    "values = map(int, input().split())\n",
    "\n",
    "x = dict(zip(keys, values))\n",
    "\n",
    "x.pop('delta')\n",
    "x = {key:value for key, value in x.items() if value != 30}\n",
    "# x.pop([key for key, value in x.items() if value == 30][0])\n",
    "\n",
    "print(x)"
   ]
  },
  {
   "cell_type": "code",
   "execution_count": 21,
   "metadata": {},
   "outputs": [
    {
     "ename": "RuntimeError",
     "evalue": "dictionary changed size during iteration",
     "output_type": "error",
     "traceback": [
      "\u001b[1;31m---------------------------------------------------------------------------\u001b[0m",
      "\u001b[1;31mRuntimeError\u001b[0m                              Traceback (most recent call last)",
      "Cell \u001b[1;32mIn[21], line 4\u001b[0m\n\u001b[0;32m      1\u001b[0m \u001b[39m# 반복문에서 반복 대상이 되는 딕셔너리의 크기를 변경시키는 작업을 하면 에러 발생\u001b[39;00m\n\u001b[0;32m      2\u001b[0m \u001b[39m# 하지만 데이터는 삭제됨\u001b[39;00m\n\u001b[0;32m      3\u001b[0m d \u001b[39m=\u001b[39m {\u001b[39m'\u001b[39m\u001b[39malpha\u001b[39m\u001b[39m'\u001b[39m : \u001b[39m10\u001b[39m, \u001b[39m'\u001b[39m\u001b[39mbravo\u001b[39m\u001b[39m'\u001b[39m : \u001b[39m20\u001b[39m, \u001b[39m'\u001b[39m\u001b[39mcharlie\u001b[39m\u001b[39m'\u001b[39m : \u001b[39m30\u001b[39m}\n\u001b[1;32m----> 4\u001b[0m \u001b[39mfor\u001b[39;00m key, value \u001b[39min\u001b[39;00m d\u001b[39m.\u001b[39mitems():\n\u001b[0;32m      5\u001b[0m     \u001b[39mif\u001b[39;00m value \u001b[39m==\u001b[39m \u001b[39m30\u001b[39m:\n\u001b[0;32m      6\u001b[0m         \u001b[39mdel\u001b[39;00m d[key]\n",
      "\u001b[1;31mRuntimeError\u001b[0m: dictionary changed size during iteration"
     ]
    }
   ],
   "source": [
    "# 반복문에서 반복 대상이 되는 딕셔너리의 크기를 변경시키는 작업을 하면 에러 발생\n",
    "# 하지만 데이터는 삭제됨\n",
    "d = {'alpha' : 10, 'bravo' : 20, 'charlie' : 30}\n",
    "for key, value in d.items():\n",
    "    if value == 30:\n",
    "        del d[key]"
   ]
  },
  {
   "cell_type": "code",
   "execution_count": null,
   "metadata": {},
   "outputs": [],
   "source": [
    "d = {'alpha' : 10, 'bravo' : 20, 'charlie' : 30}\n",
    "del_key = ''"
   ]
  },
  {
   "cell_type": "code",
   "execution_count": 12,
   "metadata": {},
   "outputs": [
    {
     "name": "stdout",
     "output_type": "stream",
     "text": [
      "18\n"
     ]
    }
   ],
   "source": [
    "x, y = map(int, input().split())\n",
    "a = {i for i in range(1, x+1) if x % i == 0}\n",
    "b = {j for j in range(1, y+1) if y % j == 0}\n",
    "\n",
    "divisor = a & b\n",
    "\n",
    "result = 0\n",
    "if type(divisor) == set:\n",
    "    result = sum(divisor)\n",
    "\n",
    "print(result)"
   ]
  },
  {
   "cell_type": "markdown",
   "metadata": {},
   "source": [
    "### 심사문제 Unit 23"
   ]
  },
  {
   "cell_type": "code",
   "execution_count": 15,
   "metadata": {},
   "outputs": [
    {
     "name": "stdout",
     "output_type": "stream",
     "text": [
      "01*21\n",
      "123*1\n",
      "2*532\n",
      "3***1\n",
      "*4*31\n"
     ]
    }
   ],
   "source": [
    "from pprint import pprint\n",
    "x, y = map(int, input().split())\n",
    "matrix = []\n",
    "for _ in range(x):\n",
    "    mines = input()\n",
    "    mines_row = []\n",
    "    for mine in mines:\n",
    "        mines_row.append(mine)\n",
    "    matrix.append(mines_row)\n",
    "padding_matrix = []\n",
    "top = ['.' for _ in range(x+2)]\n",
    "padding_matrix.append(top)\n",
    "padding_matrix_row = []\n",
    "for row in matrix:\n",
    "    padding_matrix_row = ['.']          # 왜 달라질까?\n",
    "    padding_matrix_row.extend(row)\n",
    "    padding_matrix_row.append('.')\n",
    "    padding_matrix.append(padding_matrix_row)\n",
    "padding_matrix.append(top)\n",
    "count = [['*' for _ in range(y)] for _ in range(x)]\n",
    "for i in range(1, x+1):\n",
    "    for j in range(1, y+1):\n",
    "        if padding_matrix[i][j] == '.':\n",
    "           count[i-1][j-1] = 0\n",
    "           for k in range(i-1,i+2):\n",
    "               for l in range(j-1,j+2):\n",
    "                   if padding_matrix[k][l] == '*':\n",
    "                        count[i-1][j-1] += 1\n",
    "for count_row in count:\n",
    "    for mine_count in count_row:\n",
    "        print(mine_count,end='')\n",
    "    print()"
   ]
  },
  {
   "cell_type": "code",
   "execution_count": 3,
   "metadata": {},
   "outputs": [],
   "source": [
    "def print_mines(m):\n",
    "    for row in m:\n",
    "        for element in row:\n",
    "            print(element, end=' ')\n",
    "        print()"
   ]
  },
  {
   "cell_type": "code",
   "execution_count": 4,
   "metadata": {},
   "outputs": [
    {
     "name": "stdout",
     "output_type": "stream",
     "text": [
      ". . * \n",
      ". . . \n",
      "* . * \n"
     ]
    }
   ],
   "source": [
    "import random\n",
    "row, col = map(int, input().split())\n",
    "mines = [['*' if random.random() > 0.7 else '.' for _ in range(col)] for _ in range(row)]\n",
    "print_mines(mines)"
   ]
  },
  {
   "cell_type": "code",
   "execution_count": 5,
   "metadata": {},
   "outputs": [
    {
     "name": "stdout",
     "output_type": "stream",
     "text": [
      ". . . . . \n",
      ". . . * . \n",
      ". . . . . \n",
      ". * . * . \n",
      ". . . . . \n"
     ]
    }
   ],
   "source": [
    "pad_mines = [['.'] * (col + 2)]\n",
    "for row in mines:\n",
    "    pad_row = ['.']\n",
    "    pad_row.extend(row)\n",
    "    pad_row.append('.')\n",
    "    pad_mines.append(pad_row)\n",
    "pad_mines.append(['.'] * (col + 2))\n",
    "print_mines(pad_mines)"
   ]
  },
  {
   "cell_type": "code",
   "execution_count": 8,
   "metadata": {},
   "outputs": [
    {
     "ename": "TypeError",
     "evalue": "can only concatenate list (not \"int\") to list",
     "output_type": "error",
     "traceback": [
      "\u001b[1;31m---------------------------------------------------------------------------\u001b[0m",
      "\u001b[1;31mTypeError\u001b[0m                                 Traceback (most recent call last)",
      "Cell \u001b[1;32mIn[8], line 2\u001b[0m\n\u001b[0;32m      1\u001b[0m final_mines \u001b[39m=\u001b[39m []\n\u001b[1;32m----> 2\u001b[0m \u001b[39mfor\u001b[39;00m i \u001b[39min\u001b[39;00m \u001b[39mrange\u001b[39m(\u001b[39m1\u001b[39m, row\u001b[39m+\u001b[39m\u001b[39m1\u001b[39m):\n\u001b[0;32m      3\u001b[0m     line \u001b[39m=\u001b[39m []\n\u001b[0;32m      4\u001b[0m     \u001b[39mfor\u001b[39;00m k \u001b[39min\u001b[39;00m \u001b[39mrange\u001b[39m(\u001b[39m1\u001b[39m, col\u001b[39m+\u001b[39m\u001b[39m1\u001b[39m):\n",
      "\u001b[1;31mTypeError\u001b[0m: can only concatenate list (not \"int\") to list"
     ]
    }
   ],
   "source": [
    "final_mines = []\n",
    "for i in range(1, row+1):\n",
    "    line = []\n",
    "    for k in range(1, col+1):\n",
    "        if pad_mines[i][k] == '*':\n",
    "            line.append('*')\n",
    "        else:\n",
    "            count = (pad_mines[i-1][k-1]=='*') + (pad_mines[i-1][k]=='*') + (pad_mines[i-1][k+1]=='*') + \\\n",
    "                    (pad_mines[i][k-1]=='*')                              + (pad_mines[i][k+1]=='*') + \\\n",
    "                    (pad_mines[i+1][k-1]=='*') + (pad_mines[i+1][k]=='*') + (pad_mines[i+1][k+1]=='*')\n",
    "            line.append(str(count))\n",
    "    final_mines.append(line)\n",
    "\n",
    "print_mines(final_mines)"
   ]
  },
  {
   "cell_type": "markdown",
   "metadata": {},
   "source": [
    "#### Q1 디지털 시계 하루 중 4개 중에 3이 표시되는 시간은 몇 초인가?"
   ]
  },
  {
   "cell_type": "code",
   "execution_count": 67,
   "metadata": {},
   "outputs": [
    {
     "name": "stdout",
     "output_type": "stream",
     "text": [
      "['0003', '0013', '0023', '0030', '0031', '0032', '0033', '0034', '0035', '0036', '0037', '0038', '0039', '0043', '0053', '0103', '0113', '0123', '0130', '0131', '0132', '0133', '0134', '0135', '0136', '0137', '0138', '0139', '0143', '0153', '0203', '0213', '0223', '0230', '0231', '0232', '0233', '0234', '0235', '0236', '0237', '0238', '0239', '0243', '0253', '0300', '0301', '0302', '0303', '0304', '0305', '0306', '0307', '0308', '0309', '0310', '0311', '0312', '0313', '0314', '0315', '0316', '0317', '0318', '0319', '0320', '0321', '0322', '0323', '0324', '0325', '0326', '0327', '0328', '0329', '0330', '0331', '0332', '0333', '0334', '0335', '0336', '0337', '0338', '0339', '0340', '0341', '0342', '0343', '0344', '0345', '0346', '0347', '0348', '0349', '0350', '0351', '0352', '0353', '0354', '0355', '0356', '0357', '0358', '0359', '0403', '0413', '0423', '0430', '0431', '0432', '0433', '0434', '0435', '0436', '0437', '0438', '0439', '0443', '0453', '0503', '0513', '0523', '0530', '0531', '0532', '0533', '0534', '0535', '0536', '0537', '0538', '0539', '0543', '0553', '0603', '0613', '0623', '0630', '0631', '0632', '0633', '0634', '0635', '0636', '0637', '0638', '0639', '0643', '0653', '0703', '0713', '0723', '0730', '0731', '0732', '0733', '0734', '0735', '0736', '0737', '0738', '0739', '0743', '0753', '0803', '0813', '0823', '0830', '0831', '0832', '0833', '0834', '0835', '0836', '0837', '0838', '0839', '0843', '0853', '0903', '0913', '0923', '0930', '0931', '0932', '0933', '0934', '0935', '0936', '0937', '0938', '0939', '0943', '0953', '1003', '1013', '1023', '1030', '1031', '1032', '1033', '1034', '1035', '1036', '1037', '1038', '1039', '1043', '1053', '1103', '1113', '1123', '1130', '1131', '1132', '1133', '1134', '1135', '1136', '1137', '1138', '1139', '1143', '1153', '1203', '1213', '1223', '1230', '1231', '1232', '1233', '1234', '1235', '1236', '1237', '1238', '1239', '1243', '1253', '1300', '1301', '1302', '1303', '1304', '1305', '1306', '1307', '1308', '1309', '1310', '1311', '1312', '1313', '1314', '1315', '1316', '1317', '1318', '1319', '1320', '1321', '1322', '1323', '1324', '1325', '1326', '1327', '1328', '1329', '1330', '1331', '1332', '1333', '1334', '1335', '1336', '1337', '1338', '1339', '1340', '1341', '1342', '1343', '1344', '1345', '1346', '1347', '1348', '1349', '1350', '1351', '1352', '1353', '1354', '1355', '1356', '1357', '1358', '1359', '1403', '1413', '1423', '1430', '1431', '1432', '1433', '1434', '1435', '1436', '1437', '1438', '1439', '1443', '1453', '1503', '1513', '1523', '1530', '1531', '1532', '1533', '1534', '1535', '1536', '1537', '1538', '1539', '1543', '1553', '1603', '1613', '1623', '1630', '1631', '1632', '1633', '1634', '1635', '1636', '1637', '1638', '1639', '1643', '1653', '1703', '1713', '1723', '1730', '1731', '1732', '1733', '1734', '1735', '1736', '1737', '1738', '1739', '1743', '1753', '1803', '1813', '1823', '1830', '1831', '1832', '1833', '1834', '1835', '1836', '1837', '1838', '1839', '1843', '1853', '1903', '1913', '1923', '1930', '1931', '1932', '1933', '1934', '1935', '1936', '1937', '1938', '1939', '1943', '1953', '2003', '2013', '2023', '2030', '2031', '2032', '2033', '2034', '2035', '2036', '2037', '2038', '2039', '2043', '2053', '2103', '2113', '2123', '2130', '2131', '2132', '2133', '2134', '2135', '2136', '2137', '2138', '2139', '2143', '2153', '2203', '2213', '2223', '2230', '2231', '2232', '2233', '2234', '2235', '2236', '2237', '2238', '2239', '2243', '2253', '2300', '2301', '2302', '2303', '2304', '2305', '2306', '2307', '2308', '2309', '2310', '2311', '2312', '2313', '2314', '2315', '2316', '2317', '2318', '2319', '2320', '2321', '2322', '2323', '2324', '2325', '2326', '2327', '2328', '2329', '2330', '2331', '2332', '2333', '2334', '2335', '2336', '2337', '2338', '2339', '2340', '2341', '2342', '2343', '2344', '2345', '2346', '2347', '2348', '2349', '2350', '2351', '2352', '2353', '2354', '2355', '2356', '2357', '2358', '2359']\n"
     ]
    },
    {
     "data": {
      "text/plain": [
       "29700"
      ]
     },
     "execution_count": 67,
     "metadata": {},
     "output_type": "execute_result"
    }
   ],
   "source": [
    "time_list = []\n",
    "for i in range(24):\n",
    "    for j in range(60):\n",
    "        time_list.append(f'{i:02d}' + f'{j:02d}')\n",
    "time_sum = 0\n",
    "time_sec_list = []\n",
    "for str_t in time_list:\n",
    "    if '3' in str_t:\n",
    "        time_sum += 60\n",
    "        time_sec_list.append(str_t)\n",
    "print(time_sec_list)\n",
    "time_sum"
   ]
  },
  {
   "cell_type": "markdown",
   "metadata": {},
   "source": [
    "### 심사문제 Unit 29"
   ]
  },
  {
   "cell_type": "code",
   "execution_count": 10,
   "metadata": {},
   "outputs": [
    {
     "name": "stdout",
     "output_type": "stream",
     "text": [
      "덧셈: 48, 뺄셈: 32, 곱셈: 320, 나눗셈: 5.0\n"
     ]
    }
   ],
   "source": [
    "x, y = map(int, input().split())\n",
    "def calc(x, y):\n",
    "    return x + y, x - y, x * y, x / y\n",
    "a, s, m, d = calc(x, y)\n",
    "print('덧셈: {0}, 뺄셈: {1}, 곱셈: {2}, 나눗셈: {3}'.format(a, s, m, d))"
   ]
  },
  {
   "cell_type": "markdown",
   "metadata": {},
   "source": [
    "### 심사문제 Unit 30"
   ]
  },
  {
   "cell_type": "code",
   "execution_count": 20,
   "metadata": {},
   "outputs": [
    {
     "name": "stdout",
     "output_type": "stream",
     "text": [
      "낮은 점수: 76.00, 높은 점수: 89.00, 평균 점수: 82.75\n",
      "낮은 점수: 82.00, 높은 점수: 84.00, 평균 점수: 83.00\n"
     ]
    }
   ],
   "source": [
    "korean, english, mathematics, science = map(int, input().split())\n",
    "def get_min_max_score(*pos):\n",
    "    return min([i for i in pos]), max([k for k in pos])\n",
    "def get_average(**kwargs):\n",
    "    return sum(kwargs.values()) / len(kwargs)\n",
    "# def get_average(korean=0, english=0, mathematics=0, science=0):\n",
    "#     return (korean + english + mathematics + science) / (4 - [korean, english, mathematics, science].count(0))\n",
    "\n",
    "\n",
    "min_score, max_score = get_min_max_score(korean, english, mathematics, science)\n",
    "average_score = get_average(korean=korean, english=english,\\\n",
    "                            mathematics=mathematics, science=science)\n",
    "print('낮은 점수: {0:.2f}, 높은 점수: {1:.2f}, 평균 점수: {2:.2f}'\\\n",
    "      .format(min_score, max_score, average_score))\n",
    " \n",
    "min_score, max_score = get_min_max_score(english, science)\n",
    "average_score = get_average(english=english, science=science)\n",
    "print('낮은 점수: {0:.2f}, 높은 점수: {1:.2f}, 평균 점수: {2:.2f}'\\\n",
    "      .format(min_score, max_score, average_score))"
   ]
  },
  {
   "cell_type": "markdown",
   "metadata": {},
   "source": [
    "### 심사문제 Unit 32"
   ]
  },
  {
   "cell_type": "code",
   "execution_count": 83,
   "metadata": {},
   "outputs": [
    {
     "name": "stdout",
     "output_type": "stream",
     "text": [
      "['001.jpg', '010.png', '011.png', '002.jpg', '003.png']\n"
     ]
    }
   ],
   "source": [
    "files = input().split()\n",
    "print(list(map(lambda x : '{0:03d}.{1}'.format(int(x.split('.')[0]), x.split('.')[1]) , files)))"
   ]
  },
  {
   "cell_type": "code",
   "execution_count": 7,
   "metadata": {},
   "outputs": [
    {
     "name": "stdout",
     "output_type": "stream",
     "text": [
      "['001.jpg', '002.xsls', '003.xkjfdl']\n"
     ]
    }
   ],
   "source": [
    "files = input().split()\n",
    "print(list(map(lambda x : f\"{int(x.split('.')[0]):03d}.{x.split('.')[1]}\", files)))"
   ]
  },
  {
   "cell_type": "code",
   "execution_count": 4,
   "metadata": {},
   "outputs": [
    {
     "name": "stdout",
     "output_type": "stream",
     "text": [
      "['010.jpg', '00s.jpg']\n"
     ]
    }
   ],
   "source": [
    "files = input().split()\n",
    "print(list(map(lambda x : f\"{x.split('.')[0]:0>3s}.{x.split('.')[1]}\", files)))"
   ]
  }
 ],
 "metadata": {
  "kernelspec": {
   "display_name": "base",
   "language": "python",
   "name": "python3"
  },
  "language_info": {
   "codemirror_mode": {
    "name": "ipython",
    "version": 3
   },
   "file_extension": ".py",
   "mimetype": "text/x-python",
   "name": "python",
   "nbconvert_exporter": "python",
   "pygments_lexer": "ipython3",
   "version": "3.11.4"
  },
  "orig_nbformat": 4
 },
 "nbformat": 4,
 "nbformat_minor": 2
}
