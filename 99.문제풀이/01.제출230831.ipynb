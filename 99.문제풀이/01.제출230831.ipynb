{
 "cells": [
  {
   "cell_type": "markdown",
   "metadata": {},
   "source": [
    "### 심사문제 Unit 17"
   ]
  },
  {
   "cell_type": "code",
   "execution_count": 15,
   "metadata": {},
   "outputs": [
    {
     "name": "stdout",
     "output_type": "stream",
     "text": [
      "12150\n",
      "10800\n",
      "9450\n",
      "8100\n",
      "6750\n",
      "5400\n",
      "4050\n",
      "2700\n",
      "1350\n",
      "0\n"
     ]
    }
   ],
   "source": [
    "deposit = int(input())\n",
    "while True:\n",
    "    deposit -= 1350\n",
    "    if deposit < 0:\n",
    "        break\n",
    "    print(deposit)"
   ]
  },
  {
   "cell_type": "markdown",
   "metadata": {},
   "source": [
    "### 심사문제 Unit 18"
   ]
  },
  {
   "cell_type": "code",
   "execution_count": 20,
   "metadata": {},
   "outputs": [
    {
     "name": "stdout",
     "output_type": "stream",
     "text": [
      "1 2 4 5 6 7 8 9 10 11 12 14 15 16 17 18 19 20 "
     ]
    }
   ],
   "source": [
    "start, stop = map(int, input().split())\n",
    "i = start\n",
    "while True:\n",
    "    if i % 10 == 3:\n",
    "        i += 1\n",
    "        continue\n",
    "    if i > stop:\n",
    "        break\n",
    "    print(i, end=' ')\n",
    "    i += 1\n",
    "    "
   ]
  },
  {
   "cell_type": "markdown",
   "metadata": {},
   "source": [
    "### 심사문제 Unit 19"
   ]
  },
  {
   "cell_type": "code",
   "execution_count": 37,
   "metadata": {},
   "outputs": [
    {
     "name": "stdout",
     "output_type": "stream",
     "text": [
      "    *\n",
      "   ***\n",
      "  *****\n",
      " *******\n",
      "*********\n"
     ]
    }
   ],
   "source": [
    "t_height = int(input())\n",
    "for i in range(0, t_height):\n",
    "    for _ in range(t_height - i - 1, 0, -1):\n",
    "        print(' ', end='')\n",
    "    # print(' '*(t_height - i - 1), end='')\n",
    "    for _ in range(0, 2*i+1):\n",
    "        print('*', end='')\n",
    "    # print('*'*(2*i+1), end='')\n",
    "    print()"
   ]
  },
  {
   "cell_type": "markdown",
   "metadata": {},
   "source": [
    "### 심사문제 Unit 24 - 1"
   ]
  },
  {
   "cell_type": "code",
   "execution_count": 41,
   "metadata": {},
   "outputs": [
    {
     "name": "stdout",
     "output_type": "stream",
     "text": [
      "6\n"
     ]
    }
   ],
   "source": [
    "content = input()\n",
    "words = content.split()\n",
    "count = 0\n",
    "for word in words:\n",
    "    word_strip = word.strip(',.')\n",
    "    if word_strip == 'the':\n",
    "        count += 1\n",
    "print(count)"
   ]
  },
  {
   "cell_type": "markdown",
   "metadata": {},
   "source": [
    "### 심사문제 Unit 24 - 2"
   ]
  },
  {
   "cell_type": "code",
   "execution_count": 57,
   "metadata": {},
   "outputs": [
    {
     "name": "stdout",
     "output_type": "stream",
     "text": [
      "1,304,000\n",
      "  367,500\n",
      "  250,000\n",
      "  158,000\n",
      "  128,500\n",
      "   83,000\n",
      "   59,200\n",
      "   51,900\n"
     ]
    }
   ],
   "source": [
    "price_list = list(map(int,input().split(';')))\n",
    "price_list.sort(reverse=True)\n",
    "for price in price_list:\n",
    "    print(f'{price:>9,d}')"
   ]
  },
  {
   "cell_type": "markdown",
   "metadata": {},
   "source": [
    "### 심사문제 Unit 25"
   ]
  },
  {
   "cell_type": "code",
   "execution_count": 4,
   "metadata": {},
   "outputs": [
    {
     "name": "stdout",
     "output_type": "stream",
     "text": [
      "{'bravo': 40, 'charlie': 50, 'echo': 70, 'foxtrot': 80, 'golf': 90}\n"
     ]
    }
   ],
   "source": [
    "keys = input().split()\n",
    "values = map(int, input().split())\n",
    "\n",
    "x = dict(zip(keys, values))\n",
    "\n",
    "x.pop('delta')\n",
    "x = {key:value for key, value in x.items() if value != 30}\n",
    "# x.pop([key for key, value in x.items() if value == 30][0])\n",
    "\n",
    "print(x)"
   ]
  },
  {
   "cell_type": "markdown",
   "metadata": {},
   "source": [
    "### 심사문제 Unit 26"
   ]
  },
  {
   "cell_type": "code",
   "execution_count": 12,
   "metadata": {},
   "outputs": [
    {
     "name": "stdout",
     "output_type": "stream",
     "text": [
      "18\n"
     ]
    }
   ],
   "source": [
    "x, y = map(int, input().split())\n",
    "a = {i for i in range(1, x+1) if x % i == 0}\n",
    "b = {j for j in range(1, y+1) if y % j == 0}\n",
    "\n",
    "divisor = a & b\n",
    "\n",
    "result = 0\n",
    "if type(divisor) == set:\n",
    "    result = sum(divisor)\n",
    "\n",
    "print(result)"
   ]
  },
  {
   "cell_type": "markdown",
   "metadata": {},
   "source": [
    "### 심사문제 Unit 23"
   ]
  },
  {
   "cell_type": "code",
   "execution_count": 15,
   "metadata": {},
   "outputs": [
    {
     "name": "stdout",
     "output_type": "stream",
     "text": [
      "01*21\n",
      "123*1\n",
      "2*532\n",
      "3***1\n",
      "*4*31\n"
     ]
    }
   ],
   "source": [
    "from pprint import pprint\n",
    "x, y = map(int, input().split())\n",
    "matrix = []\n",
    "for _ in range(x):\n",
    "    mines = input()\n",
    "    mines_row = []\n",
    "    for mine in mines:\n",
    "        mines_row.append(mine)\n",
    "    matrix.append(mines_row)\n",
    "padding_matrix = []\n",
    "top = ['.' for _ in range(x+2)]\n",
    "padding_matrix.append(top)\n",
    "padding_matrix_row = []\n",
    "for row in matrix:\n",
    "    padding_matrix_row = ['.']          # 왜 달라질까?\n",
    "    padding_matrix_row.extend(row)\n",
    "    padding_matrix_row.append('.')\n",
    "    padding_matrix.append(padding_matrix_row)\n",
    "padding_matrix.append(top)\n",
    "count = [['*' for _ in range(y)] for _ in range(x)]\n",
    "for i in range(1, x+1):\n",
    "    for j in range(1, y+1):\n",
    "        if padding_matrix[i][j] == '.':\n",
    "           count[i-1][j-1] = 0\n",
    "           for k in range(i-1,i+2):\n",
    "               for l in range(j-1,j+2):\n",
    "                   if padding_matrix[k][l] == '*':\n",
    "                        count[i-1][j-1] += 1\n",
    "for count_row in count:\n",
    "    for mine_count in count_row:\n",
    "        print(mine_count,end='')\n",
    "    print()"
   ]
  }
 ],
 "metadata": {
  "kernelspec": {
   "display_name": "base",
   "language": "python",
   "name": "python3"
  },
  "language_info": {
   "codemirror_mode": {
    "name": "ipython",
    "version": 3
   },
   "file_extension": ".py",
   "mimetype": "text/x-python",
   "name": "python",
   "nbconvert_exporter": "python",
   "pygments_lexer": "ipython3",
   "version": "3.11.4"
  },
  "orig_nbformat": 4
 },
 "nbformat": 4,
 "nbformat_minor": 2
}
