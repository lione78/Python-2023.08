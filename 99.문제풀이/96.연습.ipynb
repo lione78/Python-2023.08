{
 "cells": [
  {
   "cell_type": "code",
   "execution_count": 3,
   "metadata": {},
   "outputs": [
    {
     "name": "stdout",
     "output_type": "stream",
     "text": [
      "[['*', '.', '.'],\n",
      " ['*', '.', '.'],\n",
      " ['*', '.', '.']]\n",
      "[['.', '.', '.', '.', '.'],\n",
      " ['.', '*', '.', '.', '.'],\n",
      " ['.', '*', '.', '.', '.'],\n",
      " ['.', '*', '.', '.', '.'],\n",
      " ['.', '.', '.', '.', '.']]\n",
      "2039320136640\n",
      "2039320137792\n",
      "2039320095616\n",
      "2039320133696\n",
      "2039320136640\n"
     ]
    }
   ],
   "source": [
    "from pprint import pprint\n",
    "x, y = map(int, input().split())\n",
    "matrix = []\n",
    "for _ in range(x):\n",
    "    mines = input()\n",
    "    mines_row = []\n",
    "    for mine in mines:\n",
    "        mines_row.append(mine)\n",
    "    matrix.append(mines_row)\n",
    "pprint(matrix, width=50)\n",
    "padding_matrix = []\n",
    "top = ['.']*(x+2)\n",
    "padding_matrix.append(top)\n",
    "for row in matrix:\n",
    "    padding_matrix_row = []\n",
    "    padding_matrix_row.append('.')\n",
    "    padding_matrix_row.extend(row)\n",
    "    padding_matrix_row.append('.')\n",
    "    padding_matrix.append(padding_matrix_row)\n",
    "padding_matrix.append(top)\n",
    "pprint(padding_matrix, width=100)\n",
    "print(id(padding_matrix[0]))\n",
    "print(id(padding_matrix[1]))\n",
    "print(id(padding_matrix[2]))\n",
    "print(id(padding_matrix[3]))\n",
    "print(id(padding_matrix[4]))"
   ]
  },
  {
   "cell_type": "code",
   "execution_count": 5,
   "metadata": {},
   "outputs": [],
   "source": [
    "def print_mines(m):\n",
    "    for row in m:\n",
    "        for element in row:\n",
    "            print(element, end=' ')\n",
    "        print()"
   ]
  },
  {
   "cell_type": "code",
   "execution_count": 6,
   "metadata": {},
   "outputs": [
    {
     "name": "stdout",
     "output_type": "stream",
     "text": [
      ". . . . \n",
      "* . . * \n",
      ". . . . \n",
      ". . * * \n"
     ]
    }
   ],
   "source": [
    "import random\n",
    "row, col = map(int, input().split())\n",
    "mines = [['*' if random.random() > 0.7 else '.' for _ in range(col)] for _ in range(row)]\n",
    "print_mines(mines)"
   ]
  },
  {
   "cell_type": "code",
   "execution_count": 7,
   "metadata": {},
   "outputs": [
    {
     "name": "stdout",
     "output_type": "stream",
     "text": [
      ". . . . . . \n",
      ". . . . . . \n",
      ". * . . * . \n",
      ". . . . . . \n",
      ". . . * * . \n",
      ". . . . . . \n"
     ]
    }
   ],
   "source": [
    "pad_mines = [['.'] * (col + 2)]     # 맨 윗줄\n",
    "for mine_row in mines:\n",
    "    pad_row = ['.']                    # 맨 윗줄과 아랫줄을 제외한 줄\n",
    "    pad_row.extend(mine_row)\n",
    "    pad_row.append('.')\n",
    "    pad_mines.append(pad_row)\n",
    "pad_mines.append(['.'] * (col + 2))\n",
    "print_mines(pad_mines)"
   ]
  },
  {
   "cell_type": "code",
   "execution_count": 8,
   "metadata": {},
   "outputs": [
    {
     "name": "stdout",
     "output_type": "stream",
     "text": [
      "1 1 1 1 \n",
      "* 1 1 * \n",
      "1 2 3 3 \n",
      "0 1 * * \n"
     ]
    }
   ],
   "source": [
    "final_mines = []\n",
    "for i in range(1, row+1):\n",
    "    line = []\n",
    "    for k in range(1, col+1):\n",
    "        if pad_mines[i][k] == '*':\n",
    "            line.append('*')\n",
    "        else:\n",
    "            count = (pad_mines[i-1][k-1]=='*') + (pad_mines[i-1][k]=='*') + (pad_mines[i-1][k+1]=='*') + \\\n",
    "                    (pad_mines[i][k-1]=='*')                              + (pad_mines[i][k+1]=='*') + \\\n",
    "                    (pad_mines[i+1][k-1]=='*') + (pad_mines[i+1][k]=='*') + (pad_mines[i+1][k+1]=='*')\n",
    "            line.append(str(count))\n",
    "    final_mines.append(line)\n",
    "\n",
    "print_mines(final_mines)"
   ]
  },
  {
   "cell_type": "code",
   "execution_count": 2,
   "metadata": {},
   "outputs": [
    {
     "data": {
      "text/plain": [
       "'001'"
      ]
     },
     "execution_count": 2,
     "metadata": {},
     "output_type": "execute_result"
    }
   ],
   "source": [
    "x = '1.jpg'\n",
    "f\"{x.split('.')[0]:0>3s}\""
   ]
  },
  {
   "cell_type": "code",
   "execution_count": 11,
   "metadata": {},
   "outputs": [
    {
     "name": "stdout",
     "output_type": "stream",
     "text": [
      "*\n",
      "**\n",
      " *\n",
      "**\n",
      "**\n",
      " *\n",
      "**\n",
      "* \n"
     ]
    }
   ],
   "source": [
    "for i in range(1,3):\n",
    "    print('*' * i)\n",
    "for j in range(1,3):\n",
    "    print(' ' * (2 - j), end='')\n",
    "    print('*' * j)\n",
    "for k in range(1,3):\n",
    "    print(' ' * (k - 1), end='')\n",
    "    print('*' * (2 + 1 - k))\n",
    "for l in range(1,3):\n",
    "    print('*' * (2 - l + 1), end='')"
   ]
  },
  {
   "cell_type": "code",
   "execution_count": 18,
   "metadata": {},
   "outputs": [
    {
     "name": "stdout",
     "output_type": "stream",
     "text": [
      "         **\n",
      "        ****\n",
      "       ******\n",
      "      ********\n",
      "     **********\n",
      "    ************\n",
      "   **************\n",
      "  ****************\n",
      " ******************\n",
      "********************\n",
      "********************\n",
      " ******************\n",
      "  ****************\n",
      "   **************\n",
      "    ************\n",
      "     **********\n",
      "      ********\n",
      "       ******\n",
      "        ****\n",
      "         **\n"
     ]
    }
   ],
   "source": [
    "t = int(input())\n",
    "for j in range(1,t+1):\n",
    "    print(' ' * (t - j), end='')\n",
    "    print('*' * j, end='')\n",
    "    print('*' * j)\n",
    "for k in range(1,t+1):\n",
    "    print(' ' * (k - 1), end='')\n",
    "    print('*' * (t - k + 1), end='')\n",
    "    print('*' * (t + 1 - k))"
   ]
  },
  {
   "cell_type": "code",
   "execution_count": 2,
   "metadata": {},
   "outputs": [
    {
     "data": {
      "text/plain": [
       "[[1, 1, 1], [0, 0, 1], [0, 0, 1]]"
      ]
     },
     "execution_count": 2,
     "metadata": {},
     "output_type": "execute_result"
    }
   ],
   "source": [
    "row, col = 3, 3\n",
    "matrix = []\n",
    "for _ in range(3):\n",
    "    line = []\n",
    "    for _ in range(3):\n",
    "        line.append(0)\n",
    "    matrix.append(line)\n",
    "\n",
    "for _ in range(3):\n",
    "    sum = 0\n",
    "    for i in range(3):\n",
    "        if i == 0:\n",
    "            for k in range(3):\n",
    "                matrix[i][k] = 1\n",
    "        elif i == 1:\n",
    "            for k in range(1):\n",
    "                matrix[i][k+2] = 1\n",
    "        elif i == 2:\n",
    "            for k in range(3):\n",
    "                matrix[i][k+2] = 1\n",
    "matrix"
   ]
  },
  {
   "cell_type": "code",
   "execution_count": 9,
   "metadata": {},
   "outputs": [
    {
     "data": {
      "text/plain": [
       "array([[1, 2, 3],\n",
       "       [6, 5, 4],\n",
       "       [7, 8, 9]])"
      ]
     },
     "execution_count": 9,
     "metadata": {},
     "output_type": "execute_result"
    }
   ],
   "source": [
    "import numpy as np\n",
    "a = np.arange(1, 10).reshape(3, 3)\n",
    "a[1, np.array([2, 1, 0])]\n",
    "b = np.vstack([a[0], a[1, np.array([2, 1, 0])], a[2]])\n",
    "b"
   ]
  },
  {
   "cell_type": "code",
   "execution_count": 10,
   "metadata": {},
   "outputs": [
    {
     "data": {
      "text/plain": [
       "array([[ 1,  2,  3,  4],\n",
       "       [ 5,  6,  7,  8],\n",
       "       [ 9, 10, 11, 12],\n",
       "       [13, 14, 15, 16]])"
      ]
     },
     "execution_count": 10,
     "metadata": {},
     "output_type": "execute_result"
    }
   ],
   "source": [
    "c = np.arange(1, 17).reshape(4, 4)\n",
    "c"
   ]
  },
  {
   "cell_type": "code",
   "execution_count": 1,
   "metadata": {},
   "outputs": [
    {
     "data": {
      "text/plain": [
       "array([[ 1,  2,  3,  4,  5],\n",
       "       [16, 17, 18, 19,  6],\n",
       "       [15, 24, 25, 20,  7],\n",
       "       [14, 23, 22, 21,  8],\n",
       "       [13, 12, 11, 10,  9]])"
      ]
     },
     "execution_count": 1,
     "metadata": {},
     "output_type": "execute_result"
    }
   ],
   "source": [
    "import numpy as np\n",
    "snail = np.zeros((5, 5), dtype=int)\n",
    "k = 1\n",
    "print = 5\n",
    "right = -1\n",
    "bottom = 0\n",
    "top = 1\n",
    "for _ in range(print):\n",
    "    for _ in range(print):\n",
    "        right += top\n",
    "        snail[bottom][right] = k\n",
    "        k += 1\n",
    "    print -= 1\n",
    "    for _ in range(print):\n",
    "        bottom += top\n",
    "        snail[bottom][right] = k\n",
    "        k += 1\n",
    "    top *= -1\n",
    "snail"
   ]
  },
  {
   "cell_type": "code",
   "execution_count": null,
   "metadata": {},
   "outputs": [],
   "source": []
  }
 ],
 "metadata": {
  "kernelspec": {
   "display_name": "base",
   "language": "python",
   "name": "python3"
  },
  "language_info": {
   "codemirror_mode": {
    "name": "ipython",
    "version": 3
   },
   "file_extension": ".py",
   "mimetype": "text/x-python",
   "name": "python",
   "nbconvert_exporter": "python",
   "pygments_lexer": "ipython3",
   "version": "3.11.4"
  },
  "orig_nbformat": 4
 },
 "nbformat": 4,
 "nbformat_minor": 2
}
