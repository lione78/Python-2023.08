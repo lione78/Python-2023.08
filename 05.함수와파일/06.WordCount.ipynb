{
 "cells": [
  {
   "cell_type": "markdown",
   "metadata": {},
   "source": [
    "#### 파일의 단어 갯수 세기\n",
    "- 총 단어수\n",
    "- 고유 단어수\n",
    "- 가장 많이 사용된 단어 10개"
   ]
  },
  {
   "cell_type": "markdown",
   "metadata": {},
   "source": [
    "#### Step 1. 파일에서 데이터 읽기"
   ]
  },
  {
   "cell_type": "code",
   "execution_count": 3,
   "metadata": {},
   "outputs": [
    {
     "data": {
      "text/plain": [
       "'Lorem ipsum dolor sit amet, consectetur adipiscing elit. Mauris finibus dui in eros tincidunt posuere. Cras facilisis, ligula lacinia sagittis efficitur, augue turpis vehicula nunc, sed gravida nisi ante in neque. Fusce lectus arcu, imperdiet quis auctor non, feugiat sit amet ante. Quisque cursus feugiat lorem, quis tempus ex sagittis ut. Aliquam aliquam vestibulum ipsum, et ultrices elit dapibus vel. Nulla volutpat lacus eget leo sagittis varius. Donec bibendum eu quam vitae vestibulum. Nullam a eros lacus. In sit amet tortor sit amet nunc venenatis molestie.\\n\\nCras ullamcorper felis non lacinia pharetra. Phasellus sed justo ante. Ut finibus egestas sapien, nec aliquam lacus pharetra et. Aenean accumsan magna non lorem dignissim rutrum. Maecenas ac egestas felis. Interdum et malesuada fames ac ante ipsum primis in faucibus. Morbi quis consequat turpis, eu rhoncus lorem. Nam nec erat tincidunt, mollis libero nec, vestibulum justo. Etiam eu leo nec arcu bibendum eleifend eget eget libero. Vivamus eget hendrerit dolor. Praesent volutpat, erat id fermentum condimentum, ante sapien sagittis tellus, sed scelerisque tortor odio at odio. Quisque vehicula ante at orci tincidunt placerat.\\n\\nInteger dolor ligula, tempor non lobortis quis, lobortis vel nisl. Cras diam leo, pellentesque et tristique non, ornare sed mi. Nulla vel diam vitae nisl vulputate cursus ac quis felis. Mauris scelerisque vulputate mauris vel ultrices. Proin sapien felis, auctor id dapibus scelerisque, volutpat quis elit. Fusce blandit nisl ac semper ullamcorper. Vestibulum sit amet ex quam. Pellentesque hendrerit suscipit diam at mollis. In aliquet, erat in fermentum dapibus, elit nunc vestibulum urna, eget malesuada ex mauris dignissim urna. Vestibulum consequat, libero ut maximus placerat, erat justo dapibus massa, ac elementum nisl dui eget diam. Pellentesque imperdiet, orci sit amet ullamcorper finibus, justo libero aliquet diam, iaculis maximus mi augue tempor dui. Suspendisse potenti. Sed feugiat mi ac neque maximus porttitor. Maecenas suscipit nisi ac iaculis suscipit. Proin iaculis viverra cursus.\\n\\nAliquam ac eros consectetur, ullamcorper ligula eget, fermentum urna. Vestibulum ante ipsum primis in faucibus orci luctus et ultrices posuere cubilia curae; Nam commodo purus augue, et commodo dui ornare nec. Vivamus in ex tincidunt, pulvinar nisi aliquam, congue orci. Aenean condimentum eros quis nisl ullamcorper, quis tempor augue tincidunt. Vivamus eu tincidunt leo. Sed porta et mauris ac scelerisque. Donec lacus libero, luctus eget libero et, tempor efficitur massa. Integer congue suscipit magna pulvinar pharetra.\\n\\nMorbi congue cursus vestibulum. In imperdiet sapien vitae iaculis lacinia. Duis rhoncus elit arcu, gravida sodales massa ornare non. Phasellus quis tortor et ligula consequat ultrices. Pellentesque vel lectus a ipsum suscipit condimentum. Vestibulum aliquet aliquam egestas. Pellentesque convallis eros diam, vestibulum lacinia leo iaculis quis. Integer sagittis metus libero, quis condimentum nulla tincidunt eget.\\n\\nInteger vehicula ante at placerat tempus. Donec vel erat nunc. Phasellus vitae facilisis nisl, nec eleifend eros. Mauris vitae eros leo. Curabitur ullamcorper pulvinar tincidunt. Vivamus dignissim elit diam, vestibulum efficitur arcu consequat a. Vestibulum sem sapien, viverra et justo eget, lobortis efficitur ex.\\n\\nDonec finibus felis sit amet nulla consequat consequat. Pellentesque non dapibus ante, quis ultricies lacus. Vivamus vitae neque auctor, congue tortor nec, laoreet ante. Vestibulum rhoncus odio eget aliquam lacinia. Pellentesque habitant morbi tristique senectus et netus et malesuada fames ac turpis egestas. Aliquam tincidunt vehicula tortor, ut mattis augue dignissim vitae. Cras nibh dolor, sollicitudin id volutpat in, ultrices non ex. Ut ullamcorper commodo erat sit amet lobortis. Sed rutrum, purus at pharetra scelerisque, ex dolor sollicitudin mauris, sit amet faucibus urna dolor quis ligula. Duis tristique, nunc quis iaculis finibus, nisl libero sodales nisi, at maximus nisi massa interdum ligula. Nam nisi risus, commodo vitae semper sit amet, porttitor vitae ligula. Aliquam volutpat nulla non urna maximus, id facilisis tortor tristique.'"
      ]
     },
     "execution_count": 3,
     "metadata": {},
     "output_type": "execute_result"
    }
   ],
   "source": [
    "with open('data/lorem.txt') as file:\n",
    "    contents = file.read()\n",
    "contents"
   ]
  },
  {
   "cell_type": "markdown",
   "metadata": {},
   "source": [
    "##### Step2. 구둣점 제거하고 소문자로 변경"
   ]
  },
  {
   "cell_type": "code",
   "execution_count": 4,
   "metadata": {},
   "outputs": [
    {
     "data": {
      "text/plain": [
       "'!\"#$%&\\'()*+,-./:;<=>?@[\\\\]^_`{|}~'"
      ]
     },
     "execution_count": 4,
     "metadata": {},
     "output_type": "execute_result"
    }
   ],
   "source": [
    "import string\n",
    "string.punctuation"
   ]
  },
  {
   "cell_type": "code",
   "execution_count": 5,
   "metadata": {},
   "outputs": [],
   "source": [
    "import re\n",
    "clean_contents = re.sub('[' + string.punctuation +']','',contents)\n",
    "clean_contents = clean_contents.lower()"
   ]
  },
  {
   "cell_type": "code",
   "execution_count": 6,
   "metadata": {},
   "outputs": [
    {
     "data": {
      "text/plain": [
       "'lorem ipsum dolor sit amet consectetur adipiscing elit mauris finibus dui in eros tincidunt posuere cras facilisis ligula lacinia sagittis efficitur augue turpis vehicula nunc sed gravida nisi ante in neque fusce lectus arcu imperdiet quis auctor non feugiat sit amet ante quisque cursus feugiat lorem quis tempus ex sagittis ut aliquam aliquam vestibulum ipsum et ultrices elit dapibus vel nulla volutpat lacus eget leo sagittis varius donec bibendum eu quam vitae vestibulum nullam a eros lacus in '"
      ]
     },
     "execution_count": 6,
     "metadata": {},
     "output_type": "execute_result"
    }
   ],
   "source": [
    "clean_contents[:500]"
   ]
  },
  {
   "cell_type": "markdown",
   "metadata": {},
   "source": [
    "#### Step 3. 리스트로 만들기"
   ]
  },
  {
   "cell_type": "code",
   "execution_count": 7,
   "metadata": {},
   "outputs": [
    {
     "data": {
      "text/plain": [
       "['Hello', 'World', 'Welcome', 'to', 'Python', 'World']"
      ]
     },
     "execution_count": 7,
     "metadata": {},
     "output_type": "execute_result"
    }
   ],
   "source": [
    "sentence = 'Hello World\\nWelcome to Python World'\n",
    "sentence.split()        # white space (blank, tab, newline) 기준으로 분할"
   ]
  },
  {
   "cell_type": "code",
   "execution_count": 6,
   "metadata": {},
   "outputs": [
    {
     "data": {
      "text/plain": [
       "['lorem', 'ipsum', 'dolor', 'sit', 'amet']"
      ]
     },
     "execution_count": 6,
     "metadata": {},
     "output_type": "execute_result"
    }
   ],
   "source": [
    "words = clean_contents.split()\n",
    "words[:5]"
   ]
  },
  {
   "cell_type": "code",
   "execution_count": 31,
   "metadata": {},
   "outputs": [
    {
     "name": "stdout",
     "output_type": "stream",
     "text": [
      "총 단어는 608개 이고, 고유 단어는 153 개 입니다.\n"
     ]
    }
   ],
   "source": [
    "# 총 단어수, set으로 변경하면 중독 단어가 제거 된다. // set은 중복이 없음.\n",
    "print(f'총 단어는 {len(words):,d}개 이고, 고유 단어는 {len(set(words))} 개 입니다.')"
   ]
  },
  {
   "cell_type": "markdown",
   "metadata": {},
   "source": [
    "##### Step 4. 고유단어가 key이고, 빈도가 value인 딕셔너리 만들기"
   ]
  },
  {
   "cell_type": "code",
   "execution_count": 9,
   "metadata": {},
   "outputs": [
    {
     "data": {
      "text/plain": [
       "153"
      ]
     },
     "execution_count": 9,
     "metadata": {},
     "output_type": "execute_result"
    }
   ],
   "source": [
    "word_dict = {}\n",
    "for word in words:\n",
    "    if word in word_dict.keys():\n",
    "        word_dict[word] += 1        # word_dict[word] = word_dict[word] + 1 // 원래 1이 저장되어 있으면 1+1이 되어 word가 key로 하는 value 2가 저장됨.\n",
    "    else:\n",
    "        word_dict[word] = 1         # word가 word_dict에 없으면 word_dict 생성\n",
    "len(word_dict)"
   ]
  },
  {
   "cell_type": "code",
   "execution_count": 15,
   "metadata": {},
   "outputs": [
    {
     "data": {
      "text/plain": [
       "{'james': 2}"
      ]
     },
     "execution_count": 15,
     "metadata": {},
     "output_type": "execute_result"
    }
   ],
   "source": [
    "person = {'james' : 1, 'james' : 2}\n",
    "person"
   ]
  },
  {
   "cell_type": "code",
   "execution_count": 17,
   "metadata": {},
   "outputs": [
    {
     "data": {
      "text/plain": [
       "{'lorem': 4,\n",
       " 'ipsum': 5,\n",
       " 'dolor': 6,\n",
       " 'sit': 10,\n",
       " 'amet': 10,\n",
       " 'consectetur': 2,\n",
       " 'adipiscing': 1,\n",
       " 'elit': 6,\n",
       " 'mauris': 7,\n",
       " 'finibus': 5,\n",
       " 'dui': 4,\n",
       " 'in': 10,\n",
       " 'eros': 7,\n",
       " 'tincidunt': 9,\n",
       " 'posuere': 2,\n",
       " 'cras': 4,\n",
       " 'facilisis': 3,\n",
       " 'ligula': 7,\n",
       " 'lacinia': 5,\n",
       " 'sagittis': 5,\n",
       " 'efficitur': 4,\n",
       " 'augue': 5,\n",
       " 'turpis': 3,\n",
       " 'vehicula': 4,\n",
       " 'nunc': 5,\n",
       " 'sed': 7,\n",
       " 'gravida': 2,\n",
       " 'nisi': 6,\n",
       " 'ante': 10,\n",
       " 'neque': 3,\n",
       " 'fusce': 2,\n",
       " 'lectus': 2,\n",
       " 'arcu': 4,\n",
       " 'imperdiet': 3,\n",
       " 'quis': 14,\n",
       " 'auctor': 3,\n",
       " 'non': 9,\n",
       " 'feugiat': 3,\n",
       " 'quisque': 2,\n",
       " 'cursus': 4,\n",
       " 'tempus': 2,\n",
       " 'ex': 7,\n",
       " 'ut': 5,\n",
       " 'aliquam': 9,\n",
       " 'vestibulum': 13,\n",
       " 'et': 12,\n",
       " 'ultrices': 5,\n",
       " 'dapibus': 5,\n",
       " 'vel': 6,\n",
       " 'nulla': 5,\n",
       " 'volutpat': 5,\n",
       " 'lacus': 5,\n",
       " 'eget': 11,\n",
       " 'leo': 6,\n",
       " 'varius': 1,\n",
       " 'donec': 4,\n",
       " 'bibendum': 2,\n",
       " 'eu': 4,\n",
       " 'quam': 2,\n",
       " 'vitae': 9,\n",
       " 'nullam': 1,\n",
       " 'a': 3,\n",
       " 'tortor': 6,\n",
       " 'venenatis': 1,\n",
       " 'molestie': 1,\n",
       " 'ullamcorper': 7,\n",
       " 'felis': 5,\n",
       " 'pharetra': 4,\n",
       " 'phasellus': 3,\n",
       " 'justo': 5,\n",
       " 'egestas': 4,\n",
       " 'sapien': 5,\n",
       " 'nec': 7,\n",
       " 'aenean': 2,\n",
       " 'accumsan': 1,\n",
       " 'magna': 2,\n",
       " 'dignissim': 4,\n",
       " 'rutrum': 2,\n",
       " 'maecenas': 2,\n",
       " 'ac': 10,\n",
       " 'interdum': 2,\n",
       " 'malesuada': 3,\n",
       " 'fames': 2,\n",
       " 'primis': 2,\n",
       " 'faucibus': 3,\n",
       " 'morbi': 3,\n",
       " 'consequat': 6,\n",
       " 'rhoncus': 3,\n",
       " 'nam': 3,\n",
       " 'erat': 6,\n",
       " 'mollis': 2,\n",
       " 'libero': 8,\n",
       " 'etiam': 1,\n",
       " 'eleifend': 2,\n",
       " 'vivamus': 5,\n",
       " 'hendrerit': 2,\n",
       " 'praesent': 1,\n",
       " 'id': 4,\n",
       " 'fermentum': 3,\n",
       " 'condimentum': 4,\n",
       " 'tellus': 1,\n",
       " 'scelerisque': 5,\n",
       " 'odio': 3,\n",
       " 'at': 6,\n",
       " 'orci': 4,\n",
       " 'placerat': 3,\n",
       " 'integer': 4,\n",
       " 'tempor': 4,\n",
       " 'lobortis': 4,\n",
       " 'nisl': 7,\n",
       " 'diam': 7,\n",
       " 'pellentesque': 7,\n",
       " 'tristique': 4,\n",
       " 'ornare': 3,\n",
       " 'mi': 3,\n",
       " 'vulputate': 2,\n",
       " 'proin': 2,\n",
       " 'blandit': 1,\n",
       " 'semper': 2,\n",
       " 'suscipit': 5,\n",
       " 'aliquet': 3,\n",
       " 'urna': 5,\n",
       " 'maximus': 5,\n",
       " 'massa': 4,\n",
       " 'elementum': 1,\n",
       " 'iaculis': 6,\n",
       " 'suspendisse': 1,\n",
       " 'potenti': 1,\n",
       " 'porttitor': 2,\n",
       " 'viverra': 2,\n",
       " 'luctus': 2,\n",
       " 'cubilia': 1,\n",
       " 'curae': 1,\n",
       " 'commodo': 4,\n",
       " 'purus': 2,\n",
       " 'pulvinar': 3,\n",
       " 'congue': 4,\n",
       " 'porta': 1,\n",
       " 'duis': 2,\n",
       " 'sodales': 2,\n",
       " 'convallis': 1,\n",
       " 'metus': 1,\n",
       " 'curabitur': 1,\n",
       " 'sem': 1,\n",
       " 'ultricies': 1,\n",
       " 'laoreet': 1,\n",
       " 'habitant': 1,\n",
       " 'senectus': 1,\n",
       " 'netus': 1,\n",
       " 'mattis': 1,\n",
       " 'nibh': 1,\n",
       " 'sollicitudin': 2,\n",
       " 'risus': 1}"
      ]
     },
     "execution_count": 17,
     "metadata": {},
     "output_type": "execute_result"
    }
   ],
   "source": [
    "word_dict_1 = {word : words.count(word) for word in words}\n",
    "word_dict_1"
   ]
  },
  {
   "cell_type": "markdown",
   "metadata": {},
   "source": [
    "#### Step 5. 빈도의 내림차순으로 정렬하기"
   ]
  },
  {
   "cell_type": "markdown",
   "metadata": {},
   "source": [
    "- 딕셔너리 정렬"
   ]
  },
  {
   "cell_type": "code",
   "execution_count": 39,
   "metadata": {},
   "outputs": [],
   "source": [
    "books = [\n",
    "    {'title': '파이썬', 'price': 10000},\n",
    "    {'title': '자바', 'price': 20000},\n",
    "    {'title': 'HTML', 'price': 15000},\n",
    "]"
   ]
  },
  {
   "cell_type": "code",
   "execution_count": 41,
   "metadata": {},
   "outputs": [
    {
     "data": {
      "text/plain": [
       "[{'title': 'HTML', 'price': 15000},\n",
       " {'title': '자바', 'price': 20000},\n",
       " {'title': '파이썬', 'price': 10000}]"
      ]
     },
     "execution_count": 41,
     "metadata": {},
     "output_type": "execute_result"
    }
   ],
   "source": [
    "# 책 제목의 오름차순 정렬\n",
    "books.sort(key=lambda x: x['title'])\n",
    "books"
   ]
  },
  {
   "cell_type": "code",
   "execution_count": 44,
   "metadata": {},
   "outputs": [
    {
     "data": {
      "text/plain": [
       "[{'title': '자바', 'price': 20000},\n",
       " {'title': 'HTML', 'price': 15000},\n",
       " {'title': '파이썬', 'price': 10000}]"
      ]
     },
     "execution_count": 44,
     "metadata": {},
     "output_type": "execute_result"
    }
   ],
   "source": [
    "# 책 가격의 내림차순 정렬\n",
    "books.sort(key=lambda x : x['price'], reverse=True)\n",
    "books"
   ]
  },
  {
   "cell_type": "markdown",
   "metadata": {},
   "source": [
    "- 튜플의 리스트 정렬"
   ]
  },
  {
   "cell_type": "code",
   "execution_count": 19,
   "metadata": {},
   "outputs": [],
   "source": [
    "fruits = [('banana', 1500),('apple', 1200), ('peach', 2000)]"
   ]
  },
  {
   "cell_type": "code",
   "execution_count": 54,
   "metadata": {},
   "outputs": [
    {
     "data": {
      "text/plain": [
       "[('apple', 1200), ('banana', 1500), ('peach', 2000)]"
      ]
     },
     "execution_count": 54,
     "metadata": {},
     "output_type": "execute_result"
    }
   ],
   "source": [
    "# 과일의 이름의 오름차순 정렬\n",
    "fruits.sort(key=lambda x: x[0])\n",
    "fruits"
   ]
  },
  {
   "cell_type": "code",
   "execution_count": 23,
   "metadata": {},
   "outputs": [
    {
     "name": "stdout",
     "output_type": "stream",
     "text": [
      "peach 2000\n",
      "banana 1500\n",
      "apple 1200\n"
     ]
    }
   ],
   "source": [
    "# 과일 가격의 내림차순 정렬\n",
    "fruits.sort(key=lambda x : x[1], reverse=True)\n",
    "for x, y in fruits:\n",
    "    print(x, y)"
   ]
  },
  {
   "cell_type": "markdown",
   "metadata": {},
   "source": [
    "- word_dict를 빈도의 내림차순으로 정렬"
   ]
  },
  {
   "cell_type": "code",
   "execution_count": 71,
   "metadata": {},
   "outputs": [
    {
     "data": {
      "text/plain": [
       "[('lorem', 4),\n",
       " ('ipsum', 5),\n",
       " ('dolor', 6),\n",
       " ('sit', 10),\n",
       " ('amet', 10),\n",
       " ('consectetur', 2),\n",
       " ('adipiscing', 1),\n",
       " ('elit', 6),\n",
       " ('mauris', 7),\n",
       " ('finibus', 5)]"
      ]
     },
     "execution_count": 71,
     "metadata": {},
     "output_type": "execute_result"
    }
   ],
   "source": [
    "# 키(단어)값과 밸류(빈도)값이 같이 움직일 수 있도록 튜플의 리스트 만들기\n",
    "word_items = list(word_dict.items())\n",
    "word_items[:10]"
   ]
  },
  {
   "cell_type": "code",
   "execution_count": 70,
   "metadata": {},
   "outputs": [
    {
     "data": {
      "text/plain": [
       "[('quis', 14),\n",
       " ('vestibulum', 13),\n",
       " ('et', 12),\n",
       " ('eget', 11),\n",
       " ('sit', 10),\n",
       " ('amet', 10),\n",
       " ('in', 10),\n",
       " ('ante', 10),\n",
       " ('ac', 10),\n",
       " ('tincidunt', 9)]"
      ]
     },
     "execution_count": 70,
     "metadata": {},
     "output_type": "execute_result"
    }
   ],
   "source": [
    "# 내림차순으로 정렬 후, 앞에서 10개의 데이터 - Top 10 빈도수 단어\n",
    "word_items.sort(key=lambda x : x[1], reverse=True)\n",
    "word_items[:10]"
   ]
  },
  {
   "cell_type": "code",
   "execution_count": null,
   "metadata": {},
   "outputs": [],
   "source": []
  }
 ],
 "metadata": {
  "kernelspec": {
   "display_name": "base",
   "language": "python",
   "name": "python3"
  },
  "language_info": {
   "codemirror_mode": {
    "name": "ipython",
    "version": 3
   },
   "file_extension": ".py",
   "mimetype": "text/x-python",
   "name": "python",
   "nbconvert_exporter": "python",
   "pygments_lexer": "ipython3",
   "version": "3.11.4"
  },
  "orig_nbformat": 4
 },
 "nbformat": 4,
 "nbformat_minor": 2
}
