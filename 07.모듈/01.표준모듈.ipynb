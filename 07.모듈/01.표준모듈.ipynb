{
 "cells": [
  {
   "cell_type": "markdown",
   "metadata": {},
   "source": [
    "## 7. 모듈\n",
    "### 7.1 표준 모듈"
   ]
  },
  {
   "cell_type": "markdown",
   "metadata": {},
   "source": [
    "- math 모듈"
   ]
  },
  {
   "cell_type": "code",
   "execution_count": 2,
   "metadata": {},
   "outputs": [
    {
     "data": {
      "text/plain": [
       "3.141592653589793"
      ]
     },
     "execution_count": 2,
     "metadata": {},
     "output_type": "execute_result"
    }
   ],
   "source": [
    "import math\n",
    "math.pi"
   ]
  },
  {
   "cell_type": "code",
   "execution_count": 2,
   "metadata": {},
   "outputs": [
    {
     "data": {
      "text/plain": [
       "(1.0, 6.123233995736766e-17)"
      ]
     },
     "execution_count": 2,
     "metadata": {},
     "output_type": "execute_result"
    }
   ],
   "source": [
    "# 90도 일때(pi / 2) 사인, 코사인의 값\n",
    "math.sin(math.pi/2), math.cos(math.pi/2)"
   ]
  },
  {
   "cell_type": "code",
   "execution_count": 3,
   "metadata": {},
   "outputs": [
    {
     "data": {
      "text/plain": [
       "(1.0, 6.123233995736766e-17)"
      ]
     },
     "execution_count": 3,
     "metadata": {},
     "output_type": "execute_result"
    }
   ],
   "source": [
    "from math import sin, cos, pi\n",
    "sin(pi / 2), cos(pi / 2)"
   ]
  },
  {
   "cell_type": "code",
   "execution_count": 4,
   "metadata": {},
   "outputs": [
    {
     "data": {
      "text/plain": [
       "(1.0, 6.123233995736766e-17)"
      ]
     },
     "execution_count": 4,
     "metadata": {},
     "output_type": "execute_result"
    }
   ],
   "source": [
    "import math as m\n",
    "m.sin(m.pi/2), m.cos(m.pi/2)"
   ]
  },
  {
   "cell_type": "markdown",
   "metadata": {},
   "source": [
    "- random 모듈"
   ]
  },
  {
   "cell_type": "code",
   "execution_count": 5,
   "metadata": {},
   "outputs": [
    {
     "data": {
      "text/plain": [
       "(0.8352712603996272, 5)"
      ]
     },
     "execution_count": 5,
     "metadata": {},
     "output_type": "execute_result"
    }
   ],
   "source": [
    "import random as rd\n",
    "rd.random(), rd.randint(1, 6)"
   ]
  },
  {
   "cell_type": "code",
   "execution_count": 6,
   "metadata": {},
   "outputs": [
    {
     "data": {
      "text/plain": [
       "19.769942164393612"
      ]
     },
     "execution_count": 6,
     "metadata": {},
     "output_type": "execute_result"
    }
   ],
   "source": [
    "# [start, end]까지 실수 반환 start <= x <end\n",
    "rd.uniform(11, 20)"
   ]
  },
  {
   "cell_type": "code",
   "execution_count": 7,
   "metadata": {},
   "outputs": [
    {
     "data": {
      "text/plain": [
       "(5, 5)"
      ]
     },
     "execution_count": 7,
     "metadata": {},
     "output_type": "execute_result"
    }
   ],
   "source": [
    "# range() 범위에서 하나의 수 반환 in range(10) 9까지\n",
    "rd.randrange(10), rd.randrange(1, 7)"
   ]
  },
  {
   "cell_type": "code",
   "execution_count": 8,
   "metadata": {},
   "outputs": [
    {
     "data": {
      "text/plain": [
       "(2, [3, 1, 5])"
      ]
     },
     "execution_count": 8,
     "metadata": {},
     "output_type": "execute_result"
    }
   ],
   "source": [
    "a = [1, 2, 3, 4, 5]\n",
    "rd.choice(a), rd.sample(a, 3)"
   ]
  },
  {
   "cell_type": "code",
   "execution_count": 10,
   "metadata": {},
   "outputs": [
    {
     "data": {
      "text/plain": [
       "[4, 3, 1, 2, 5]"
      ]
     },
     "execution_count": 10,
     "metadata": {},
     "output_type": "execute_result"
    }
   ],
   "source": [
    "rd.shuffle(a)\n",
    "a"
   ]
  },
  {
   "cell_type": "markdown",
   "metadata": {},
   "source": [
    "- os 모듈"
   ]
  },
  {
   "cell_type": "code",
   "execution_count": 11,
   "metadata": {},
   "outputs": [
    {
     "data": {
      "text/plain": [
       "'nt'"
      ]
     },
     "execution_count": 11,
     "metadata": {},
     "output_type": "execute_result"
    }
   ],
   "source": [
    "import os\n",
    "os.name"
   ]
  },
  {
   "cell_type": "code",
   "execution_count": 12,
   "metadata": {},
   "outputs": [
    {
     "data": {
      "text/plain": [
       "'d:\\\\WorkSpace\\\\01.Python\\\\07.모듈'"
      ]
     },
     "execution_count": 12,
     "metadata": {},
     "output_type": "execute_result"
    }
   ],
   "source": [
    "# 현재 작업 디렉토리(Current Working Directory)\n",
    "os.getcwd()"
   ]
  },
  {
   "cell_type": "code",
   "execution_count": 13,
   "metadata": {},
   "outputs": [
    {
     "data": {
      "text/plain": [
       "['01.표준모듈.ipynb', 'test_package']"
      ]
     },
     "execution_count": 13,
     "metadata": {},
     "output_type": "execute_result"
    }
   ],
   "source": [
    "# 현재 디렉토리에 있는 파일과 디렉토리 요소\n",
    "os.listdir()"
   ]
  },
  {
   "cell_type": "code",
   "execution_count": 17,
   "metadata": {},
   "outputs": [
    {
     "data": {
      "text/plain": [
       "['01.표준모듈.ipynb', 'test', 'test_package']"
      ]
     },
     "execution_count": 17,
     "metadata": {},
     "output_type": "execute_result"
    }
   ],
   "source": [
    "# 현 디렉토리에 test 디렉토리가 없으면 생성\n",
    "dir_name = 'test'\n",
    "if not os.path.exists(dir_name):\n",
    "    os.mkdir(dir_name)\n",
    "os.listdir()"
   ]
  },
  {
   "cell_type": "code",
   "execution_count": 19,
   "metadata": {},
   "outputs": [
    {
     "data": {
      "text/plain": [
       "['01.표준모듈.ipynb', 'test_package']"
      ]
     },
     "execution_count": 19,
     "metadata": {},
     "output_type": "execute_result"
    }
   ],
   "source": [
    "# 디렉토리 삭제\n",
    "if os.path.exists(dir_name):\n",
    "    os.rmdir(dir_name)\n",
    "os.listdir()"
   ]
  },
  {
   "cell_type": "code",
   "execution_count": 20,
   "metadata": {},
   "outputs": [
    {
     "name": "stdout",
     "output_type": "stream",
     "text": [
      "c:\\Users\\human\\anaconda3\n",
      "C:\\Users\\human\\anaconda3\n",
      "C:\\Users\\human\\anaconda3\\Library\\mingw-w64\\bin\n",
      "C:\\Users\\human\\anaconda3\\Library\\usr\\bin\n",
      "C:\\Users\\human\\anaconda3\\Library\\bin\n",
      "C:\\Users\\human\\anaconda3\\Scripts\n",
      "C:\\Users\\human\\anaconda3\\bin\n",
      "C:\\Users\\human\\anaconda3\\condabin\n",
      "C:\\oraclexe\\app\\oracle\\product\\11.2.0\\server\\bin\n",
      ".\n",
      "C:\\Program Files (x86)\\Common Files\\Oracle\\Java\\javapath\n",
      "C:\\WINDOWS\\system32\n",
      "C:\\WINDOWS\n",
      "C:\\WINDOWS\\System32\\Wbem\n",
      "C:\\WINDOWS\\System32\\WindowsPowerShell\\v1.0\n",
      "C:\\WINDOWS\\System32\\OpenSSH\n",
      "C:\\Program Files\\Bandizip\n",
      "C:\\Program Files\\Java\\jdk1.8.0_202\\bin\n",
      "C:\\Program Files\\Git\\cmd\n",
      "C:\\Users\\human\\anaconda3\n",
      "C:\\Users\\human\\anaconda3\\Library\\mingw-w64\\bin\n",
      "C:\\Users\\human\\anaconda3\\Library\\usr\\bin\n",
      "C:\\Users\\human\\anaconda3\\Library\\bin\n",
      "C:\\Users\\human\\anaconda3\\Scripts\n",
      "C:\\Users\\human\\AppData\\Local\\Programs\\Python\\Python311\\Scripts\n",
      "C:\\Users\\human\\AppData\\Local\\Programs\\Python\\Python311\n",
      "C:\\Users\\human\\AppData\\Local\\Microsoft\\WindowsApps\n",
      "C:\\Users\\human\\AppData\\Local\\Programs\\Microsoft VS Code\\bin\n"
     ]
    }
   ],
   "source": [
    "# 경로상에 있는 PATH 확인\n",
    "# .위 사용자 PATH, .아래 시스템 PATH\n",
    "paths = os.environ['PATH']\n",
    "for path in paths.split(';'):\n",
    "    print(path)"
   ]
  },
  {
   "cell_type": "code",
   "execution_count": 3,
   "metadata": {},
   "outputs": [
    {
     "name": "stdout",
     "output_type": "stream",
     "text": [
      "\n",
      "Path : D:/temp\n",
      "\n",
      "\n",
      " file : file1.txt\n",
      "\n",
      "33206\n",
      "281474976710729\n",
      "481518950\n",
      "1\n",
      "0\n",
      "0\n",
      "0\n",
      "Wed Aug  2 21:16:07 2023\n",
      "Wed Aug  2 21:16:07 2023\n",
      "Wed Aug  2 21:16:07 2023\n",
      "\n",
      " file : file2.txt\n",
      "\n",
      "33206\n",
      "281474976710730\n",
      "481518950\n",
      "1\n",
      "0\n",
      "0\n",
      "0\n",
      "Wed Aug  2 21:16:07 2023\n",
      "Wed Aug  2 21:16:07 2023\n",
      "Wed Aug  2 21:16:07 2023\n",
      "\n",
      " file : file3.txt\n",
      "\n",
      "33206\n",
      "281474976710731\n",
      "481518950\n",
      "1\n",
      "0\n",
      "0\n",
      "0\n",
      "Wed Aug  2 21:16:07 2023\n",
      "Wed Aug  2 21:16:07 2023\n",
      "Wed Aug  2 21:16:07 2023\n",
      "\n",
      " file : fruitData.txt\n",
      "\n",
      "33206\n",
      "281474976710740\n",
      "481518950\n",
      "1\n",
      "0\n",
      "0\n",
      "136\n",
      "Thu Aug  3 16:51:40 2023\n",
      "Mon Aug  7 09:44:11 2023\n",
      "Thu Aug  3 16:50:52 2023\n",
      "\n",
      " file : input.ini\n",
      "\n",
      "33206\n",
      "281474976710723\n",
      "481518950\n",
      "1\n",
      "0\n",
      "0\n",
      "219\n",
      "Wed Jun 14 09:48:25 2023\n",
      "Wed Aug  2 12:33:02 2023\n",
      "Wed Aug  2 11:54:10 2023\n",
      "\n",
      " file : Object.dat\n",
      "\n",
      "33206\n",
      "281474976710727\n",
      "481518950\n",
      "1\n",
      "0\n",
      "0\n",
      "90\n",
      "Thu Aug  3 09:49:16 2023\n",
      "Thu Aug  3 14:02:41 2023\n",
      "Wed Aug  2 16:37:57 2023\n",
      "\n",
      " file : output.txt\n",
      "\n",
      "33206\n",
      "281474976710724\n",
      "481518950\n",
      "1\n",
      "0\n",
      "0\n",
      "219\n",
      "Wed Aug  2 12:33:02 2023\n",
      "Wed Aug  2 12:33:05 2023\n",
      "Wed Aug  2 12:33:02 2023\n",
      "\n",
      " file : scanner.txt\n",
      "\n",
      "33206\n",
      "281474976710726\n",
      "481518950\n",
      "1\n",
      "0\n",
      "0\n",
      "10\n",
      "Wed Aug  2 15:44:37 2023\n",
      "Wed Aug  2 20:26:27 2023\n",
      "Wed Aug  2 15:33:26 2023\n",
      "\n",
      " file : scoreData.txt\n",
      "\n",
      "33206\n",
      "281474976710739\n",
      "481518950\n",
      "1\n",
      "0\n",
      "0\n",
      "31\n",
      "Thu Aug  3 15:40:42 2023\n",
      "Fri Aug  4 14:29:09 2023\n",
      "Thu Aug  3 15:25:22 2023\n",
      "\n",
      " file : serial.ser\n",
      "\n",
      "33206\n",
      "281474976710743\n",
      "481518950\n",
      "1\n",
      "0\n",
      "0\n",
      "236\n",
      "Fri Aug  4 10:24:31 2023\n",
      "Mon Aug  7 09:44:11 2023\n",
      "Fri Aug  4 09:51:04 2023\n",
      "\n",
      " file : test.out\n",
      "\n",
      "33206\n",
      "281474976710725\n",
      "481518950\n",
      "1\n",
      "0\n",
      "0\n",
      "6\n",
      "Wed Aug  2 14:16:54 2023\n",
      "Wed Aug  2 15:25:25 2023\n",
      "Wed Aug  2 14:16:54 2023\n",
      "\n",
      " file : test.txt\n",
      "\n",
      "33206\n",
      "281474976710722\n",
      "481518950\n",
      "1\n",
      "0\n",
      "0\n",
      "219\n",
      "Wed Aug  2 12:12:44 2023\n",
      "Thu Aug  3 12:16:42 2023\n",
      "Wed Aug  2 11:39:50 2023\n",
      "\n",
      " file : write.txt\n",
      "\n",
      "33206\n",
      "844424930132044\n",
      "481518950\n",
      "1\n",
      "0\n",
      "0\n",
      "120\n",
      "Thu Aug  3 12:20:21 2023\n",
      "Thu Aug  3 12:36:44 2023\n",
      "Thu Aug  3 12:14:41 2023\n",
      "\n",
      "Path : D:/temp\\dir\n",
      "\n",
      "\n",
      "Path : D:/temp\\image\n",
      "\n",
      "\n",
      " file : gallery.jpg\n",
      "\n",
      "33206\n",
      "562949953421390\n",
      "481518950\n",
      "1\n",
      "0\n",
      "0\n",
      "583812\n",
      "Thu Aug  3 14:02:40 2023\n",
      "Thu Aug  3 14:56:54 2023\n",
      "Thu Aug  3 14:01:54 2023\n",
      "\n",
      " file : gallery_copy.jpg\n",
      "\n",
      "33206\n",
      "281474976710735\n",
      "481518950\n",
      "1\n",
      "0\n",
      "0\n",
      "583812\n",
      "Thu Aug  3 14:26:25 2023\n",
      "Fri Aug  4 09:48:14 2023\n",
      "Thu Aug  3 14:20:25 2023\n",
      "\n",
      " file : gallery_copy_01.jpg\n",
      "\n",
      "33206\n",
      "281474976710736\n",
      "481518950\n",
      "1\n",
      "0\n",
      "0\n",
      "583812\n",
      "Thu Aug  3 14:56:54 2023\n",
      "Thu Aug  3 14:56:56 2023\n",
      "Thu Aug  3 14:55:38 2023\n"
     ]
    }
   ],
   "source": [
    "import os, time\n",
    "from tkinter import filedialog\n",
    "def b(c):\n",
    "    (mode, ino, dev, nlink, uid, gid, size, atime, mtime, ctime)=os.stat(c)\n",
    "    print(mode)\n",
    "    print(ino)\n",
    "    print(dev)\n",
    "    print(nlink)\n",
    "    print(uid)\n",
    "    print(gid)\n",
    "    print(size)\n",
    "    modifiedTime = time.ctime(mtime)\n",
    "    accessTime = time.ctime(atime)\n",
    "    createdTime = time.ctime(ctime)\n",
    "    print(modifiedTime)\n",
    "    print(accessTime)\n",
    "    print(createdTime)\n",
    "a = filedialog.askdirectory()\n",
    "for (path, dirs, files) in os.walk(a):\n",
    "    print (\"\\nPath : \"+path+\"\\n\")\n",
    "    for file in files:\n",
    "        print(\"\\n file : \"+file+\"\\n\")\n",
    "        c = os.path.join(path, file)\n",
    "        b(c)"
   ]
  },
  {
   "cell_type": "code",
   "execution_count": null,
   "metadata": {},
   "outputs": [],
   "source": []
  }
 ],
 "metadata": {
  "kernelspec": {
   "display_name": "base",
   "language": "python",
   "name": "python3"
  },
  "language_info": {
   "codemirror_mode": {
    "name": "ipython",
    "version": 3
   },
   "file_extension": ".py",
   "mimetype": "text/x-python",
   "name": "python",
   "nbconvert_exporter": "python",
   "pygments_lexer": "ipython3",
   "version": "3.11.4"
  },
  "orig_nbformat": 4
 },
 "nbformat": 4,
 "nbformat_minor": 2
}
