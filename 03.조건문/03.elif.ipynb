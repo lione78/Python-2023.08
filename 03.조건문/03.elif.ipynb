{
 "cells": [
  {
   "cell_type": "markdown",
   "metadata": {},
   "source": [
    "## 3.3 if ~ elif ~ else"
   ]
  },
  {
   "cell_type": "code",
   "execution_count": 2,
   "metadata": {},
   "outputs": [],
   "source": [
    "import datetime\n",
    "now = datetime.datetime.now()"
   ]
  },
  {
   "cell_type": "code",
   "execution_count": 3,
   "metadata": {},
   "outputs": [
    {
     "name": "stdout",
     "output_type": "stream",
     "text": [
      "8월은 여름입니다.\n"
     ]
    }
   ],
   "source": [
    "if 3 <= now.month <= 5:\n",
    "    print(f'{now.month}월은 봄입니다.')\n",
    "if 6 <= now.month <= 8:\n",
    "    print(f'{now.month}월은 여름입니다.')\n",
    "if 9 <= now.month <= 11:\n",
    "    print(f'{now.month}월은 가을입니다.')\n",
    "if now.month >= 12 or now.month <= 2 :\n",
    "    print(f'{now.month}월은 겨울입니다.')"
   ]
  },
  {
   "cell_type": "code",
   "execution_count": 8,
   "metadata": {},
   "outputs": [
    {
     "name": "stdout",
     "output_type": "stream",
     "text": [
      "8월은 여름입니다.\n"
     ]
    }
   ],
   "source": [
    "if 3 <= now.month <= 5:\n",
    "    print(f'{now.month}월은 봄입니다.')\n",
    "elif 6 <= now.month <= 8:\n",
    "    print(f'{now.month}월은 여름입니다.')\n",
    "elif 9 <= now.month <= 11:\n",
    "    print(f'{now.month}월은 가을입니다.')\n",
    "else:\n",
    "    print(f'{now.month}월은 겨울입니다.')"
   ]
  },
  {
   "cell_type": "code",
   "execution_count": 5,
   "metadata": {},
   "outputs": [
    {
     "data": {
      "text/plain": [
       "(70, 'C')"
      ]
     },
     "execution_count": 5,
     "metadata": {},
     "output_type": "execute_result"
    }
   ],
   "source": [
    "# 90점 이상 - A, 80점 이상 - B, 70점 이상 - C, 60점 이상 - D, 60점 미만 - F\n",
    "# 조건 포함할때는 조심, 작은 것부터 조건을 줘야 함.\n",
    "import random\n",
    "score = random.randint(40, 100)\n",
    "if score >= 90:\n",
    "    grade = 'A'\n",
    "elif score >= 80:\n",
    "    grade = 'B'\n",
    "elif score >= 70:\n",
    "    grade = 'C'\n",
    "elif score >= 60:\n",
    "    grade = 'D'\n",
    "else:\n",
    "    grade = 'F'\n",
    "score, grade\n"
   ]
  },
  {
   "cell_type": "code",
   "execution_count": 15,
   "metadata": {},
   "outputs": [
    {
     "name": "stdout",
     "output_type": "stream",
     "text": [
      "2020년은 윤년입니다.\n"
     ]
    }
   ],
   "source": [
    "# 년도 입력, 윤년여부 판단 / 제일 작은 놈부터 if 걸어라!\n",
    "# 400 으로 나눠서 떨어지면 윤년, 100 으로 나눠서 떨어지면 평년\n",
    "# 4 로 나눠서 떨어지면 윤년(leap year) 아니면 평년\n",
    "year = int(input('년도 입력> '))\n",
    "if year % 400 == 0:\n",
    "    print(f'{year}년은 윤년입니다.')\n",
    "elif year % 100 == 0:\n",
    "    print(f'{year}년은 평년입니다.')\n",
    "elif year % 4 == 0:\n",
    "    print(f'{year}년은 윤년입니다.')\n",
    "else:\n",
    "    print(f'{year}년은 평년입니다.')"
   ]
  },
  {
   "cell_type": "code",
   "execution_count": 16,
   "metadata": {},
   "outputs": [
    {
     "data": {
      "text/plain": [
       "(1978, 9, 6)"
      ]
     },
     "execution_count": 16,
     "metadata": {},
     "output_type": "execute_result"
    }
   ],
   "source": [
    "# 생년월일을 입력으로 받아, 오늘 날짜의 만 나이를 구하시오.\n",
    "b_year, b_month, b_day = map(int, input('생년월일 입력>').split())\n",
    "b_year, b_month, b_day"
   ]
  },
  {
   "cell_type": "code",
   "execution_count": 20,
   "metadata": {},
   "outputs": [
    {
     "data": {
      "text/plain": [
       "(2023, 8, 29)"
      ]
     },
     "execution_count": 20,
     "metadata": {},
     "output_type": "execute_result"
    }
   ],
   "source": [
    "t_year, t_month, t_day = now.year, now.month, now.day\n",
    "t_year, t_month, t_day"
   ]
  },
  {
   "cell_type": "code",
   "execution_count": 24,
   "metadata": {},
   "outputs": [
    {
     "data": {
      "text/plain": [
       "44"
      ]
     },
     "execution_count": 24,
     "metadata": {},
     "output_type": "execute_result"
    }
   ],
   "source": [
    "# 월이 같으면, 날에 따라 달라짐.\n",
    "if b_month > t_month:           # 생일이 안지남.\n",
    "    age = t_year - b_year -1\n",
    "elif b_month == t_month:\n",
    "    if(b_day > t_day):\n",
    "        age = t_year - b_year -1\n",
    "    else:\n",
    "        age = t_year - b_year\n",
    "else:\n",
    "    age = t_year - b_year\n",
    "age"
   ]
  },
  {
   "cell_type": "code",
   "execution_count": 25,
   "metadata": {},
   "outputs": [
    {
     "data": {
      "text/plain": [
       "44"
      ]
     },
     "execution_count": 25,
     "metadata": {},
     "output_type": "execute_result"
    }
   ],
   "source": [
    "if b_month * 100 + b_day <= t_month * 100 + t_day:\n",
    "    age = t_year - b_year\n",
    "else:\n",
    "    age = t_year - b_year - 1\n",
    "age"
   ]
  },
  {
   "cell_type": "markdown",
   "metadata": {},
   "source": [
    "- False로 변환되는 값"
   ]
  },
  {
   "cell_type": "code",
   "execution_count": 26,
   "metadata": {},
   "outputs": [
    {
     "name": "stdout",
     "output_type": "stream",
     "text": [
      "44\n"
     ]
    }
   ],
   "source": [
    "if age:\n",
    "    print(age)"
   ]
  },
  {
   "cell_type": "code",
   "execution_count": 29,
   "metadata": {},
   "outputs": [
    {
     "data": {
      "text/plain": [
       "(True, False, False, True)"
      ]
     },
     "execution_count": 29,
     "metadata": {},
     "output_type": "execute_result"
    }
   ],
   "source": [
    "bool(1), bool(0), bool(0.0), bool(2)"
   ]
  },
  {
   "cell_type": "code",
   "execution_count": 28,
   "metadata": {},
   "outputs": [
    {
     "data": {
      "text/plain": [
       "(True, False, False)"
      ]
     },
     "execution_count": 28,
     "metadata": {},
     "output_type": "execute_result"
    }
   ],
   "source": [
    "bool('a'), bool(''), bool(None)"
   ]
  },
  {
   "cell_type": "code",
   "execution_count": 30,
   "metadata": {},
   "outputs": [
    {
     "data": {
      "text/plain": [
       "(False, False, False)"
      ]
     },
     "execution_count": 30,
     "metadata": {},
     "output_type": "execute_result"
    }
   ],
   "source": [
    "# empty list, empty typle, empty dictionary / 여기서 False 나오는 값외에는 True\n",
    "bool([]), bool(()), bool({})"
   ]
  },
  {
   "cell_type": "code",
   "execution_count": null,
   "metadata": {},
   "outputs": [],
   "source": []
  }
 ],
 "metadata": {
  "kernelspec": {
   "display_name": "base",
   "language": "python",
   "name": "python3"
  },
  "language_info": {
   "codemirror_mode": {
    "name": "ipython",
    "version": 3
   },
   "file_extension": ".py",
   "mimetype": "text/x-python",
   "name": "python",
   "nbconvert_exporter": "python",
   "pygments_lexer": "ipython3",
   "version": "3.11.4"
  },
  "orig_nbformat": 4
 },
 "nbformat": 4,
 "nbformat_minor": 2
}
