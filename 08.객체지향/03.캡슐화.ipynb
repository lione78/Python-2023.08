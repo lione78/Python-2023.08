{
 "cells": [
  {
   "cell_type": "markdown",
   "metadata": {},
   "source": [
    "### 8.3 캡슐화(Capsulation)\n",
    "- 속성값, 메소드 이름에 __ 를 붙이면 비공개 속성"
   ]
  },
  {
   "cell_type": "code",
   "execution_count": 2,
   "metadata": {},
   "outputs": [],
   "source": [
    "class Tmoney:\n",
    "    def __init__(self, age, balance):\n",
    "        self.age = age\n",
    "        self.__balance = balance\n",
    "        self.fare = 1350 if self.age >= 19 else \\\n",
    "                        1050 if 13 <= self.age <= 18 else \\\n",
    "                            650 if 7 <= self.age <= 12 else 0\n",
    "    \n",
    "    def pay(self):\n",
    "        if self.fare <= self.__balance:\n",
    "            self.__balance -= self.fare\n",
    "            print(f'{self.age}살의 요금은 {self.fare}이고, 잔액은 {self.__balance:,d}입니다.')\n",
    "        else:\n",
    "            print('잔액이 부족합니다.')\n",
    "    \n",
    "    def charge(self, amount):       # setter\n",
    "        self.__balance += amount\n",
    "        print(f'{amount:,d}원을 충전하였고, 잔액은 {self.__balance:,d}원입니다.')\n",
    "\n",
    "    def get_balance(self):\n",
    "        return self.__balance"
   ]
  },
  {
   "cell_type": "code",
   "execution_count": 3,
   "metadata": {},
   "outputs": [
    {
     "data": {
      "text/plain": [
       "25"
      ]
     },
     "execution_count": 3,
     "metadata": {},
     "output_type": "execute_result"
    }
   ],
   "source": [
    "card = Tmoney(25, 10000)\n",
    "card.age"
   ]
  },
  {
   "cell_type": "code",
   "execution_count": 4,
   "metadata": {},
   "outputs": [
    {
     "ename": "AttributeError",
     "evalue": "'Tmoney' object has no attribute '__balance'",
     "output_type": "error",
     "traceback": [
      "\u001b[1;31m---------------------------------------------------------------------------\u001b[0m",
      "\u001b[1;31mAttributeError\u001b[0m                            Traceback (most recent call last)",
      "Cell \u001b[1;32mIn[4], line 1\u001b[0m\n\u001b[1;32m----> 1\u001b[0m card\u001b[39m.\u001b[39m__balance\n",
      "\u001b[1;31mAttributeError\u001b[0m: 'Tmoney' object has no attribute '__balance'"
     ]
    }
   ],
   "source": [
    "# balance는 비공개 속성이므로 속성을 직접적으로 액세스할 수 없음.\n",
    "card.__balance"
   ]
  },
  {
   "cell_type": "code",
   "execution_count": 6,
   "metadata": {},
   "outputs": [
    {
     "data": {
      "text/plain": [
       "10000"
      ]
     },
     "execution_count": 6,
     "metadata": {},
     "output_type": "execute_result"
    }
   ],
   "source": [
    "card.get_balance()"
   ]
  },
  {
   "cell_type": "code",
   "execution_count": 7,
   "metadata": {},
   "outputs": [
    {
     "name": "stdout",
     "output_type": "stream",
     "text": [
      "25살의 요금은 1350이고, 잔액은 8,650입니다.\n",
      "25살의 요금은 1350이고, 잔액은 7,300입니다.\n",
      "25살의 요금은 1350이고, 잔액은 5,950입니다.\n",
      "25살의 요금은 1350이고, 잔액은 4,600입니다.\n",
      "25살의 요금은 1350이고, 잔액은 3,250입니다.\n",
      "25살의 요금은 1350이고, 잔액은 1,900입니다.\n",
      "25살의 요금은 1350이고, 잔액은 550입니다.\n",
      "잔액이 부족합니다.\n",
      "잔액이 부족합니다.\n",
      "잔액이 부족합니다.\n"
     ]
    }
   ],
   "source": [
    "for i in range(10):\n",
    "    card.pay()"
   ]
  },
  {
   "cell_type": "markdown",
   "metadata": {},
   "source": [
    "- 비공개 메소드"
   ]
  },
  {
   "cell_type": "code",
   "execution_count": 6,
   "metadata": {},
   "outputs": [],
   "source": [
    "class Worker:\n",
    "    def __greeting(self):\n",
    "        print('__greeting(): Hello everyone')"
   ]
  },
  {
   "cell_type": "code",
   "execution_count": 7,
   "metadata": {},
   "outputs": [
    {
     "ename": "AttributeError",
     "evalue": "'Worker' object has no attribute '__greeting'",
     "output_type": "error",
     "traceback": [
      "\u001b[1;31m---------------------------------------------------------------------------\u001b[0m",
      "\u001b[1;31mAttributeError\u001b[0m                            Traceback (most recent call last)",
      "Cell \u001b[1;32mIn[7], line 2\u001b[0m\n\u001b[0;32m      1\u001b[0m worker \u001b[39m=\u001b[39m Worker()\n\u001b[1;32m----> 2\u001b[0m worker\u001b[39m.\u001b[39m__greeting()\n",
      "\u001b[1;31mAttributeError\u001b[0m: 'Worker' object has no attribute '__greeting'"
     ]
    }
   ],
   "source": [
    "worker = Worker()\n",
    "worker.__greeting()"
   ]
  },
  {
   "cell_type": "code",
   "execution_count": 8,
   "metadata": {},
   "outputs": [],
   "source": [
    "class Worker:\n",
    "    def __greeting(self):\n",
    "        print('__greeting(): Hello everyone')\n",
    "    \n",
    "    def hello(self):\n",
    "        self.__greeting()"
   ]
  },
  {
   "cell_type": "code",
   "execution_count": 9,
   "metadata": {},
   "outputs": [
    {
     "name": "stdout",
     "output_type": "stream",
     "text": [
      "__greeting(): Hello everyone\n"
     ]
    }
   ],
   "source": [
    "worker = Worker()\n",
    "worker.hello()"
   ]
  },
  {
   "cell_type": "code",
   "execution_count": null,
   "metadata": {},
   "outputs": [],
   "source": []
  }
 ],
 "metadata": {
  "kernelspec": {
   "display_name": "base",
   "language": "python",
   "name": "python3"
  },
  "language_info": {
   "codemirror_mode": {
    "name": "ipython",
    "version": 3
   },
   "file_extension": ".py",
   "mimetype": "text/x-python",
   "name": "python",
   "nbconvert_exporter": "python",
   "pygments_lexer": "ipython3",
   "version": "3.11.4"
  },
  "orig_nbformat": 4
 },
 "nbformat": 4,
 "nbformat_minor": 2
}
